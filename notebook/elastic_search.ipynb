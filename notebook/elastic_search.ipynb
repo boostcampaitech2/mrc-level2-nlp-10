{
 "cells": [
  {
   "cell_type": "code",
   "execution_count": 41,
   "metadata": {},
   "outputs": [
    {
     "data": {
      "text/plain": [
       "{'name': 'e4e1b4447e20',\n",
       " 'cluster_name': 'elasticsearch',\n",
       " 'cluster_uuid': 'DNoCuE3RTv2p_fQWsmn1YA',\n",
       " 'version': {'number': '7.15.1',\n",
       "  'build_flavor': 'default',\n",
       "  'build_type': 'deb',\n",
       "  'build_hash': '83c34f456ae29d60e94d886e455e6a3409bba9ed',\n",
       "  'build_date': '2021-10-07T21:56:19.031608185Z',\n",
       "  'build_snapshot': False,\n",
       "  'lucene_version': '8.9.0',\n",
       "  'minimum_wire_compatibility_version': '6.8.0',\n",
       "  'minimum_index_compatibility_version': '6.0.0-beta1'},\n",
       " 'tagline': 'You Know, for Search'}"
      ]
     },
     "execution_count": 41,
     "metadata": {},
     "output_type": "execute_result"
    }
   ],
   "source": [
    "from elasticsearch import Elasticsearch\n",
    "es = Elasticsearch('localhost:9200')\n",
    "es.info()"
   ]
  },
  {
   "cell_type": "code",
   "execution_count": 42,
   "metadata": {},
   "outputs": [],
   "source": [
    "path = '/opt/ml/data/wikipedia_documents.json'"
   ]
  },
  {
   "cell_type": "code",
   "execution_count": 43,
   "metadata": {},
   "outputs": [],
   "source": [
    "import json #json 수정하려고 열음\n",
    "with open(path, 'r') as f:\n",
    "    wiki = json.load(f)"
   ]
  },
  {
   "cell_type": "code",
   "execution_count": 44,
   "metadata": {},
   "outputs": [],
   "source": [
    "for i in range(len(wiki)):\n",
    "    del wiki[str(i)]['corpus_source']# 필요없는거 삭제\n",
    "    del wiki[str(i)]['domain']\n",
    "    del wiki[str(i)]['author']\n",
    "    del wiki[str(i)]['html']\n",
    "    del wiki[str(i)]['document_id']\n",
    "    del wiki[str(i)]['url']"
   ]
  },
  {
   "cell_type": "code",
   "execution_count": 45,
   "metadata": {},
   "outputs": [
    {
     "data": {
      "text/plain": [
       "'이 문서는 나라 목록이며, 전 세계 206개 나라의 각 현황과 주권 승인 정보를 개요 형태로 나열하고 있다.\\n\\n이 목록은 명료화를 위해 두 부분으로 나뉘어 있다.\\n\\n# 첫 번째 부분은 바티칸 시국과 팔레스타인을 포함하여 유엔 등 국제 기구에 가입되어 국제적인 승인을 널리 받았다고 여기는 195개 나라를 나열하고 있다.\\n# 두 번째 부분은 일부 지역의 주권을 사실상 (데 팍토) 행사하고 있지만, 아직 국제적인 승인을 널리 받지 않았다고 여기는 11개 나라를 나열하고 있다.\\n\\n두 목록은 모두 가나다 순이다.\\n\\n일부 국가의 경우 국가로서의 자격에 논쟁의 여부가 있으며, 이 때문에 이러한 목록을 엮는 것은 매우 어렵고 논란이 생길 수 있는 과정이다. 이 목록을 구성하고 있는 국가를 선정하는 기준에 대한 정보는 \"포함 기준\" 단락을 통해 설명하였다. 나라에 대한 일반적인 정보는 \"국가\" 문서에서 설명하고 있다.'"
      ]
     },
     "execution_count": 45,
     "metadata": {},
     "output_type": "execute_result"
    }
   ],
   "source": [
    "wiki['0']['text']"
   ]
  },
  {
   "cell_type": "code",
   "execution_count": 46,
   "metadata": {},
   "outputs": [],
   "source": [
    "import re\n",
    "for i in range(len(wiki)):\n",
    "    temp = wiki[f'{i}']['text']\n",
    "    temp = re.sub('[#*~\"\\\"]','',temp)\n",
    "    temp = temp.split('\\n')\n",
    "    temp = [s.strip() for s in temp]\n",
    "    temp = list(filter(None, temp))\n",
    "    temp = ' '.join(temp)\n",
    "    wiki[f'{i}']['text'] = temp"
   ]
  },
  {
   "cell_type": "code",
   "execution_count": 47,
   "metadata": {},
   "outputs": [
    {
     "data": {
      "text/plain": [
       "{'text': '이 문서는 나라 목록이며, 전 세계 206개 나라의 각 현황과 주권 승인 정보를 개요 형태로 나열하고 있다. 이 목록은 명료화를 위해 두 부분으로 나뉘어 있다. 첫 번째 부분은 바티칸 시국과 팔레스타인을 포함하여 유엔 등 국제 기구에 가입되어 국제적인 승인을 널리 받았다고 여기는 195개 나라를 나열하고 있다. 두 번째 부분은 일부 지역의 주권을 사실상 (데 팍토) 행사하고 있지만, 아직 국제적인 승인을 널리 받지 않았다고 여기는 11개 나라를 나열하고 있다. 두 목록은 모두 가나다 순이다. 일부 국가의 경우 국가로서의 자격에 논쟁의 여부가 있으며, 이 때문에 이러한 목록을 엮는 것은 매우 어렵고 논란이 생길 수 있는 과정이다. 이 목록을 구성하고 있는 국가를 선정하는 기준에 대한 정보는 포함 기준 단락을 통해 설명하였다. 나라에 대한 일반적인 정보는 국가 문서에서 설명하고 있다.',\n",
       " 'title': '나라 목록'}"
      ]
     },
     "execution_count": 47,
     "metadata": {},
     "output_type": "execute_result"
    }
   ],
   "source": [
    "wiki['0']"
   ]
  },
  {
   "cell_type": "code",
   "execution_count": 48,
   "metadata": {},
   "outputs": [],
   "source": [
    "INDEX_NAME = 'wiki'\n",
    "index_config = {\n",
    "        \"settings\": {\n",
    "            \"analysis\": {\n",
    "                \"filter\":{\n",
    "                    \"my_stop_filter\": { \n",
    "                        \"type\" : \"stop\",\n",
    "                        \"stopwords_path\" : \"my_stopwords.txt\" # /etc/elastic안에 txt파일이 존재해야 댑니다\n",
    "                    }\n",
    "                },\n",
    "                \"analyzer\": {\n",
    "                    \"nori_analyzer\": {\n",
    "                        \"type\": \"custom\",\n",
    "                        \"tokenizer\": \"nori_tokenizer\", # 노리 형태소 깔아야대는데 에러나면 맨위에 참고해서 깔기\n",
    "                        \"decompound_mode\": \"mixed\",\n",
    "                        \"filter\" : [\"my_stop_filter\"]# 위에서 정의한 stopword\n",
    "                    }\n",
    "                }\n",
    "            }\n",
    "        },\n",
    "        \"mappings\": {\n",
    "            \"dynamic\": \"strict\", # 먼지 잘모르겟\n",
    "            \"properties\": {\n",
    "                \"text\": {\"type\": \"text\", \"analyzer\": \"nori_analyzer\"},\n",
    "                \"title\":{\"type\": \"text\"}\n",
    "                }\n",
    "            }\n",
    "        }"
   ]
  },
  {
   "cell_type": "code",
   "execution_count": 49,
   "metadata": {},
   "outputs": [
    {
     "name": "stderr",
     "output_type": "stream",
     "text": [
      "<ipython-input-49-c1b8263f83d6>:3: DeprecationWarning: The 'body' parameter is deprecated for the 'create' API and will be removed in a future version. Instead use API parameters directly. See https://github.com/elastic/elasticsearch-py/issues/1698 for more information\n",
      "  es.indices.create(index=INDEX_NAME, body=index_config)\n"
     ]
    },
    {
     "data": {
      "text/plain": [
       "{'acknowledged': True, 'shards_acknowledged': True, 'index': 'wiki'}"
      ]
     },
     "execution_count": 49,
     "metadata": {},
     "output_type": "execute_result"
    }
   ],
   "source": [
    "if es.indices.exists(index=INDEX_NAME):\n",
    "    es.indices.delete(index=INDEX_NAME)\n",
    "es.indices.create(index=INDEX_NAME, body=index_config)"
   ]
  },
  {
   "cell_type": "code",
   "execution_count": 50,
   "metadata": {},
   "outputs": [
    {
     "name": "stderr",
     "output_type": "stream",
     "text": [
      "  0%|          | 0/60613 [00:00<?, ?it/s]<ipython-input-50-5a9fb178b7ff>:6: DeprecationWarning: The 'body' parameter is deprecated for the 'index' API and will be removed in a future version. Instead use the 'document' parameter. See https://github.com/elastic/elasticsearch-py/issues/1698 for more information\n",
      "  es.index(index=INDEX_NAME, id=doc_id, body=doc)\n",
      "100%|██████████| 60613/60613 [05:25<00:00, 186.24it/s]\n"
     ]
    }
   ],
   "source": [
    "import time\n",
    "import tqdm\n",
    "\n",
    "for doc_id, doc in tqdm.tqdm(wiki.items(),total=len(wiki)):\n",
    "    \n",
    "    es.index(index=INDEX_NAME, id=doc_id, body=doc)\n",
    "    # time.sleep(0.1) # 문서집어넣기 time슬립너어야 에러 안걸림 (너무빨리 문서를 호출해서)"
   ]
  },
  {
   "cell_type": "code",
   "execution_count": 51,
   "metadata": {},
   "outputs": [],
   "source": [
    "import pprint\n",
    "# doc = es.get(index=INDEX_NAME, id=60000)#\n",
    "# pprint.pprint(doc)"
   ]
  },
  {
   "cell_type": "code",
   "execution_count": 52,
   "metadata": {},
   "outputs": [],
   "source": [
    "tv = es.termvectors(index=INDEX_NAME, id=2, body={\"fields\" : [\"content\",\"title\"]})"
   ]
  },
  {
   "cell_type": "code",
   "execution_count": 53,
   "metadata": {},
   "outputs": [
    {
     "name": "stdout",
     "output_type": "stream",
     "text": [
      "{'_id': '2',\n",
      " '_index': 'wiki',\n",
      " '_type': '_doc',\n",
      " '_version': 1,\n",
      " 'found': True,\n",
      " 'term_vectors': {'title': {'field_statistics': {'doc_count': 5747,\n",
      "                                                 'sum_doc_freq': 9373,\n",
      "                                                 'sum_ttf': 9378},\n",
      "                            'terms': {'백남준': {'term_freq': 1,\n",
      "                                              'tokens': [{'end_offset': 3,\n",
      "                                                          'position': 0,\n",
      "                                                          'start_offset': 0}]}}}},\n",
      " 'took': 0}\n"
     ]
    }
   ],
   "source": [
    "pprint.pprint(tv)"
   ]
  },
  {
   "cell_type": "code",
   "execution_count": 54,
   "metadata": {},
   "outputs": [],
   "source": [
    "from datasets import load_dataset"
   ]
  },
  {
   "cell_type": "code",
   "execution_count": 55,
   "metadata": {},
   "outputs": [
    {
     "data": {
      "text/plain": [
       "DatasetDict({\n",
       "    validation: Dataset({\n",
       "        features: ['question', 'id'],\n",
       "        num_rows: 600\n",
       "    })\n",
       "})"
      ]
     },
     "execution_count": 55,
     "metadata": {},
     "output_type": "execute_result"
    }
   ],
   "source": [
    "import datasets\n",
    "import pandas as pd\n",
    "import re\n",
    "import pandas as pd\n",
    "from datasets import load_from_disk\n",
    "trainpath = \"/opt/ml/data/train_dataset\"\n",
    "testpath = '/opt/ml/data/test_dataset'\n",
    "datasets = load_from_disk(testpath)\n",
    "datasets"
   ]
  },
  {
   "cell_type": "code",
   "execution_count": 56,
   "metadata": {},
   "outputs": [
    {
     "data": {
      "text/plain": [
       "600"
      ]
     },
     "execution_count": 56,
     "metadata": {},
     "output_type": "execute_result"
    }
   ],
   "source": [
    "query = datasets['validation']['question']\n",
    "# ground_truth = datasets['validation']['context']\n",
    "id = datasets['validation']['id']\n",
    "len(query)"
   ]
  },
  {
   "cell_type": "code",
   "execution_count": 57,
   "metadata": {},
   "outputs": [
    {
     "data": {
      "text/plain": [
       "'mrc-1-000653'"
      ]
     },
     "execution_count": 57,
     "metadata": {},
     "output_type": "execute_result"
    }
   ],
   "source": [
    "id[0]"
   ]
  },
  {
   "cell_type": "code",
   "execution_count": 58,
   "metadata": {},
   "outputs": [],
   "source": [
    "correct = 0\n",
    "total = []\n",
    "for i, q in enumerate(query):\n",
    "    q = q.replace('~','-')\n",
    "    res = es.search(index=INDEX_NAME, q=q, size=3)\n",
    "    # print('query : ', q)\n",
    "    # print('id : ', id[i])\n",
    "    # print(res)\n",
    "    tmp = {\n",
    "        'id':id[i],\n",
    "        'text1':res['hits']['hits'][0]['_source']['text'],\n",
    "        'text2':res['hits']['hits'][1]['_source']['text'],\n",
    "        'text3':res['hits']['hits'][2]['_source']['text'],\n",
    "    }\n",
    "    total.append(tmp)\n",
    "    \n",
    "    # context = res['hits']['hits']\n",
    "    # print(q)\n",
    "    # print(context)\n",
    "    # print('='*100)\n",
    "\n",
    "\n",
    "# print('% : ', correct/len(query))"
   ]
  },
  {
   "cell_type": "code",
   "execution_count": 59,
   "metadata": {},
   "outputs": [
    {
     "data": {
      "text/html": [
       "<div>\n",
       "<style scoped>\n",
       "    .dataframe tbody tr th:only-of-type {\n",
       "        vertical-align: middle;\n",
       "    }\n",
       "\n",
       "    .dataframe tbody tr th {\n",
       "        vertical-align: top;\n",
       "    }\n",
       "\n",
       "    .dataframe thead th {\n",
       "        text-align: right;\n",
       "    }\n",
       "</style>\n",
       "<table border=\"1\" class=\"dataframe\">\n",
       "  <thead>\n",
       "    <tr style=\"text-align: right;\">\n",
       "      <th></th>\n",
       "      <th>id</th>\n",
       "      <th>text1</th>\n",
       "      <th>text2</th>\n",
       "      <th>text3</th>\n",
       "    </tr>\n",
       "  </thead>\n",
       "  <tbody>\n",
       "    <tr>\n",
       "      <th>0</th>\n",
       "      <td>mrc-1-000653</td>\n",
       "      <td>더크 젠틀리의 성스러운 탐정사무소의 줄거리는 이야기의 중추적인 부위에 자리잡은 시간...</td>\n",
       "      <td>글리제 581 g는 천칭자리 방향으로 지구로부터 약 20.5광년 떨어진 적색 왜성 ...</td>\n",
       "      <td>지구 근접 소행성(地球近接小行星)은 지구 궤도와 교차하는 궤도를 가진 소행성으로, ...</td>\n",
       "    </tr>\n",
       "    <tr>\n",
       "      <th>1</th>\n",
       "      <td>mrc-1-001113</td>\n",
       "      <td>냉전 종식 이후 전 세계적으로 소규모의 끊임없는 국지 분쟁들이 생겨나고 강대국들의 ...</td>\n",
       "      <td>SK에서 방출된 이후 그는 일본을 여행하며 잠시 신변을 정리하고 있었다. 그 때 좌...</td>\n",
       "      <td>2014년 1월 10일 KBO 리그 LG 트윈스와 계약하며 2013년 이후 방출된 ...</td>\n",
       "    </tr>\n",
       "    <tr>\n",
       "      <th>2</th>\n",
       "      <td>mrc-0-002191</td>\n",
       "      <td>1933년 3월, 투표 과정의 위법성에 대한 문제제기가 불거졌다. 당시 오스트리아 ...</td>\n",
       "      <td>돌푸스는 니더외스터라이히주의 텍싱탈에서 싱글맘이자 신실한 가톨릭교인인 어머니 밑에서...</td>\n",
       "      <td>; 디오의 성 : 1부의 무대. 흡혈귀 디오가 근거지로 하고 있던 곳이다. 배경에는...</td>\n",
       "    </tr>\n",
       "    <tr>\n",
       "      <th>3</th>\n",
       "      <td>mrc-0-003951</td>\n",
       "      <td>유럽인들의 아메리카와 오세아니아 식민지화로 인해 아메리카와 오세아니아의 문화적, 민...</td>\n",
       "      <td>멕시코의 언어는 다양하고 그 중 스페인어가 가장 널리 쓰인다. 멕시코 원주민 언어들...</td>\n",
       "      <td>농아인 공동체는 멕시코 수화와 유카탄 수화를 사용하고, 바하칼리포르니아주 북부에서는...</td>\n",
       "    </tr>\n",
       "    <tr>\n",
       "      <th>4</th>\n",
       "      <td>mrc-1-001272</td>\n",
       "      <td>1926년 학생 시절 베트남청년혁명당에 가입했고 1930년에 학생 파업을 지지했다는...</td>\n",
       "      <td>제1차 인도차이나 전쟁 중에는 프랑스 공군의 깟비 공군기지로 이용되었다. 1954년...</td>\n",
       "      <td>그는 1940년대에 자신의 군사 경력을 시작하여 프랑스 식민지 육군에 입대하였다. ...</td>\n",
       "    </tr>\n",
       "    <tr>\n",
       "      <th>...</th>\n",
       "      <td>...</td>\n",
       "      <td>...</td>\n",
       "      <td>...</td>\n",
       "      <td>...</td>\n",
       "    </tr>\n",
       "    <tr>\n",
       "      <th>595</th>\n",
       "      <td>mrc-0-002989</td>\n",
       "      <td>재단 X가 슈라우드(=소노자키 후미네)가 개발한 가이아 메모리의 테크놀로지를 분석,...</td>\n",
       "      <td>후토 타워의 완공 30주년이 되는 해의 여름, A에서 Z까지의 26개의 차세대 가이...</td>\n",
       "      <td>NEVER(NEVER(ネバー)|네바)는 다이도 카츠미가 이끄는 세계적으로 악명 높은...</td>\n",
       "    </tr>\n",
       "    <tr>\n",
       "      <th>596</th>\n",
       "      <td>mrc-0-001804</td>\n",
       "      <td>과거의 죄악에 대한 소급입법 적용을 반대하였다. 4.19 혁명 당시 사망한 사망자의...</td>\n",
       "      <td>과거의 죄악에 대한 소급입법 적용을 반대하였다. 4.19 혁명 당시 사망한 사망자의...</td>\n",
       "      <td>4.19 의거나 3.15 부정선거 당시 학생 시위 진압자에 대한 미온적인 처벌이 논...</td>\n",
       "    </tr>\n",
       "    <tr>\n",
       "      <th>597</th>\n",
       "      <td>mrc-0-003411</td>\n",
       "      <td>2005년(제56회 / 지바 롯데 마린스 대 한신 타이거스 1차전·10월 22일, ...</td>\n",
       "      <td>콜드게임(called game)이란 야구나 소프트볼 등의 운동경기에서 심판에 의하여...</td>\n",
       "      <td>《디스아너드 2》(Dishonored 2)는 아케인 스튜디오가 개발하고 베데스다 소...</td>\n",
       "    </tr>\n",
       "    <tr>\n",
       "      <th>598</th>\n",
       "      <td>mrc-0-003436</td>\n",
       "      <td>주노 해변\\n\\n주노 해변은 쿠르쇨르메르의 양쪽으로 뻗은 5마일 정도의 해변이었다....</td>\n",
       "      <td>제3사단은 치명적인 운명을 맞은 영국 해외원정군의 일부였다. 이들은 제2차 세계 대...</td>\n",
       "      <td>캐나다군은 독일군의 베리에르 능선 방어가 여전히 철저하다는 것을 알고 있었다.D'E...</td>\n",
       "    </tr>\n",
       "    <tr>\n",
       "      <th>599</th>\n",
       "      <td>mrc-0-002605</td>\n",
       "      <td>구립운석(球粒隕石, 콘드라이트)는 석질운석의 일종으로, 운석의 원석이 용융이나 분화...</td>\n",
       "      <td>메티스의 크기는 60×40×34 km로, 4개 내부 위성들 중 2번째로 작다. 사이...</td>\n",
       "      <td>2006년 7월 착공을 시작으로 같은 달 마포구립 서강도서관 설치에 관한 조례가 제...</td>\n",
       "    </tr>\n",
       "  </tbody>\n",
       "</table>\n",
       "<p>600 rows × 4 columns</p>\n",
       "</div>"
      ],
      "text/plain": [
       "               id                                              text1  \\\n",
       "0    mrc-1-000653  더크 젠틀리의 성스러운 탐정사무소의 줄거리는 이야기의 중추적인 부위에 자리잡은 시간...   \n",
       "1    mrc-1-001113  냉전 종식 이후 전 세계적으로 소규모의 끊임없는 국지 분쟁들이 생겨나고 강대국들의 ...   \n",
       "2    mrc-0-002191  1933년 3월, 투표 과정의 위법성에 대한 문제제기가 불거졌다. 당시 오스트리아 ...   \n",
       "3    mrc-0-003951  유럽인들의 아메리카와 오세아니아 식민지화로 인해 아메리카와 오세아니아의 문화적, 민...   \n",
       "4    mrc-1-001272  1926년 학생 시절 베트남청년혁명당에 가입했고 1930년에 학생 파업을 지지했다는...   \n",
       "..            ...                                                ...   \n",
       "595  mrc-0-002989  재단 X가 슈라우드(=소노자키 후미네)가 개발한 가이아 메모리의 테크놀로지를 분석,...   \n",
       "596  mrc-0-001804  과거의 죄악에 대한 소급입법 적용을 반대하였다. 4.19 혁명 당시 사망한 사망자의...   \n",
       "597  mrc-0-003411  2005년(제56회 / 지바 롯데 마린스 대 한신 타이거스 1차전·10월 22일, ...   \n",
       "598  mrc-0-003436  주노 해변\\n\\n주노 해변은 쿠르쇨르메르의 양쪽으로 뻗은 5마일 정도의 해변이었다....   \n",
       "599  mrc-0-002605  구립운석(球粒隕石, 콘드라이트)는 석질운석의 일종으로, 운석의 원석이 용융이나 분화...   \n",
       "\n",
       "                                                 text2  \\\n",
       "0    글리제 581 g는 천칭자리 방향으로 지구로부터 약 20.5광년 떨어진 적색 왜성 ...   \n",
       "1    SK에서 방출된 이후 그는 일본을 여행하며 잠시 신변을 정리하고 있었다. 그 때 좌...   \n",
       "2    돌푸스는 니더외스터라이히주의 텍싱탈에서 싱글맘이자 신실한 가톨릭교인인 어머니 밑에서...   \n",
       "3    멕시코의 언어는 다양하고 그 중 스페인어가 가장 널리 쓰인다. 멕시코 원주민 언어들...   \n",
       "4    제1차 인도차이나 전쟁 중에는 프랑스 공군의 깟비 공군기지로 이용되었다. 1954년...   \n",
       "..                                                 ...   \n",
       "595  후토 타워의 완공 30주년이 되는 해의 여름, A에서 Z까지의 26개의 차세대 가이...   \n",
       "596  과거의 죄악에 대한 소급입법 적용을 반대하였다. 4.19 혁명 당시 사망한 사망자의...   \n",
       "597  콜드게임(called game)이란 야구나 소프트볼 등의 운동경기에서 심판에 의하여...   \n",
       "598  제3사단은 치명적인 운명을 맞은 영국 해외원정군의 일부였다. 이들은 제2차 세계 대...   \n",
       "599  메티스의 크기는 60×40×34 km로, 4개 내부 위성들 중 2번째로 작다. 사이...   \n",
       "\n",
       "                                                 text3  \n",
       "0    지구 근접 소행성(地球近接小行星)은 지구 궤도와 교차하는 궤도를 가진 소행성으로, ...  \n",
       "1    2014년 1월 10일 KBO 리그 LG 트윈스와 계약하며 2013년 이후 방출된 ...  \n",
       "2    ; 디오의 성 : 1부의 무대. 흡혈귀 디오가 근거지로 하고 있던 곳이다. 배경에는...  \n",
       "3    농아인 공동체는 멕시코 수화와 유카탄 수화를 사용하고, 바하칼리포르니아주 북부에서는...  \n",
       "4    그는 1940년대에 자신의 군사 경력을 시작하여 프랑스 식민지 육군에 입대하였다. ...  \n",
       "..                                                 ...  \n",
       "595  NEVER(NEVER(ネバー)|네바)는 다이도 카츠미가 이끄는 세계적으로 악명 높은...  \n",
       "596  4.19 의거나 3.15 부정선거 당시 학생 시위 진압자에 대한 미온적인 처벌이 논...  \n",
       "597  《디스아너드 2》(Dishonored 2)는 아케인 스튜디오가 개발하고 베데스다 소...  \n",
       "598  캐나다군은 독일군의 베리에르 능선 방어가 여전히 철저하다는 것을 알고 있었다.D'E...  \n",
       "599  2006년 7월 착공을 시작으로 같은 달 마포구립 서강도서관 설치에 관한 조례가 제...  \n",
       "\n",
       "[600 rows x 4 columns]"
      ]
     },
     "execution_count": 59,
     "metadata": {},
     "output_type": "execute_result"
    }
   ],
   "source": [
    "import pandas as pd\n",
    "df = pd.DataFrame(total)\n",
    "df\n"
   ]
  },
  {
   "cell_type": "code",
   "execution_count": 60,
   "metadata": {},
   "outputs": [],
   "source": [
    "df.to_csv('../add_context_test_dataset.csv')"
   ]
  }
 ],
 "metadata": {
  "interpreter": {
   "hash": "d4d1e4263499bec80672ea0156c357c1ee493ec2b1c70f0acce89fc37c4a6abe"
  },
  "kernelspec": {
   "display_name": "Python 3.8.5 64-bit ('base': conda)",
   "name": "python3"
  },
  "language_info": {
   "codemirror_mode": {
    "name": "ipython",
    "version": 3
   },
   "file_extension": ".py",
   "mimetype": "text/x-python",
   "name": "python",
   "nbconvert_exporter": "python",
   "pygments_lexer": "ipython3",
   "version": "3.8.5"
  }
 },
 "nbformat": 4,
 "nbformat_minor": 4
}
