{
 "cells": [
  {
   "cell_type": "code",
   "execution_count": 1,
   "metadata": {},
   "outputs": [
    {
     "name": "stderr",
     "output_type": "stream",
     "text": [
      "/opt/conda/lib/python3.8/site-packages/elasticsearch/connection/base.py:209: ElasticsearchWarning: Elasticsearch built-in security features are not enabled. Without authentication, your cluster could be accessible to anyone. See https://www.elastic.co/guide/en/elasticsearch/reference/7.15/security-minimal-setup.html to enable security.\n",
      "  warnings.warn(message, category=ElasticsearchWarning)\n"
     ]
    },
    {
     "data": {
      "text/plain": [
       "{'name': 'e4e1b4447e20',\n",
       " 'cluster_name': 'elasticsearch',\n",
       " 'cluster_uuid': 'DNoCuE3RTv2p_fQWsmn1YA',\n",
       " 'version': {'number': '7.15.1',\n",
       "  'build_flavor': 'default',\n",
       "  'build_type': 'deb',\n",
       "  'build_hash': '83c34f456ae29d60e94d886e455e6a3409bba9ed',\n",
       "  'build_date': '2021-10-07T21:56:19.031608185Z',\n",
       "  'build_snapshot': False,\n",
       "  'lucene_version': '8.9.0',\n",
       "  'minimum_wire_compatibility_version': '6.8.0',\n",
       "  'minimum_index_compatibility_version': '6.0.0-beta1'},\n",
       " 'tagline': 'You Know, for Search'}"
      ]
     },
     "execution_count": 1,
     "metadata": {},
     "output_type": "execute_result"
    }
   ],
   "source": [
    "from elasticsearch import Elasticsearch\n",
    "es = Elasticsearch('localhost:9200')\n",
    "es.info()"
   ]
  },
  {
   "cell_type": "code",
   "execution_count": 2,
   "metadata": {},
   "outputs": [],
   "source": [
    "path = '/opt/ml/data_v3/wikipedia_documents.json'"
   ]
  },
  {
   "cell_type": "code",
   "execution_count": 3,
   "metadata": {},
   "outputs": [],
   "source": [
    "import json #json 수정하려고 열음\n",
    "with open(path, 'r') as f:\n",
    "    wiki = json.load(f)"
   ]
  },
  {
   "cell_type": "code",
   "execution_count": 4,
   "metadata": {},
   "outputs": [
    {
     "data": {
      "text/plain": [
       "{'text': '당의 경선중 박근혜 측에서 BBK 의혹을 제기하면서부터 친이(親李, 친이명박) 진영과 친박(親朴, 친박근혜) 진영의 갈등이 시작되었다. 박근혜 측은 결과에 승복해 갈등은 사라지는 듯하다가, 본격적으로 갈등이 심화되어 집단탈당사태가 일어난건 공천파동에서였다. 이후 친박연대가 창당되면서 미디어법 등 몇 가지 정책들에서 친이계와 친박계의 미묘한 의견 차이는 있어왔으나, 2010년 1월 이명박 대통령이 세종시 사수안을 번복하고 제안한 세종시 수정안 방침에 대해 친박연대를 비롯한 당의 주요 친박계 의원들이 반발하면서 그 갈등이 더욱 커지고 있었다. 박근혜는 원안 추진을 재차 강조하여 화합의 가능성이 낮아진 데 이어 심지어 분당 가능성까지 나왔다 이전에 홍준표는 박근혜의 세종시 원안 추진론 발언에 대해 \\'탈당\\' 이야기까지 나온 상황이었고, 정몽준이 당론을 변경해야 한다는 말에 박근혜가 \"국민의 신뢰를 잃은 것에 대해 책임지실 문제\"라며 정몽준 책임론을 들고 나왔으며, 정운찬 국무총리를 비롯한 정부 고위직 관계자들까지 박근혜를 압박하는 상황이 벌어지면서 갈등의 골이 깊어지고 있었다. 이러한 갈등 속에서 야당들이 추진했던 정운찬 총리 해임안을 여당 내 친박계 의원들이 찬성한다는 입장을 밝히자 친이계 의원들은 \"총리 해임안에 찬성하는 것은 분당하자는 것\" 이라며 계파간의 대립이 극화되었다. 6월 29일 세종시와 관련해서 친박계 의원들을 비롯하여 야당의원들이 반대하는 가운데 수정안이 부결되었다. 이 때문에 친이, 친박간의 갈등이 당분간 해소되기 어렵다는 관측들이 나왔다. 하지만 2010년 8월, 이명박 대통령과 박근혜 전 대표가 전격 회동하면서 화해 분위기가 조성되었고 양측은 우호적인 분위기를 유지하다가 2011년에 들어서면서 친이계가 급속히 몰락하면서 당 중심이 친박계로 이동하였다는 관측이 지배적이다.',\n",
       " 'title': '자유한국당'}"
      ]
     },
     "execution_count": 4,
     "metadata": {},
     "output_type": "execute_result"
    }
   ],
   "source": [
    "wiki['224']"
   ]
  },
  {
   "cell_type": "code",
   "execution_count": 5,
   "metadata": {},
   "outputs": [],
   "source": [
    "# for i in range(len(wiki)):\n",
    "#     del wiki[str(i)]['corpus_source']# 필요없는거 삭제\n",
    "#     del wiki[str(i)]['domain']\n",
    "#     del wiki[str(i)]['author']\n",
    "#     del wiki[str(i)]['html']\n",
    "#     del wiki[str(i)]['document_id']\n",
    "#     del wiki[str(i)]['url']"
   ]
  },
  {
   "cell_type": "code",
   "execution_count": 5,
   "metadata": {},
   "outputs": [
    {
     "data": {
      "text/plain": [
       "'통계학은 관찰 및 조사로 얻을 수 있는 데이터로부터, 응용 수학의 기법을 이용해 수치상의 성질, 규칙성 또는 불규칙성을 찾아낸다. 통계적 기법은, 실험 계획, 데이터의 요약이나 해석을 실시하는데 있어서의 근거를 제공하는 학문이며, 폭넓은 분야에서 응용되어 실생활에 적용되고 있다 통계학은 실증적인 뿌리를 가지고 있으며 실질적 활용에 초점을 맞추고 있기 때문에, 흔히 순수수학과는 다소 구분되는 응용수학의 일종으로 여겨진다. 통계학의 방법을 통해, 실제의 수치들을 왜곡하여 해석하는 것을 막고 연구를 바탕으로 합리적인 의사결정을 할 수 있다. 통계학은 과학, 산업, 또는 사회의 문제에 적용되며 모집단을 연구하는 과정이 우선시된다. 모집단은 \"한나라 안에 사는 모든 사람\" 또는 \"크리스탈을 구성하는 모든 원자\"와 같이 일정한 특성을 지닌 집단이면 어느 것이든 가능하다. 통계학자들은 전체인구(인구조사를 하는 기업)에 대한 데이터를 편집한다. 이것은 정부의 통계관련 법률요약집같은 조직화된 방법으로 수행될 수도 있다. 기술통계학은 모집단의 데이터를 요약하는데 사용된다. 도수 및 비율 (경주 등) 범주 형 데이터를 설명하는 측면에서 더 유용할 동안 수치 기술자는 연속적인 데이터 유형 (소득 등)에 대한 평균과 표준 편차를 포함한다. 데이터 분석 방법 엄청난 자료가 연구되는 현대 사회에서 경제지표연구, 마케팅, 여론조사, 농업, 생명과학, 의료의 임상연구 등 다양한 분야에서 응용되고 있는 통계는 단연 우리 사회에서 가장 필요하고 실용적인 학문이라고 할 수 있다.'"
      ]
     },
     "execution_count": 5,
     "metadata": {},
     "output_type": "execute_result"
    }
   ],
   "source": [
    "wiki['16']['text']"
   ]
  },
  {
   "cell_type": "code",
   "execution_count": 6,
   "metadata": {},
   "outputs": [],
   "source": [
    "import re\n",
    "for i in range(len(wiki)):    \n",
    "    temp = wiki[f'{i}']['text']\n",
    "    temp = \"!!\" + wiki[f'{i}']['title'] + \"!!\" + temp\n",
    "    wiki[f'{i}']['text'] = temp"
   ]
  },
  {
   "cell_type": "code",
   "execution_count": 7,
   "metadata": {},
   "outputs": [
    {
     "data": {
      "text/plain": [
       "{'text': '!!파이의 날!!파이의 날(Pi Day)은 원주율을 기념하는 날이다. 파이의 날은 원주율의 근삿값이 3.14이어서 3월 14일에 치러진다. 보통 3.14159에 맞추기 위해 오후 1시 59분에 기념하는데, 오후 1시 59분은 엄밀히 말하면 13시 59분이기 때문에 오전 1시 59분 혹은 15시 9분(오후 3시 9분)에 치러야 한다고 주장하는 사람도 있다. 세계 각국의 수학과에서 기념행사를 연다. 3월 14일은 알베르트 아인슈타인의 생일이면서 스티븐 호킹의 기일이기도 하다. 이 날은 여러 방법으로 기념된다. 사람들이 모여서 원주율이 생활에서 어떤 역할을 했는지 이야기하고 원주율이 없는 세상을 상상해 본다. 모임에서는 보통 파이를 먹는다. 또한 많은 행사에서 원주율을 소수점 아래의 숫자를 얼마나 많이 외우는지 겨루는 대회가 열린다. 분수 3과 7분의 1을 가분수로 나타내면 7분의 22가 되는데, 이를 유리수(순환소수)로 나타내면 3.142857...로 π의 근삿값이 되므로 7월 22일을 파이 근삿값 날로 부르기도 한다.',\n",
       " 'title': '파이의 날'}"
      ]
     },
     "execution_count": 7,
     "metadata": {},
     "output_type": "execute_result"
    }
   ],
   "source": [
    "wiki['14']"
   ]
  },
  {
   "cell_type": "code",
   "execution_count": 8,
   "metadata": {},
   "outputs": [],
   "source": [
    "INDEX_NAME = 'wiki'\n",
    "index_config = {\n",
    "        \"settings\": {\n",
    "            \"analysis\": {\n",
    "                \"filter\":{\n",
    "                    \"my_stop_filter\": { \n",
    "                        \"type\" : \"stop\",\n",
    "                        \"stopwords_path\" : \"my_stopwords.txt\" # /etc/elastic안에 txt파일이 존재해야 댑니다\n",
    "                    }\n",
    "                },\n",
    "                \"analyzer\": {\n",
    "                    \"nori_analyzer\": {\n",
    "                        \"type\": \"custom\",\n",
    "                        \"tokenizer\": \"nori_tokenizer\", # 노리 형태소 깔아야대는데 에러나면 맨위에 참고해서 깔기\n",
    "                        \"decompound_mode\": \"none\",\n",
    "                        \"filter\" : [\"my_stop_filter\"]# 위에서 정의한 stopword\n",
    "                    }\n",
    "                }\n",
    "            }\n",
    "        },\n",
    "        \"mappings\": {\n",
    "            \"dynamic\": \"strict\", # 먼지 잘모르겟\n",
    "            \"properties\": {\n",
    "                \"text\": {\"type\": \"text\", \"analyzer\": \"nori_analyzer\"},\n",
    "                \"title\":{\"type\": \"text\"}\n",
    "                }\n",
    "            }\n",
    "        }"
   ]
  },
  {
   "cell_type": "code",
   "execution_count": 9,
   "metadata": {},
   "outputs": [
    {
     "name": "stderr",
     "output_type": "stream",
     "text": [
      "/opt/conda/lib/python3.8/site-packages/elasticsearch/connection/base.py:209: ElasticsearchWarning: Elasticsearch built-in security features are not enabled. Without authentication, your cluster could be accessible to anyone. See https://www.elastic.co/guide/en/elasticsearch/reference/7.15/security-minimal-setup.html to enable security.\n",
      "  warnings.warn(message, category=ElasticsearchWarning)\n",
      "<ipython-input-9-c1b8263f83d6>:3: DeprecationWarning: The 'body' parameter is deprecated for the 'create' API and will be removed in a future version. Instead use API parameters directly. See https://github.com/elastic/elasticsearch-py/issues/1698 for more information\n",
      "  es.indices.create(index=INDEX_NAME, body=index_config)\n"
     ]
    },
    {
     "data": {
      "text/plain": [
       "{'acknowledged': True, 'shards_acknowledged': True, 'index': 'wiki'}"
      ]
     },
     "execution_count": 9,
     "metadata": {},
     "output_type": "execute_result"
    }
   ],
   "source": [
    "if es.indices.exists(index=INDEX_NAME):\n",
    "    es.indices.delete(index=INDEX_NAME)\n",
    "es.indices.create(index=INDEX_NAME, body=index_config)"
   ]
  },
  {
   "cell_type": "code",
   "execution_count": 10,
   "metadata": {},
   "outputs": [
    {
     "name": "stderr",
     "output_type": "stream",
     "text": [
      "  0%|          | 0/60613 [00:00<?, ?it/s]<ipython-input-10-5a9fb178b7ff>:6: DeprecationWarning: The 'body' parameter is deprecated for the 'index' API and will be removed in a future version. Instead use the 'document' parameter. See https://github.com/elastic/elasticsearch-py/issues/1698 for more information\n",
      "  es.index(index=INDEX_NAME, id=doc_id, body=doc)\n",
      "100%|██████████| 60613/60613 [06:29<00:00, 155.47it/s]\n"
     ]
    }
   ],
   "source": [
    "import time\n",
    "import tqdm\n",
    "\n",
    "for doc_id, doc in tqdm.tqdm(wiki.items(),total=len(wiki)):\n",
    "    \n",
    "    es.index(index=INDEX_NAME, id=doc_id, body=doc)\n",
    "    # time.sleep(0.1) # 문서집어넣기 time슬립너어야 에러 안걸림 (너무빨리 문서를 호출해서)"
   ]
  },
  {
   "cell_type": "code",
   "execution_count": 11,
   "metadata": {},
   "outputs": [],
   "source": [
    "import pprint\n",
    "# doc = es.get(index=INDEX_NAME, id=60000)#\n",
    "# pprint.pprint(doc)"
   ]
  },
  {
   "cell_type": "code",
   "execution_count": 12,
   "metadata": {},
   "outputs": [],
   "source": [
    "tv = es.termvectors(index=INDEX_NAME, id=2, body={\"fields\" : [\"content\",\"title\"]})"
   ]
  },
  {
   "cell_type": "code",
   "execution_count": 13,
   "metadata": {},
   "outputs": [
    {
     "name": "stdout",
     "output_type": "stream",
     "text": [
      "{'_id': '2',\n",
      " '_index': 'wiki',\n",
      " '_type': '_doc',\n",
      " '_version': 1,\n",
      " 'found': True,\n",
      " 'term_vectors': {'title': {'field_statistics': {'doc_count': 5768,\n",
      "                                                 'sum_doc_freq': 9399,\n",
      "                                                 'sum_ttf': 9404},\n",
      "                            'terms': {'백남준': {'term_freq': 1,\n",
      "                                              'tokens': [{'end_offset': 3,\n",
      "                                                          'position': 0,\n",
      "                                                          'start_offset': 0}]}}}},\n",
      " 'took': 0}\n"
     ]
    }
   ],
   "source": [
    "pprint.pprint(tv)"
   ]
  },
  {
   "cell_type": "code",
   "execution_count": 14,
   "metadata": {},
   "outputs": [],
   "source": [
    "from datasets import load_dataset"
   ]
  },
  {
   "cell_type": "code",
   "execution_count": 15,
   "metadata": {},
   "outputs": [
    {
     "data": {
      "text/plain": [
       "DatasetDict({\n",
       "    validation: Dataset({\n",
       "        features: ['question', 'id'],\n",
       "        num_rows: 600\n",
       "    })\n",
       "})"
      ]
     },
     "execution_count": 15,
     "metadata": {},
     "output_type": "execute_result"
    }
   ],
   "source": [
    "import datasets\n",
    "import pandas as pd\n",
    "import re\n",
    "import pandas as pd\n",
    "from datasets import load_from_disk\n",
    "trainpath = \"/opt/ml/data/train_dataset\"\n",
    "testpath = '/opt/ml/data/test_dataset'\n",
    "datasets = load_from_disk(testpath)\n",
    "datasets"
   ]
  },
  {
   "cell_type": "code",
   "execution_count": 16,
   "metadata": {},
   "outputs": [
    {
     "data": {
      "text/plain": [
       "600"
      ]
     },
     "execution_count": 16,
     "metadata": {},
     "output_type": "execute_result"
    }
   ],
   "source": [
    "query = datasets['validation']['question']\n",
    "# ground_truth = datasets['validation']['context']\n",
    "id = datasets['validation']['id']\n",
    "len(query)"
   ]
  },
  {
   "cell_type": "code",
   "execution_count": 17,
   "metadata": {},
   "outputs": [
    {
     "data": {
      "text/plain": [
       "'mrc-1-000653'"
      ]
     },
     "execution_count": 17,
     "metadata": {},
     "output_type": "execute_result"
    }
   ],
   "source": [
    "id[0]"
   ]
  },
  {
   "cell_type": "code",
   "execution_count": 18,
   "metadata": {},
   "outputs": [
    {
     "name": "stderr",
     "output_type": "stream",
     "text": [
      "/opt/conda/lib/python3.8/site-packages/elasticsearch/connection/base.py:209: ElasticsearchWarning: Elasticsearch built-in security features are not enabled. Without authentication, your cluster could be accessible to anyone. See https://www.elastic.co/guide/en/elasticsearch/reference/7.15/security-minimal-setup.html to enable security.\n",
      "  warnings.warn(message, category=ElasticsearchWarning)\n"
     ]
    }
   ],
   "source": [
    "correct = 0\n",
    "total = []\n",
    "for i, q in enumerate(query):\n",
    "    q = q.replace('~','-')\n",
    "    res = es.search(index=INDEX_NAME, q=q, size=10)\n",
    "    # print('query : ', q)\n",
    "    # print('id : ', id[i])\n",
    "    # print(res)\n",
    "    tmp = {\n",
    "        'id':id[i],\n",
    "    }\n",
    "    tmp2 = {f'text{j+1}':res['hits']['hits'][j]['_source']['text'] for j in range(10)}\n",
    "    tmp3 = {f'score{j+1}':res['hits']['hits'][j]['_score'] for j in range(10)}\n",
    "    tmp.update(tmp2)\n",
    "    tmp.update(tmp3)\n",
    "    \n",
    "    total.append(tmp)\n",
    "    \n",
    "    # context = res['hits']['hits']\n",
    "    # print(q)\n",
    "    # print(context)\n",
    "    # print('='*100)\n",
    "\n",
    "\n",
    "# print('% : ', correct/len(query))"
   ]
  },
  {
   "cell_type": "code",
   "execution_count": 23,
   "metadata": {},
   "outputs": [
    {
     "data": {
      "text/plain": [
       "\"유령'은 어느 행성에서 지구로 왔는가?\""
      ]
     },
     "execution_count": 23,
     "metadata": {},
     "output_type": "execute_result"
    }
   ],
   "source": [
    "query[0]"
   ]
  },
  {
   "cell_type": "code",
   "execution_count": 22,
   "metadata": {},
   "outputs": [
    {
     "data": {
      "text/plain": [
       "'!!더크 젠틀리의 성스러운 탐정 사무소!!더크 젠틀리의 성스러운 탐정사무소의 줄거리는 이야기의 중추적인 부위에 자리잡은 시간 여행이란 주제 때문에 줄거리가 이어져 있지 않다. 40억년전 지구에서, 사락사라의 사람들이 자신들만의 낙원을 만들기 위해 지구에 착륙하였다. 그러나, 기술자의 게으름으로 인해서 착륙선은 폭발하였으며, 안에 타고 있던 사락사라 사람들은 모두다 죽어버렸으며 그 폭발에 의한 에너지가 아미노산을 만들어 지구에 생명이 생기게 되었다. 그 게으른 엔지니어는 유령이 되어 그가 저지른 잘못을 돌리기 위해 돌아다니면서, 인류의 발전에 영향을 미쳐왔다. 1800년 초에 유령은 케임브리지 세인트 체드 단과대학의 리즈 교수가 타임머신을 가졌다는 걸 알게 되고, 리즈교수를 손에 넣을려고 하였으나 실패하고 만다. 그리고 유령은 새뮤얼 테일러 콜리지에게 붙어, 그의 시 쿠빌라이 칸과 늙은 뱃사람의 노래에 착륙선을 고칠방법을 적게 만든다. 유령은 200여 년 동안 콜리지의 작품에 감명을 받은 영혼을 찾아다녔으며, 21세기무렵 마이클 웬튼 윅스라는 전 예술잡지 편집장을 찾게 된다. 유령은 마이클이 콜리지의 작품을 읽게 만들었으며, 그를 조종하기 위해 마이클로 하여금 마이클의 후임 편집장인 알버트 로스를 살해하게 된다. 유령의 다음 행동은 다른 사람에게 영향을 끼칠 숙주를 찾는 일이었다. 리즈는 어린 소녀를 재미있게 해주기 위해 타임머신을 가동하였으며, 유령이 사용하기위해 데려온 전자 수도사는 웨이포인트 테크놀러지 II의 사장인 고든 웨이를 죽여버린다. 리즈의 학생이었으며, 웨이포인트 테크놀러지 II의 컴퓨터 프로그래머인 리처드 맥더프는 그의 여자친구인 수잔 웨이의 집의 자동응답기에 저장된 메시지를 지우기 위해서 몰래 집에 침입하게 되는데, 그때 맥더프는 알지 못하게 유령에게 이용되었다. 이건 만물의 상호 연관성을 믿는 맥더프의 친구인 더크 젠틀리를 끌여들이게 되었다. 더크 젠틀리와 맥더프는 여럿 우연한 장소에서 정보를 얻고, 유령이 개입했다는 것과, 리즈 교수가 타임머신을 가졌다는 걸 알게 된다. 그들은 리즈교수를 찾아가게 되었고, 리즈 교수는 타임머신이 있다는 걸 그들에게 말해준다. 그때, 그들은 유령에 빙의된 마이클을 만나게 되고, 보호장구를 갖춘 마이클은 교수에게 부탁하여 40억년 전으로 거슬러 올라가게 된다. 마이클이 우주선을 수리하러 밖에 나가고, 리처드는 현대의 수잔으로부터 마이클이 로스를 살해했다는 전화를 받게 된다. 더크는 유령이 마이클을 조종하기 위해 로스를 살해했다고 추리하게 된다. 더크는 유령을 막지 못한다면 인류가 없어질 것이고, 사락사라인들이 지구를 차지하게 될거라고 경고하게 된다. 리즈교수는 더크 젠틀리를 데리고 1800년대로 데리고 간다. 거기서 더크는 콜리지에게 폴락에서 콜리지를 취재하러 왔다고 하고, 그가 착륙선을 고칠방법을 적지 못하게 막아 유령의 계획을 저지하게 된다. 현대로 돌아온 더크 젠틀리는 그가 맡고 있던 고양이 실종 사건이 없다는 걸 알게 되고, 비서에게 \"인류를 멸종위기에서 구했음 - 무료\"라고 청구서를 보내라고 지시한후 밖으로 나가게 된다.'"
      ]
     },
     "execution_count": 22,
     "metadata": {},
     "output_type": "execute_result"
    }
   ],
   "source": [
    "total[0]['text1']"
   ]
  },
  {
   "cell_type": "code",
   "execution_count": 19,
   "metadata": {},
   "outputs": [
    {
     "data": {
      "text/html": [
       "<div>\n",
       "<style scoped>\n",
       "    .dataframe tbody tr th:only-of-type {\n",
       "        vertical-align: middle;\n",
       "    }\n",
       "\n",
       "    .dataframe tbody tr th {\n",
       "        vertical-align: top;\n",
       "    }\n",
       "\n",
       "    .dataframe thead th {\n",
       "        text-align: right;\n",
       "    }\n",
       "</style>\n",
       "<table border=\"1\" class=\"dataframe\">\n",
       "  <thead>\n",
       "    <tr style=\"text-align: right;\">\n",
       "      <th></th>\n",
       "      <th>id</th>\n",
       "      <th>text1</th>\n",
       "      <th>text2</th>\n",
       "      <th>text3</th>\n",
       "      <th>text4</th>\n",
       "      <th>text5</th>\n",
       "      <th>text6</th>\n",
       "      <th>text7</th>\n",
       "      <th>text8</th>\n",
       "      <th>text9</th>\n",
       "      <th>...</th>\n",
       "      <th>score1</th>\n",
       "      <th>score2</th>\n",
       "      <th>score3</th>\n",
       "      <th>score4</th>\n",
       "      <th>score5</th>\n",
       "      <th>score6</th>\n",
       "      <th>score7</th>\n",
       "      <th>score8</th>\n",
       "      <th>score9</th>\n",
       "      <th>score10</th>\n",
       "    </tr>\n",
       "  </thead>\n",
       "  <tbody>\n",
       "    <tr>\n",
       "      <th>0</th>\n",
       "      <td>mrc-1-000653</td>\n",
       "      <td>!!더크 젠틀리의 성스러운 탐정 사무소!!더크 젠틀리의 성스러운 탐정사무소의 줄거리...</td>\n",
       "      <td>!!지구 근접 소행성!!지구 근접 소행성(地球近接小行星)은 지구 궤도와 교차하는 궤...</td>\n",
       "      <td>!!지구 근접 소행성!!지구 근접 소행성(地球近接小行星)은 지구 궤도와 교차하는 궤...</td>\n",
       "      <td>!!글리제 581 g!!글리제 581 g는 천칭자리 방향으로 지구로부터 약 20.5...</td>\n",
       "      <td>!!서브지구!!서브지구(sub-Earth)는 지구와 금성보다 질량이 확연하게 작은 ...</td>\n",
       "      <td>!!페가수스자리 51 b!!페가수스자리 51 b가 발견되기 이전 폴란드 천문학자 알...</td>\n",
       "      <td>!!HD 40307 b!!HD 40307 b의 질량은 적어도 지구의 4.2배 수준인...</td>\n",
       "      <td>!!국제천문연맹의 행성의 정의!!이 정의는 엄밀해야 할 정의가 모호성을 띄고 있다는...</td>\n",
       "      <td>!!HD 10180!!이 별은 여러 면에서 태양과 비슷하나, 질량은 태양보다 6퍼센...</td>\n",
       "      <td>...</td>\n",
       "      <td>17.102198</td>\n",
       "      <td>16.029920</td>\n",
       "      <td>16.029920</td>\n",
       "      <td>15.858599</td>\n",
       "      <td>15.712366</td>\n",
       "      <td>15.546904</td>\n",
       "      <td>15.496980</td>\n",
       "      <td>15.345918</td>\n",
       "      <td>15.276966</td>\n",
       "      <td>15.246025</td>\n",
       "    </tr>\n",
       "    <tr>\n",
       "      <th>1</th>\n",
       "      <td>mrc-1-001113</td>\n",
       "      <td>!!오퍼레이션7!!냉전 종식 이후 전 세계적으로 소규모의 끊임없는 국지 분쟁들이 생...</td>\n",
       "      <td>!!크리스 니코스키!!SK에서 방출된 이후 그는 일본을 여행하며 잠시 신변을 정리하...</td>\n",
       "      <td>!!코리 리오단!!2014년 1월 10일 KBO 리그 LG 트윈스와 계약하며 201...</td>\n",
       "      <td>!!옌볜 푸더!!1955년 8월 1일에 한인 위주로 구성된 &lt;길림성축구팀&gt;(지린축구...</td>\n",
       "      <td>!!에드미우송 디아스 지 루세나!!에드미우송은 1988년 20세의 나이로 포르투갈에...</td>\n",
       "      <td>!!브라이언 배스!!2012년 1월 18일 카림 가르시아의 대체 외국인 선수로 한화...</td>\n",
       "      <td>!!모르도비야 아레나!!2018년 FIFA월드컵 개최를 위해 제출된 팀 휘프의 새로...</td>\n",
       "      <td>!!내셔널리그 2010!!내셔널리그 2010(대한생명의 후원을 받아 대한생명 내셔널...</td>\n",
       "      <td>!!카를루스 아우베르투 파헤이라!!2002년 FIFA 월드컵이 끝나고 브라질의 감독...</td>\n",
       "      <td>...</td>\n",
       "      <td>17.460379</td>\n",
       "      <td>17.154230</td>\n",
       "      <td>15.657099</td>\n",
       "      <td>15.509413</td>\n",
       "      <td>15.164756</td>\n",
       "      <td>14.344352</td>\n",
       "      <td>14.001638</td>\n",
       "      <td>13.927957</td>\n",
       "      <td>13.894322</td>\n",
       "      <td>13.485586</td>\n",
       "    </tr>\n",
       "    <tr>\n",
       "      <th>2</th>\n",
       "      <td>mrc-0-002191</td>\n",
       "      <td>!!엥겔베르트 돌푸스!!1933년 3월, 투표 과정의 위법성에 대한 문제제기가 불거...</td>\n",
       "      <td>!!엥겔베르트 돌푸스!!돌푸스는 니더외스터라이히주의 텍싱탈에서 싱글맘이자 신실한 가...</td>\n",
       "      <td>!!죠죠의 기묘한 모험 All Star Battle!!; 디오의 성 : 1부의 무대...</td>\n",
       "      <td>!!콘라트 3세 (부르군트)!!부르군트의 콘라트 3세(Conrad III/Konra...</td>\n",
       "      <td>!!요숭!!650년 섬주(陝州) 협석(硤石)에서 요의(姚懿, 요선의姚善意)의 아들로...</td>\n",
       "      <td>!!이용수 (1928년)!!1928년 경상북도 성주에서 출생하여 지난날 한때 경상북...</td>\n",
       "      <td>!!금전신탁!!금전신탁의 운용방법은 특정한 특정(特定) 금전신탁과 특정하지 않은 불...</td>\n",
       "      <td>!!조지 S. 바우트웰!!바우트웰은 1869년 율리시스 S. 그랜트 대통령으로부터 ...</td>\n",
       "      <td>!!트라쉬불로스!!트라쉬불로스의 배경이나 초기 생애에 대해서는 알려진 것이 거의 없...</td>\n",
       "      <td>...</td>\n",
       "      <td>37.175800</td>\n",
       "      <td>20.547073</td>\n",
       "      <td>17.318540</td>\n",
       "      <td>16.901167</td>\n",
       "      <td>16.227207</td>\n",
       "      <td>16.097681</td>\n",
       "      <td>15.908007</td>\n",
       "      <td>14.557250</td>\n",
       "      <td>14.486744</td>\n",
       "      <td>14.122905</td>\n",
       "    </tr>\n",
       "    <tr>\n",
       "      <th>3</th>\n",
       "      <td>mrc-0-003951</td>\n",
       "      <td>!!서구화!!유럽인들의 아메리카와 오세아니아 식민지화로 인해 아메리카와 오세아니아의...</td>\n",
       "      <td>!!멕시코의 언어!!농아인 공동체는 멕시코 수화와 유카탄 수화를 사용하고, 바하칼리...</td>\n",
       "      <td>!!멕시코의 언어!!멕시코의 언어는 다양하고 그 중 스페인어가 가장 널리 쓰인다. ...</td>\n",
       "      <td>!!다중심언어!!영어는 발음, 어휘, 철자법 등이 영국, 북미, 영어를 사용하는 아...</td>\n",
       "      <td>!!국제 SIL!!국제 SIL은 에스놀로그에 기록되는 모든 언어에 3자리 부호를 매...</td>\n",
       "      <td>!!국제 SIL!!국제 SIL은 에스놀로그에 기록되는 모든 언어에 3자리 부호를 매...</td>\n",
       "      <td>!!세계농아인연맹!!세계농아인연맹(World Federation of the Dea...</td>\n",
       "      <td>!!니카라과 수화!!1970년대 이전에 니카라과에는 청각장애인의 커뮤니티가 없었다....</td>\n",
       "      <td>!!미국의 문화!!미국의 언어 미국은 연방 정부 차원에서 따로 공용어를 지정하지 않...</td>\n",
       "      <td>...</td>\n",
       "      <td>48.735043</td>\n",
       "      <td>34.802610</td>\n",
       "      <td>33.915123</td>\n",
       "      <td>29.701948</td>\n",
       "      <td>27.905252</td>\n",
       "      <td>27.905252</td>\n",
       "      <td>27.117690</td>\n",
       "      <td>26.584930</td>\n",
       "      <td>26.017113</td>\n",
       "      <td>25.392410</td>\n",
       "    </tr>\n",
       "    <tr>\n",
       "      <th>4</th>\n",
       "      <td>mrc-1-001272</td>\n",
       "      <td>!!보응우옌잡!!1926년 학생 시절 베트남청년혁명당에 가입했고 1930년에 학생 ...</td>\n",
       "      <td>!!깟비 국제공항!!제1차 인도차이나 전쟁 중에는 프랑스 공군의 깟비 공군기지로 이...</td>\n",
       "      <td>!!즈엉반민!!그는 1940년대에 자신의 군사 경력을 시작하여 프랑스 식민지 육군에...</td>\n",
       "      <td>!!명호작전!!이 작전에 관해서는 연합군의 침공 외의 전투는 일어나지 않았다. 일본...</td>\n",
       "      <td>!!러셀 법정!!러셀 법정은 1966년 영국의 철학자 버트런드 러셀이 베트남 전쟁에...</td>\n",
       "      <td>!!나산 공항!!공항이 폐쇄됨에 따라 현재 나산 공항에 대한 예약된 운항 서비스는 ...</td>\n",
       "      <td>!!베트남의 역사!!제1차 인도차이나 전쟁 이후 영국과 중국은 이전의 지배자였던 프...</td>\n",
       "      <td>!!베트남의 역사!!제1차 인도차이나 전쟁 이후 영국과 중국은 이전의 지배자였던 프...</td>\n",
       "      <td>!!타이빈성!!과거 홍강 삼각주의 중심부에 자리 잡고 있었지만, 과거에는 타이빈성은...</td>\n",
       "      <td>...</td>\n",
       "      <td>31.681423</td>\n",
       "      <td>15.859224</td>\n",
       "      <td>14.538159</td>\n",
       "      <td>12.526538</td>\n",
       "      <td>12.057945</td>\n",
       "      <td>11.544473</td>\n",
       "      <td>11.247150</td>\n",
       "      <td>11.247150</td>\n",
       "      <td>10.815040</td>\n",
       "      <td>9.990664</td>\n",
       "    </tr>\n",
       "    <tr>\n",
       "      <th>...</th>\n",
       "      <td>...</td>\n",
       "      <td>...</td>\n",
       "      <td>...</td>\n",
       "      <td>...</td>\n",
       "      <td>...</td>\n",
       "      <td>...</td>\n",
       "      <td>...</td>\n",
       "      <td>...</td>\n",
       "      <td>...</td>\n",
       "      <td>...</td>\n",
       "      <td>...</td>\n",
       "      <td>...</td>\n",
       "      <td>...</td>\n",
       "      <td>...</td>\n",
       "      <td>...</td>\n",
       "      <td>...</td>\n",
       "      <td>...</td>\n",
       "      <td>...</td>\n",
       "      <td>...</td>\n",
       "      <td>...</td>\n",
       "      <td>...</td>\n",
       "    </tr>\n",
       "    <tr>\n",
       "      <th>595</th>\n",
       "      <td>mrc-0-002989</td>\n",
       "      <td>!!극장판 가면라이더 W FOREVER: A to Z/운명의 가이아 메모리!!재단 ...</td>\n",
       "      <td>!!극장판 가면라이더 W FOREVER: A to Z/운명의 가이아 메모리!!후토 ...</td>\n",
       "      <td>!!극장판 가면라이더 W FOREVER: A to Z/운명의 가이아 메모리!!NEV...</td>\n",
       "      <td>!!극장판 가면라이더 W FOREVER: A to Z/운명의 가이아 메모리!!\"가면...</td>\n",
       "      <td>!!IAS 머신!!IAS 머신은 40비트 워드를 갖춘 이진 방식의 컴퓨터의 하나로서...</td>\n",
       "      <td>!!ML (프로그래밍 언어)!!ML은 범용 프로그래밍 언어의 일종이다. 프로그래밍 ...</td>\n",
       "      <td>!!ML (프로그래밍 언어)!!ML은 범용 프로그래밍 언어의 일종이다. 프로그래밍 ...</td>\n",
       "      <td>!!가이아 건담!!가이아 건담(Gaia Gundam, ガイアガンダム)은 TV 애니메...</td>\n",
       "      <td>!!FB-DIMM!!FB-DIMM(Fully Buffered DIMM)은 메모리 시...</td>\n",
       "      <td>...</td>\n",
       "      <td>29.985798</td>\n",
       "      <td>23.889470</td>\n",
       "      <td>22.279081</td>\n",
       "      <td>22.264990</td>\n",
       "      <td>19.711796</td>\n",
       "      <td>19.415108</td>\n",
       "      <td>19.415108</td>\n",
       "      <td>18.901388</td>\n",
       "      <td>18.155262</td>\n",
       "      <td>17.389938</td>\n",
       "    </tr>\n",
       "    <tr>\n",
       "      <th>596</th>\n",
       "      <td>mrc-0-001804</td>\n",
       "      <td>!!장면!!과거의 죄악에 대한 소급입법 적용을 반대하였다. 4.19 혁명 당시 사망...</td>\n",
       "      <td>!!장면!!과거의 죄악에 대한 소급입법 적용을 반대하였다. 4.19 혁명 당시 사망...</td>\n",
       "      <td>!!장면!!4.19 의거나 3.15 부정선거 당시 학생 시위 진압자에 대한 미온적인...</td>\n",
       "      <td>!!장면!!4.19 의거나 3.15 부정선거 당시 학생 시위 진압자에 대한 미온적인...</td>\n",
       "      <td>!!장면!!4.19 관련자에 대한 미온적인 처벌이 문제가 되자 그는 결국 1960년...</td>\n",
       "      <td>!!장면!!4.19 관련자에 대한 미온적인 처벌이 문제가 되자 그는 결국 1960년...</td>\n",
       "      <td>!!장면!!1951년 장면이 주한 미국대사와 프랑스 파리에 체류하고 있을 때, 부산...</td>\n",
       "      <td>!!장면!!1951년 장면이 주한 미국대사와 프랑스 파리에 체류하고 있을 때, 부산...</td>\n",
       "      <td>!!장면!!1960년 12월 그는 정권 인수 3개월 안에 자유당 정권에 협조했거나 ...</td>\n",
       "      <td>...</td>\n",
       "      <td>36.879814</td>\n",
       "      <td>36.879814</td>\n",
       "      <td>29.797470</td>\n",
       "      <td>29.797470</td>\n",
       "      <td>26.035213</td>\n",
       "      <td>26.035213</td>\n",
       "      <td>21.496092</td>\n",
       "      <td>21.496092</td>\n",
       "      <td>21.368820</td>\n",
       "      <td>21.368820</td>\n",
       "    </tr>\n",
       "    <tr>\n",
       "      <th>597</th>\n",
       "      <td>mrc-0-003411</td>\n",
       "      <td>!!일본 선수권 시리즈!!2005년(제56회 / 지바 롯데 마린스 대 한신 타이거스...</td>\n",
       "      <td>!!콜드게임!!콜드게임(called game)이란 야구나 소프트볼 등의 운동경기에서...</td>\n",
       "      <td>!!디스아너드 2!!&lt;디스아너드 2&gt;(Dishonored 2)는 아케인 스튜디오가 ...</td>\n",
       "      <td>!!공박!!&lt;공박&gt;은 레드덕이 제작하고 엔트리브에서 배급하는 팀 플레이 족구 게임이...</td>\n",
       "      <td>!!컴퍼니 오브 히어로즈 2!!콜드데크(ColdTech) :* 물이 얼어붙는 온도의...</td>\n",
       "      <td>!!2013년 센트럴 리그 클라이맥스 시리즈!!클라이맥스 시리즈는 일본 선수권 시리...</td>\n",
       "      <td>!!스피드런!!스피드런은 다음의 완수 레벨, 즉 어떻게 게임을 완수했는지를 분류한다...</td>\n",
       "      <td>!!게임 세이브!!게임 세이브(game save) 또는 세이브 게임(savegame...</td>\n",
       "      <td>!!프로젝트 리얼리티!!프로젝트 리얼리티(Project Reality)는 제병 협동...</td>\n",
       "      <td>...</td>\n",
       "      <td>33.743507</td>\n",
       "      <td>32.673977</td>\n",
       "      <td>26.015755</td>\n",
       "      <td>25.058464</td>\n",
       "      <td>24.792051</td>\n",
       "      <td>24.625456</td>\n",
       "      <td>24.408936</td>\n",
       "      <td>24.403017</td>\n",
       "      <td>23.406464</td>\n",
       "      <td>23.088720</td>\n",
       "    </tr>\n",
       "    <tr>\n",
       "      <th>598</th>\n",
       "      <td>mrc-0-003436</td>\n",
       "      <td>!!제3캐나다사단!!주노 해변 주노 해변은 쿠르쇨르메르의 양쪽으로 뻗은 5마일 정도...</td>\n",
       "      <td>!!제3사단 (영국)!!제3사단은 치명적인 운명을 맞은 영국 해외원정군의 일부였다....</td>\n",
       "      <td>!!토털라이즈 작전!!캐나다군은 독일군의 베리에르 능선 방어가 여전히 철저하다는 것...</td>\n",
       "      <td>!!토털라이즈 작전!!캉은 노르망디 상륙 당시 소드 해변을 공격하는 영국군의 주요 ...</td>\n",
       "      <td>!!제1사단 (영국)!!제2차 세계 대전 당시 불완전한 편제를 바탕으로 로저 에반스...</td>\n",
       "      <td>!!262고지 전투!!토털라이즈 작전|트랙터블 작전|팔레즈 포위전 1944년 7월 ...</td>\n",
       "      <td>!!제3캐나다사단!!제3캐나다보병사단의 편성은 제2차 세계 대전 기간 동안 군 당국...</td>\n",
       "      <td>!!제2캐나다사단!!제2캐나다사단(2nd Canada Division)은 1939년...</td>\n",
       "      <td>!!제3캐나다사단!!제3캐나다보병사단은 오버로드 작전에서 영국 제1군단의 첫 부대로...</td>\n",
       "      <td>...</td>\n",
       "      <td>38.346410</td>\n",
       "      <td>33.044853</td>\n",
       "      <td>27.959087</td>\n",
       "      <td>26.811363</td>\n",
       "      <td>26.752077</td>\n",
       "      <td>26.600748</td>\n",
       "      <td>25.782146</td>\n",
       "      <td>25.659435</td>\n",
       "      <td>25.332169</td>\n",
       "      <td>25.041822</td>\n",
       "    </tr>\n",
       "    <tr>\n",
       "      <th>599</th>\n",
       "      <td>mrc-0-002605</td>\n",
       "      <td>!!구립운석!!구립운석(球粒隕石, 콘드라이트)는 석질운석의 일종으로, 운석의 원석이...</td>\n",
       "      <td>!!메티스 (위성)!!메티스의 크기는 60×40×34 km로, 4개 내부 위성들 중...</td>\n",
       "      <td>!!서강도서관!!2006년 7월 착공을 시작으로 같은 달 마포구립 서강도서관 설치에...</td>\n",
       "      <td>!!유성체!!행성의 대기권에 끌려들면 유성체는 마찰열에 의해 전체, 또는 일부가 증...</td>\n",
       "      <td>!!염화 플루오린화 탄소!!염화 플루오린화 탄소(鹽化-化炭素) 또는 염화불화탄소(鹽...</td>\n",
       "      <td>!!염화 플루오린화 탄소!!염화 플루오린화 탄소(鹽化-化炭素) 또는 염화불화탄소(鹽...</td>\n",
       "      <td>!!무연사회!!무연사회의 발생 원인은 구직을 위해 상경한 세대의 퇴직이후 고립, 개...</td>\n",
       "      <td>!!951 가스프라!!가스프라의 광대한 레골리스의 존재에 대해서는 아직도 논쟁이 지...</td>\n",
       "      <td>!!리튬 전지!!리튬 전지는 음극이나 전해질에 이용하는 화학 물질에 따라 몇 가지 ...</td>\n",
       "      <td>...</td>\n",
       "      <td>39.279243</td>\n",
       "      <td>18.905676</td>\n",
       "      <td>17.783783</td>\n",
       "      <td>16.616160</td>\n",
       "      <td>16.459131</td>\n",
       "      <td>16.459131</td>\n",
       "      <td>16.351220</td>\n",
       "      <td>16.229680</td>\n",
       "      <td>15.921311</td>\n",
       "      <td>15.727607</td>\n",
       "    </tr>\n",
       "  </tbody>\n",
       "</table>\n",
       "<p>600 rows × 21 columns</p>\n",
       "</div>"
      ],
      "text/plain": [
       "               id                                              text1  \\\n",
       "0    mrc-1-000653  !!더크 젠틀리의 성스러운 탐정 사무소!!더크 젠틀리의 성스러운 탐정사무소의 줄거리...   \n",
       "1    mrc-1-001113  !!오퍼레이션7!!냉전 종식 이후 전 세계적으로 소규모의 끊임없는 국지 분쟁들이 생...   \n",
       "2    mrc-0-002191  !!엥겔베르트 돌푸스!!1933년 3월, 투표 과정의 위법성에 대한 문제제기가 불거...   \n",
       "3    mrc-0-003951  !!서구화!!유럽인들의 아메리카와 오세아니아 식민지화로 인해 아메리카와 오세아니아의...   \n",
       "4    mrc-1-001272  !!보응우옌잡!!1926년 학생 시절 베트남청년혁명당에 가입했고 1930년에 학생 ...   \n",
       "..            ...                                                ...   \n",
       "595  mrc-0-002989  !!극장판 가면라이더 W FOREVER: A to Z/운명의 가이아 메모리!!재단 ...   \n",
       "596  mrc-0-001804  !!장면!!과거의 죄악에 대한 소급입법 적용을 반대하였다. 4.19 혁명 당시 사망...   \n",
       "597  mrc-0-003411  !!일본 선수권 시리즈!!2005년(제56회 / 지바 롯데 마린스 대 한신 타이거스...   \n",
       "598  mrc-0-003436  !!제3캐나다사단!!주노 해변 주노 해변은 쿠르쇨르메르의 양쪽으로 뻗은 5마일 정도...   \n",
       "599  mrc-0-002605  !!구립운석!!구립운석(球粒隕石, 콘드라이트)는 석질운석의 일종으로, 운석의 원석이...   \n",
       "\n",
       "                                                 text2  \\\n",
       "0    !!지구 근접 소행성!!지구 근접 소행성(地球近接小行星)은 지구 궤도와 교차하는 궤...   \n",
       "1    !!크리스 니코스키!!SK에서 방출된 이후 그는 일본을 여행하며 잠시 신변을 정리하...   \n",
       "2    !!엥겔베르트 돌푸스!!돌푸스는 니더외스터라이히주의 텍싱탈에서 싱글맘이자 신실한 가...   \n",
       "3    !!멕시코의 언어!!농아인 공동체는 멕시코 수화와 유카탄 수화를 사용하고, 바하칼리...   \n",
       "4    !!깟비 국제공항!!제1차 인도차이나 전쟁 중에는 프랑스 공군의 깟비 공군기지로 이...   \n",
       "..                                                 ...   \n",
       "595  !!극장판 가면라이더 W FOREVER: A to Z/운명의 가이아 메모리!!후토 ...   \n",
       "596  !!장면!!과거의 죄악에 대한 소급입법 적용을 반대하였다. 4.19 혁명 당시 사망...   \n",
       "597  !!콜드게임!!콜드게임(called game)이란 야구나 소프트볼 등의 운동경기에서...   \n",
       "598  !!제3사단 (영국)!!제3사단은 치명적인 운명을 맞은 영국 해외원정군의 일부였다....   \n",
       "599  !!메티스 (위성)!!메티스의 크기는 60×40×34 km로, 4개 내부 위성들 중...   \n",
       "\n",
       "                                                 text3  \\\n",
       "0    !!지구 근접 소행성!!지구 근접 소행성(地球近接小行星)은 지구 궤도와 교차하는 궤...   \n",
       "1    !!코리 리오단!!2014년 1월 10일 KBO 리그 LG 트윈스와 계약하며 201...   \n",
       "2    !!죠죠의 기묘한 모험 All Star Battle!!; 디오의 성 : 1부의 무대...   \n",
       "3    !!멕시코의 언어!!멕시코의 언어는 다양하고 그 중 스페인어가 가장 널리 쓰인다. ...   \n",
       "4    !!즈엉반민!!그는 1940년대에 자신의 군사 경력을 시작하여 프랑스 식민지 육군에...   \n",
       "..                                                 ...   \n",
       "595  !!극장판 가면라이더 W FOREVER: A to Z/운명의 가이아 메모리!!NEV...   \n",
       "596  !!장면!!4.19 의거나 3.15 부정선거 당시 학생 시위 진압자에 대한 미온적인...   \n",
       "597  !!디스아너드 2!!<디스아너드 2>(Dishonored 2)는 아케인 스튜디오가 ...   \n",
       "598  !!토털라이즈 작전!!캐나다군은 독일군의 베리에르 능선 방어가 여전히 철저하다는 것...   \n",
       "599  !!서강도서관!!2006년 7월 착공을 시작으로 같은 달 마포구립 서강도서관 설치에...   \n",
       "\n",
       "                                                 text4  \\\n",
       "0    !!글리제 581 g!!글리제 581 g는 천칭자리 방향으로 지구로부터 약 20.5...   \n",
       "1    !!옌볜 푸더!!1955년 8월 1일에 한인 위주로 구성된 <길림성축구팀>(지린축구...   \n",
       "2    !!콘라트 3세 (부르군트)!!부르군트의 콘라트 3세(Conrad III/Konra...   \n",
       "3    !!다중심언어!!영어는 발음, 어휘, 철자법 등이 영국, 북미, 영어를 사용하는 아...   \n",
       "4    !!명호작전!!이 작전에 관해서는 연합군의 침공 외의 전투는 일어나지 않았다. 일본...   \n",
       "..                                                 ...   \n",
       "595  !!극장판 가면라이더 W FOREVER: A to Z/운명의 가이아 메모리!!\"가면...   \n",
       "596  !!장면!!4.19 의거나 3.15 부정선거 당시 학생 시위 진압자에 대한 미온적인...   \n",
       "597  !!공박!!<공박>은 레드덕이 제작하고 엔트리브에서 배급하는 팀 플레이 족구 게임이...   \n",
       "598  !!토털라이즈 작전!!캉은 노르망디 상륙 당시 소드 해변을 공격하는 영국군의 주요 ...   \n",
       "599  !!유성체!!행성의 대기권에 끌려들면 유성체는 마찰열에 의해 전체, 또는 일부가 증...   \n",
       "\n",
       "                                                 text5  \\\n",
       "0    !!서브지구!!서브지구(sub-Earth)는 지구와 금성보다 질량이 확연하게 작은 ...   \n",
       "1    !!에드미우송 디아스 지 루세나!!에드미우송은 1988년 20세의 나이로 포르투갈에...   \n",
       "2    !!요숭!!650년 섬주(陝州) 협석(硤石)에서 요의(姚懿, 요선의姚善意)의 아들로...   \n",
       "3    !!국제 SIL!!국제 SIL은 에스놀로그에 기록되는 모든 언어에 3자리 부호를 매...   \n",
       "4    !!러셀 법정!!러셀 법정은 1966년 영국의 철학자 버트런드 러셀이 베트남 전쟁에...   \n",
       "..                                                 ...   \n",
       "595  !!IAS 머신!!IAS 머신은 40비트 워드를 갖춘 이진 방식의 컴퓨터의 하나로서...   \n",
       "596  !!장면!!4.19 관련자에 대한 미온적인 처벌이 문제가 되자 그는 결국 1960년...   \n",
       "597  !!컴퍼니 오브 히어로즈 2!!콜드데크(ColdTech) :* 물이 얼어붙는 온도의...   \n",
       "598  !!제1사단 (영국)!!제2차 세계 대전 당시 불완전한 편제를 바탕으로 로저 에반스...   \n",
       "599  !!염화 플루오린화 탄소!!염화 플루오린화 탄소(鹽化-化炭素) 또는 염화불화탄소(鹽...   \n",
       "\n",
       "                                                 text6  \\\n",
       "0    !!페가수스자리 51 b!!페가수스자리 51 b가 발견되기 이전 폴란드 천문학자 알...   \n",
       "1    !!브라이언 배스!!2012년 1월 18일 카림 가르시아의 대체 외국인 선수로 한화...   \n",
       "2    !!이용수 (1928년)!!1928년 경상북도 성주에서 출생하여 지난날 한때 경상북...   \n",
       "3    !!국제 SIL!!국제 SIL은 에스놀로그에 기록되는 모든 언어에 3자리 부호를 매...   \n",
       "4    !!나산 공항!!공항이 폐쇄됨에 따라 현재 나산 공항에 대한 예약된 운항 서비스는 ...   \n",
       "..                                                 ...   \n",
       "595  !!ML (프로그래밍 언어)!!ML은 범용 프로그래밍 언어의 일종이다. 프로그래밍 ...   \n",
       "596  !!장면!!4.19 관련자에 대한 미온적인 처벌이 문제가 되자 그는 결국 1960년...   \n",
       "597  !!2013년 센트럴 리그 클라이맥스 시리즈!!클라이맥스 시리즈는 일본 선수권 시리...   \n",
       "598  !!262고지 전투!!토털라이즈 작전|트랙터블 작전|팔레즈 포위전 1944년 7월 ...   \n",
       "599  !!염화 플루오린화 탄소!!염화 플루오린화 탄소(鹽化-化炭素) 또는 염화불화탄소(鹽...   \n",
       "\n",
       "                                                 text7  \\\n",
       "0    !!HD 40307 b!!HD 40307 b의 질량은 적어도 지구의 4.2배 수준인...   \n",
       "1    !!모르도비야 아레나!!2018년 FIFA월드컵 개최를 위해 제출된 팀 휘프의 새로...   \n",
       "2    !!금전신탁!!금전신탁의 운용방법은 특정한 특정(特定) 금전신탁과 특정하지 않은 불...   \n",
       "3    !!세계농아인연맹!!세계농아인연맹(World Federation of the Dea...   \n",
       "4    !!베트남의 역사!!제1차 인도차이나 전쟁 이후 영국과 중국은 이전의 지배자였던 프...   \n",
       "..                                                 ...   \n",
       "595  !!ML (프로그래밍 언어)!!ML은 범용 프로그래밍 언어의 일종이다. 프로그래밍 ...   \n",
       "596  !!장면!!1951년 장면이 주한 미국대사와 프랑스 파리에 체류하고 있을 때, 부산...   \n",
       "597  !!스피드런!!스피드런은 다음의 완수 레벨, 즉 어떻게 게임을 완수했는지를 분류한다...   \n",
       "598  !!제3캐나다사단!!제3캐나다보병사단의 편성은 제2차 세계 대전 기간 동안 군 당국...   \n",
       "599  !!무연사회!!무연사회의 발생 원인은 구직을 위해 상경한 세대의 퇴직이후 고립, 개...   \n",
       "\n",
       "                                                 text8  \\\n",
       "0    !!국제천문연맹의 행성의 정의!!이 정의는 엄밀해야 할 정의가 모호성을 띄고 있다는...   \n",
       "1    !!내셔널리그 2010!!내셔널리그 2010(대한생명의 후원을 받아 대한생명 내셔널...   \n",
       "2    !!조지 S. 바우트웰!!바우트웰은 1869년 율리시스 S. 그랜트 대통령으로부터 ...   \n",
       "3    !!니카라과 수화!!1970년대 이전에 니카라과에는 청각장애인의 커뮤니티가 없었다....   \n",
       "4    !!베트남의 역사!!제1차 인도차이나 전쟁 이후 영국과 중국은 이전의 지배자였던 프...   \n",
       "..                                                 ...   \n",
       "595  !!가이아 건담!!가이아 건담(Gaia Gundam, ガイアガンダム)은 TV 애니메...   \n",
       "596  !!장면!!1951년 장면이 주한 미국대사와 프랑스 파리에 체류하고 있을 때, 부산...   \n",
       "597  !!게임 세이브!!게임 세이브(game save) 또는 세이브 게임(savegame...   \n",
       "598  !!제2캐나다사단!!제2캐나다사단(2nd Canada Division)은 1939년...   \n",
       "599  !!951 가스프라!!가스프라의 광대한 레골리스의 존재에 대해서는 아직도 논쟁이 지...   \n",
       "\n",
       "                                                 text9  ...     score1  \\\n",
       "0    !!HD 10180!!이 별은 여러 면에서 태양과 비슷하나, 질량은 태양보다 6퍼센...  ...  17.102198   \n",
       "1    !!카를루스 아우베르투 파헤이라!!2002년 FIFA 월드컵이 끝나고 브라질의 감독...  ...  17.460379   \n",
       "2    !!트라쉬불로스!!트라쉬불로스의 배경이나 초기 생애에 대해서는 알려진 것이 거의 없...  ...  37.175800   \n",
       "3    !!미국의 문화!!미국의 언어 미국은 연방 정부 차원에서 따로 공용어를 지정하지 않...  ...  48.735043   \n",
       "4    !!타이빈성!!과거 홍강 삼각주의 중심부에 자리 잡고 있었지만, 과거에는 타이빈성은...  ...  31.681423   \n",
       "..                                                 ...  ...        ...   \n",
       "595  !!FB-DIMM!!FB-DIMM(Fully Buffered DIMM)은 메모리 시...  ...  29.985798   \n",
       "596  !!장면!!1960년 12월 그는 정권 인수 3개월 안에 자유당 정권에 협조했거나 ...  ...  36.879814   \n",
       "597  !!프로젝트 리얼리티!!프로젝트 리얼리티(Project Reality)는 제병 협동...  ...  33.743507   \n",
       "598  !!제3캐나다사단!!제3캐나다보병사단은 오버로드 작전에서 영국 제1군단의 첫 부대로...  ...  38.346410   \n",
       "599  !!리튬 전지!!리튬 전지는 음극이나 전해질에 이용하는 화학 물질에 따라 몇 가지 ...  ...  39.279243   \n",
       "\n",
       "        score2     score3     score4     score5     score6     score7  \\\n",
       "0    16.029920  16.029920  15.858599  15.712366  15.546904  15.496980   \n",
       "1    17.154230  15.657099  15.509413  15.164756  14.344352  14.001638   \n",
       "2    20.547073  17.318540  16.901167  16.227207  16.097681  15.908007   \n",
       "3    34.802610  33.915123  29.701948  27.905252  27.905252  27.117690   \n",
       "4    15.859224  14.538159  12.526538  12.057945  11.544473  11.247150   \n",
       "..         ...        ...        ...        ...        ...        ...   \n",
       "595  23.889470  22.279081  22.264990  19.711796  19.415108  19.415108   \n",
       "596  36.879814  29.797470  29.797470  26.035213  26.035213  21.496092   \n",
       "597  32.673977  26.015755  25.058464  24.792051  24.625456  24.408936   \n",
       "598  33.044853  27.959087  26.811363  26.752077  26.600748  25.782146   \n",
       "599  18.905676  17.783783  16.616160  16.459131  16.459131  16.351220   \n",
       "\n",
       "        score8     score9    score10  \n",
       "0    15.345918  15.276966  15.246025  \n",
       "1    13.927957  13.894322  13.485586  \n",
       "2    14.557250  14.486744  14.122905  \n",
       "3    26.584930  26.017113  25.392410  \n",
       "4    11.247150  10.815040   9.990664  \n",
       "..         ...        ...        ...  \n",
       "595  18.901388  18.155262  17.389938  \n",
       "596  21.496092  21.368820  21.368820  \n",
       "597  24.403017  23.406464  23.088720  \n",
       "598  25.659435  25.332169  25.041822  \n",
       "599  16.229680  15.921311  15.727607  \n",
       "\n",
       "[600 rows x 21 columns]"
      ]
     },
     "execution_count": 19,
     "metadata": {},
     "output_type": "execute_result"
    }
   ],
   "source": [
    "import pandas as pd\n",
    "df = pd.DataFrame(total)\n",
    "df\n"
   ]
  },
  {
   "cell_type": "code",
   "execution_count": 20,
   "metadata": {},
   "outputs": [],
   "source": [
    "df.to_csv('../add_context_test_dataset.csv')"
   ]
  },
  {
   "cell_type": "code",
   "execution_count": null,
   "metadata": {},
   "outputs": [],
   "source": []
  }
 ],
 "metadata": {
  "interpreter": {
   "hash": "d4d1e4263499bec80672ea0156c357c1ee493ec2b1c70f0acce89fc37c4a6abe"
  },
  "kernelspec": {
   "display_name": "Python 3.8.5 64-bit ('base': conda)",
   "name": "python3"
  },
  "language_info": {
   "codemirror_mode": {
    "name": "ipython",
    "version": 3
   },
   "file_extension": ".py",
   "mimetype": "text/x-python",
   "name": "python",
   "nbconvert_exporter": "python",
   "pygments_lexer": "ipython3",
   "version": "3.8.5"
  }
 },
 "nbformat": 4,
 "nbformat_minor": 4
}
