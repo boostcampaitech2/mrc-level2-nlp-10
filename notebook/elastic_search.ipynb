{
 "cells": [
  {
   "cell_type": "code",
   "execution_count": 2,
   "metadata": {},
   "outputs": [
    {
     "name": "stderr",
     "output_type": "stream",
     "text": [
      "/opt/conda/lib/python3.8/site-packages/elasticsearch/connection/base.py:209: ElasticsearchWarning: Elasticsearch built-in security features are not enabled. Without authentication, your cluster could be accessible to anyone. See https://www.elastic.co/guide/en/elasticsearch/reference/7.15/security-minimal-setup.html to enable security.\n",
      "  warnings.warn(message, category=ElasticsearchWarning)\n"
     ]
    },
    {
     "data": {
      "text/plain": [
       "{'name': 'e4e1b4447e20',\n",
       " 'cluster_name': 'elasticsearch',\n",
       " 'cluster_uuid': 'DNoCuE3RTv2p_fQWsmn1YA',\n",
       " 'version': {'number': '7.15.1',\n",
       "  'build_flavor': 'default',\n",
       "  'build_type': 'deb',\n",
       "  'build_hash': '83c34f456ae29d60e94d886e455e6a3409bba9ed',\n",
       "  'build_date': '2021-10-07T21:56:19.031608185Z',\n",
       "  'build_snapshot': False,\n",
       "  'lucene_version': '8.9.0',\n",
       "  'minimum_wire_compatibility_version': '6.8.0',\n",
       "  'minimum_index_compatibility_version': '6.0.0-beta1'},\n",
       " 'tagline': 'You Know, for Search'}"
      ]
     },
     "execution_count": 2,
     "metadata": {},
     "output_type": "execute_result"
    }
   ],
   "source": [
    "from elasticsearch import Elasticsearch\n",
    "es = Elasticsearch('localhost:9200')\n",
    "es.info()"
   ]
  },
  {
   "cell_type": "code",
   "execution_count": 3,
   "metadata": {},
   "outputs": [],
   "source": [
    "path = '/opt/ml/data/wikipedia_documents.json'"
   ]
  },
  {
   "cell_type": "code",
   "execution_count": 4,
   "metadata": {},
   "outputs": [],
   "source": [
    "import json #json 수정하려고 열음\n",
    "with open(path, 'r') as f:\n",
    "    wiki = json.load(f)"
   ]
  },
  {
   "cell_type": "code",
   "execution_count": 5,
   "metadata": {},
   "outputs": [],
   "source": [
    "for i in range(len(wiki)):\n",
    "    del wiki[str(i)]['corpus_source']# 필요없는거 삭제\n",
    "    del wiki[str(i)]['domain']\n",
    "    del wiki[str(i)]['author']\n",
    "    del wiki[str(i)]['html']\n",
    "    del wiki[str(i)]['document_id']\n",
    "    del wiki[str(i)]['url']"
   ]
  },
  {
   "cell_type": "code",
   "execution_count": 6,
   "metadata": {},
   "outputs": [],
   "source": [
    "import re\n",
    "rez = []\n",
    "for wiki_id, wik in wiki.items():\n",
    "    text = wik['text']\n",
    "    text = re.sub(\"\", '', text) #\\n* 등 여러가지 삭제해야대는데 멀 해야대는지 잘몰겟네요 \n",
    "    wiki[wiki_id]['text'] = text"
   ]
  },
  {
   "cell_type": "code",
   "execution_count": 7,
   "metadata": {},
   "outputs": [],
   "source": [
    "INDEX_NAME = 'wiki'\n",
    "index_config = {\n",
    "        \"settings\": {\n",
    "            \"analysis\": {\n",
    "                \"filter\":{\n",
    "                    \"my_stop_filter\": { \n",
    "                        \"type\" : \"stop\",\n",
    "                        \"stopwords_path\" : \"my_stopwords.txt\" # /etc/elastic안에 txt파일이 존재해야 댑니다\n",
    "                    }\n",
    "                },\n",
    "                \"analyzer\": {\n",
    "                    \"nori_analyzer\": {\n",
    "                        \"type\": \"custom\",\n",
    "                        \"tokenizer\": \"nori_tokenizer\", # 노리 형태소 깔아야대는데 에러나면 맨위에 참고해서 깔기\n",
    "                        \"decompound_mode\": \"mixed\",\n",
    "                        \"filter\" : [\"my_stop_filter\"]# 위에서 정의한 stopword\n",
    "                    }\n",
    "                }\n",
    "            }\n",
    "        },\n",
    "        \"mappings\": {\n",
    "            \"dynamic\": \"strict\", # 먼지 잘모르겟\n",
    "            \"properties\": {\n",
    "                \"text\": {\"type\": \"text\", \"analyzer\": \"nori_analyzer\"},\n",
    "                \"title\":{\"type\": \"text\"}\n",
    "                }\n",
    "            }\n",
    "        }"
   ]
  },
  {
   "cell_type": "code",
   "execution_count": 8,
   "metadata": {},
   "outputs": [
    {
     "name": "stderr",
     "output_type": "stream",
     "text": [
      "<ipython-input-8-c1b8263f83d6>:3: DeprecationWarning: The 'body' parameter is deprecated for the 'create' API and will be removed in a future version. Instead use API parameters directly. See https://github.com/elastic/elasticsearch-py/issues/1698 for more information\n",
      "  es.indices.create(index=INDEX_NAME, body=index_config)\n"
     ]
    },
    {
     "data": {
      "text/plain": [
       "{'acknowledged': True, 'shards_acknowledged': True, 'index': 'wiki'}"
      ]
     },
     "execution_count": 8,
     "metadata": {},
     "output_type": "execute_result"
    }
   ],
   "source": [
    "if es.indices.exists(index=INDEX_NAME):\n",
    "    es.indices.delete(index=INDEX_NAME)\n",
    "es.indices.create(index=INDEX_NAME, body=index_config)"
   ]
  },
  {
   "cell_type": "code",
   "execution_count": 9,
   "metadata": {},
   "outputs": [
    {
     "name": "stderr",
     "output_type": "stream",
     "text": [
      "  0%|          | 0/60613 [00:00<?, ?it/s]<ipython-input-9-5a9fb178b7ff>:6: DeprecationWarning: The 'body' parameter is deprecated for the 'index' API and will be removed in a future version. Instead use the 'document' parameter. See https://github.com/elastic/elasticsearch-py/issues/1698 for more information\n",
      "  es.index(index=INDEX_NAME, id=doc_id, body=doc)\n",
      "100%|██████████| 60613/60613 [04:29<00:00, 224.58it/s]\n"
     ]
    }
   ],
   "source": [
    "import time\n",
    "import tqdm\n",
    "\n",
    "for doc_id, doc in tqdm.tqdm(wiki.items(),total=len(wiki)):\n",
    "    \n",
    "    es.index(index=INDEX_NAME, id=doc_id, body=doc)\n",
    "    # time.sleep(0.1) # 문서집어넣기 time슬립너어야 에러 안걸림 (너무빨리 문서를 호출해서)"
   ]
  },
  {
   "cell_type": "code",
   "execution_count": 10,
   "metadata": {},
   "outputs": [
    {
     "name": "stdout",
     "output_type": "stream",
     "text": [
      "{'_id': '60000',\n",
      " '_index': 'wiki',\n",
      " '_primary_term': 1,\n",
      " '_seq_no': 60000,\n",
      " '_source': {'text': '≪설원≫은 유가의 정치사상과 윤리도덕의 관념을 깊이 반영했다. 이것은 유향이 유가사상가이자 학자로서 '\n",
      "                     '자신의 책무를 수행하려 했던 결과다. 또한 왕조가 쇠퇴하는 추세뿐 아니라 지도층의 부정부패와 사치를 '\n",
      "                     '목격하고서, 제국을 바로잡아 보려는 노력을 반영한 것이기도 하다. 그래서 순임금, 우임금으로부터 '\n",
      "                     '진한(秦漢)에 이르기까지 여러 인물의 언행이나 사건 또는 일화를 모아 정치의 흥망을 엿볼 수 있는 '\n",
      "                     '역사의 거울을 제공했다. 이를 통해 군주와 신하들을 권면하고 조정을 정돈하며, 당시의 폐단을 '\n",
      "                     '바로잡으려 했던 것이다. 이에 유향은 각 고사를 통해서 제왕, 장상(將相), 사대부 들에게 어떻게 '\n",
      "                     '해야 바른 군주, 바른 신하, 바른 백성이 될 것인가, 그리고 어떻게 해야 제국을 일으키고 백성을 '\n",
      "                     '다스리며 외교를 처리할 것인가를 제시했다.\\n'\n",
      "                     '\\n'\n",
      "                     '이렇게 유향이 모은 이야기들에는 백성이 치국의 근본이 되어야 한다든가, 세금을 경감해야 한다든가, '\n",
      "                     '욕구를 억제하고 사치를 경계해야 한다든가, 통치자는 현신과 간신을 구별해야 한다든가, 현사를 높이고 '\n",
      "                     '예우해야 한다는 주장 등, 통치자라면 누구나 따라야 할 통치의 모든 덕목이 담겨 있다.',\n",
      "             'title': '설원 (책)'},\n",
      " '_type': '_doc',\n",
      " '_version': 1,\n",
      " 'found': True}\n"
     ]
    }
   ],
   "source": [
    "import pprint\n",
    "doc = es.get(index=INDEX_NAME, id=60000)#\n",
    "pprint.pprint(doc)"
   ]
  },
  {
   "cell_type": "code",
   "execution_count": 11,
   "metadata": {},
   "outputs": [],
   "source": [
    "tv = es.termvectors(index=INDEX_NAME, id=2, body={\"fields\" : [\"content\",\"title\"]})"
   ]
  },
  {
   "cell_type": "code",
   "execution_count": 12,
   "metadata": {},
   "outputs": [
    {
     "name": "stdout",
     "output_type": "stream",
     "text": [
      "{'_id': '2',\n",
      " '_index': 'wiki',\n",
      " '_type': '_doc',\n",
      " '_version': 1,\n",
      " 'found': True,\n",
      " 'term_vectors': {'title': {'field_statistics': {'doc_count': 60613,\n",
      "                                                 'sum_doc_freq': 123533,\n",
      "                                                 'sum_ttf': 123746},\n",
      "                            'terms': {'백남준': {'term_freq': 1,\n",
      "                                              'tokens': [{'end_offset': 3,\n",
      "                                                          'position': 0,\n",
      "                                                          'start_offset': 0}]}}}},\n",
      " 'took': 1}\n"
     ]
    }
   ],
   "source": [
    "pprint.pprint(tv)"
   ]
  },
  {
   "cell_type": "code",
   "execution_count": 13,
   "metadata": {},
   "outputs": [
    {
     "name": "stdout",
     "output_type": "stream",
     "text": [
      "{'_shards': {'failed': 0, 'skipped': 0, 'successful': 1, 'total': 1},\n",
      " 'hits': {'hits': [{'_id': '37924',\n",
      "                    '_index': 'wiki',\n",
      "                    '_score': 27.820606,\n",
      "                    '_source': {'text': '이 불화는 17세기말에서 18세기 초 팔공산 일대에서 활발한 활동을 '\n",
      "                                        '펼친 의균의 제자인 쾌민과 체준 등이 함께 1724년에 제작한 '\n",
      "                                        '영산회상도로서 중앙의 석가모니불을 중심으로 보살과 제자, 호법신 '\n",
      "                                        '등이 빽빽하게 둘러싸는 전형적인 군도형식을 보여주고 있다. 본존의 '\n",
      "                                        '키형 광배와 뾰족한 육계표현, 양감있는 인물표현, 중후한 사천왕의 '\n",
      "                                        '신체표현 등은 스승인 의균이 제작한 기림사 비로자나삼불회도와 유사한 '\n",
      "                                        '특징을 보여주고 있어 스승의 양식을 잘 계승하고 있다. 그러면서도 '\n",
      "                                        '색채에서 적색과 녹색의 강한 대조를 이루는 색채감이나 권속이 본존을 '\n",
      "                                        '빽빽하게 둘러싼 구성 등은 의균과는 다른 특징을 보여주고 있으며, '\n",
      "                                        '이와 같은 화풍적 특징은 1728년 이후 불화 화풍을 주도하고 '\n",
      "                                        '있다는데서 더욱 큰 학술적 의미가 있다고 판단된다.\\n'\n",
      "                                        '\\n'\n",
      "                                        '또한 이 불화는 화기뿐만 아니라 발원문을 비롯하여 후령통 등 격식을 '\n",
      "                                        '제대로 갖춘 복장주머니(腹藏囊)도 가지고 있어 불화 제작의 상황을 '\n",
      "                                        '짐작하는데 더 없이 중요한 정보를 제공하고 있다.',\n",
      "                                'title': '영천 봉림사 영산회상도 및 복장유물'},\n",
      "                    '_type': '_doc'},\n",
      "                   {'_id': '40876',\n",
      "                    '_index': 'wiki',\n",
      "                    '_score': 23.988441,\n",
      "                    '_source': {'text': '창원 성흥사 목조아미타여래삼존좌상은 성흥사 대웅전에 봉안되어 있는 '\n",
      "                                        '본존불상과 좌우협시보살상이다. 삼존불은 연화대좌 위에 앉아있는데 '\n",
      "                                        '아미타여래좌상을 중심으로 좌우에 연화가지를 든 관음보살상과 '\n",
      "                                        '대세지보살상이다\\n'\n",
      "                                        '\\n'\n",
      "                                        '창원 성흥사 목조아미타여래삼존좌상의 얼굴표현과 옷자락, 옷주름 등은 '\n",
      "                                        '17세기 중엽에 경상도 지역을 중심으로 활동하였던 조각승 희장이 '\n",
      "                                        '제작한 불상과 매우 유사하다\\n'\n",
      "                                        '\\n'\n",
      "                                        '현재 복장 발원문은 남아있지 않지만 양식적인 특징에서 분석할 수 '\n",
      "                                        '있는 제작시기와 상통한 점에서 1658년경 희장계 작품일 가능성이 '\n",
      "                                        '매우 높다. 희장은 양산 통도사와 부산 범어사를 비롯한 경상도와 '\n",
      "                                        '전라도 지역에 많은 작품을 남긴 17세기 중엽경의 가장 대표적인 '\n",
      "                                        '조각승이다\\n'\n",
      "                                        '\\n'\n",
      "                                        '따라서, 제작연대의 파악이 가능하고, 조각기법이 우수한 작품이므로 '\n",
      "                                        '‘경상남도 유형문화재’로 지정한다',\n",
      "                                'title': '창원 성흥사 목조아미타여래삼존좌상'},\n",
      "                    '_type': '_doc'},\n",
      "                   {'_id': '37967',\n",
      "                    '_index': 'wiki',\n",
      "                    '_score': 23.378029,\n",
      "                    '_source': {'text': '신라 경문왕 7년(862) 도의선사가 창건한 송광사에 모셔져 있는 '\n",
      "                                        '이 삼불좌상은 본존불인 석가불을 중앙에 안치하고, 오른쪽에는 '\n",
      "                                        '아미타불, 왼쪽에 약사불을 배치하고 있다. 무량사 '\n",
      "                                        '소조아미타불상(5.4m)과 함께 가장 거대한 소조불상(5m)으로, '\n",
      "                                        '신체 각 부분이 비교적 조화를 잘 이루고 있는 작품이다.\\n'\n",
      "                                        '\\n'\n",
      "                                        '장중하고 원만한 얼굴과 두껍게 처리한 옷은 당당한 불상양식에 걸맞는 '\n",
      "                                        '표현기법을 보여준다. 작은 소라 모양의 머리칼 표현은 강한 인상을 '\n",
      "                                        '나타내고 있는데 이는 조선 후기 양식이 나타나기 시작한 시대적 '\n",
      "                                        '특징을 보여주는 것이다.\\n'\n",
      "                                        '\\n'\n",
      "                                        '본존불에서는 삼불의 조성기와『묘법연화경』을 비롯한 불경류, '\n",
      "                                        '후령통(喉鈴筒) 등 다수의 복장품이 발견되었다.『조성기』에 의하면 '\n",
      "                                        '숭정 14년(인조 5년, 1641) 6월 29일 임금과 왕비의 '\n",
      "                                        '만수무강을 빌고 병자호란으로 청나라에 볼모로 잡혀가 있던 소현세자와 '\n",
      "                                        '봉림대군의 조속한 환국을 기원하면서 만들었음을 알 수 있다. 또한 '\n",
      "                                        '명나라와 청나라의 연호를 함께 사용하고 있어 임진왜란과 병자호란을 '\n",
      "                                        '겪으면서 당시의 극심한 혼란기를 극복하기 위한 국난극복의 의지와 '\n",
      "                                        '역사의식의 반영과 함께 당시의 문화적 역량을 최대한 발휘하였음을 '\n",
      "                                        '보여주고 있다.\\n'\n",
      "                                        '\\n'\n",
      "                                        '따라서 이 불상은 만든 연대가 확실하고 역사 의식이 반영된 '\n",
      "                                        '작품이라는 점에서 귀중한 자료로, 불상과 함께 복장유물 12종 중 '\n",
      "                                        '불상조성기 3점과 후령통 3점이 보물로 지정되어 있다.',\n",
      "                                'title': '완주 송광사 소조석가여래삼불좌상 및 복장유물'},\n",
      "                    '_type': '_doc'},\n",
      "                   {'_id': '36554',\n",
      "                    '_index': 'wiki',\n",
      "                    '_score': 22.540707,\n",
      "                    '_source': {'text': '서동사는 대한불교조계종 제22교구 본사 대흥사의 말사로 운거산 '\n",
      "                                        '기슭에 자리하고 있다. 서동사의 자세한 연혁은 알려져 있지 않으나 '\n",
      "                                        '1980년대 초 현 대웅전의 지붕 보수시 발견된 '\n",
      "                                        '「서동사중수상량문」(1870)과 「서동사중수서」(1870) 현판 '\n",
      "                                        '기록을 통해 개략적인 연혁을 파악할 수 있다.\\n'\n",
      "                                        '\\n'\n",
      "                                        '이 두 기록에 따르면, 서동사의 창건은 확신할 수 없으나 통일신라 '\n",
      "                                        '진성여왕 때(887~896)때 고운(孤雲) 최치원(崔致遠)선생이 '\n",
      "                                        '창건하였다고 하며, 이후 조선시대 임진(정유)왜란 때 병화(兵禍)로 '\n",
      "                                        '모두 소실된 것을 1779년에 복구하였다가 다시 약 90년 후인 '\n",
      "                                        '1780년 의윤(宜胤)스님이 주축이 되어 정기(正己), 진일(賑一) '\n",
      "                                        '등 3인의 스님이 발원하여 중수하였다고 한다.\\n'\n",
      "                                        '\\n'\n",
      "                                        '불상과 관련된 기록은 지금부터 약 20여 년 전 도난과정에서 '\n",
      "                                        '화산(華山)스님에 의해 수습된 조성발원문과 중수발원문이 남아 있다. '\n",
      "                                        '이 발원문에 의하면, 석가여래삼불상은 스님과 평범한 신도들이 주축이 '\n",
      "                                        '되어 옥보(玉寶)스님의 증명(證明) 아래 운혜(雲惠)를 비롯한 '\n",
      "                                        '8명의 조각승들이 참여하여 순치(順治) 8년(효종 1) 경인 겨울에 '\n",
      "                                        '조성을 마쳤다고 한다. 불상의 중수는 이 보다 154년 뒤인 '\n",
      "                                        '1804년(순조 4)에 이루어 졌고, 풍계순정(楓溪舜靜)을 비롯한 '\n",
      "                                        '19명의 승려화원들이 참여하여 개금하였다. 이 불상을 조각한 운혜는 '\n",
      "                                        '17세기 전반기 중후한 맛의 선 굵은 조각을 구사했던 수연(守衍)의 '\n",
      "                                        '조각 전통을 계승하여 독자적인 영역을 구축하였고, 17세기 '\n",
      "                                        '중․후반을 대표하는 조각승 으로 성장하였다.\\n'\n",
      "                                        '\\n'\n",
      "                                        '서동사 대웅전 석가여래삼불좌상은 중앙 사바세계의 교주 석가여래를 '\n",
      "                                        '중심으로 좌측에 동방 만월세계 약사여래, 우측에 서방 극락세계 '\n",
      "                                        '아미타여래를 배치한 공간적 삼세불 형식이다. 이러한 석가 '\n",
      "                                        '여래삼불형식은 비로자나삼불형식과 더불어 조선후기, 특히 17세기 '\n",
      "                                        '대에 크게 유행하였다. 그 이유는 사상적인 요인도 작용했겠지만, '\n",
      "                                        '임진왜란․정유재란․병자호란 등 일련의 국가적 전란을 겪으면서 소실된 '\n",
      "                                        '여러 불전을 재건할 여력이 부족했던 당시로서는 한 전각 내에 다양한 '\n",
      "                                        '사상과 신앙형태를 내포한 삼불을 모시는 것이 유효했던 것으로 '\n",
      "                                        '생각된다.\\n'\n",
      "                                        '\\n'\n",
      "                                        '삼존 모두 접목조 방식으로 제작되었는데, 우선 본존 석가여래는 '\n",
      "                                        '변형의 편단우견을 걸치고 팔각대좌 위에 다시 앙련의 연화좌를 놓고 '\n",
      "                                        '그 위에 결가부좌하였다. 반구형의 머리는 따로 제작한 나발로 '\n",
      "                                        '촘촘하게 부착하였고, 육계는 명확하게 드러내지 않았다. 머리의 '\n",
      "                                        '중앙과 정상에는 계주를 표현하였는데, 반달 형태의 큼직한 중앙계주가 '\n",
      "                                        '인상적이다. 얼굴은 뾰족하게 처리하였고 턱, 코 뿌리에서 갑자기 '\n",
      "                                        '솟은 돌출 코, 야무지게 앙다문 얇은 입술 등에서 개성적이면서 '\n",
      "                                        '엄정한 인상을 준다. 역3자형의 귀는 다소 추상적이며, 상․하각의 '\n",
      "                                        '골을 길게 파내어 특징적이다. 이러한 귀의 표현은 조각승 운혜가 '\n",
      "                                        '즐겨 사용했던 특징이기도 하다.\\n'\n",
      "                                        '\\n'\n",
      "                                        '착의 형식은 오른쪽 어깨를 살짝 덮은 변형의 편단우견이며, 두터운 '\n",
      "                                        '옷 깃 주름을 지나치게 치켜세워 강조하였는데, 이것이 신체와 '\n",
      "                                        '동떨어져 별개의 옷을 걸친 듯 다소 부자연스럽고 움츠린 듯 보이게 '\n",
      "                                        '하는 요소이다. 그러나 상체는 불필요한 주름들을 최대한 배제하여 '\n",
      "                                        '단순화시킨 반면, 하체는 입체적이고 탄력적인 주름으로 율동감 넘치게 '\n",
      "                                        '조각하여 의도적인 대조를 통한 시각적 장애를 감소시켜준다. 여기에 '\n",
      "                                        '다시 군의의 끝단을 율동감 있는 꽃잎 모양으로 멋을 내어 상체의 '\n",
      "                                        '단조로움을 보완하였다. 특히 왼쪽 무릎 부근에 형성된 이중의 큼직한 '\n",
      "                                        '주머니 모양의 주름과 왼쪽 측면의 폭 좁은 Ω형태로 마무리 한 '\n",
      "                                        '주름이 특색이 있다. 수인은 항마촉지인을 결하였고, 손바닥에는 '\n",
      "                                        '정(井)자 형태의 손금을 나타내었다. 무릎의 부메랑같이 표현된 '\n",
      "                                        '주름을 중심으로 물결치듯 입체적으로 표현한 주름과 정(井)자형 '\n",
      "                                        '손금은 대부분의 운혜조각에서 나타나고 있어 하나의 표식처럼 되고 '\n",
      "                                        '있다.\\n'\n",
      "                                        '\\n'\n",
      "                                        '좌협시 약사불상과 우협시 아미타불상은 엄지와 중지를 맞댄 수인을 '\n",
      "                                        '좌우대칭으로 표현하였고, 착의는 두 장의 대의를 걸친 이중착의법으로 '\n",
      "                                        '표현하여 본존불과의 차이를 두었다. 아미타불상은 엄지와 중지를 '\n",
      "                                        '둥글게 맞댄 하품중생인을, 약사불상은 아미타불상과 좌우 손의 위치만 '\n",
      "                                        '달리하여 왼손바닥 위에 약사불의 상징인 조그마한 약호를 올려 '\n",
      "                                        '약기인(藥器印)을 취하였다. 두 불상의 손가락은 본존불상에 비해 '\n",
      "                                        '길고 섬려하며, 손바닥에는 본존불과 마찬가지로 정(井)자 형태의 '\n",
      "                                        '손금을 나타내었다. 불의(佛衣)는 본존불과 마찬가지로 옷 깃을 '\n",
      "                                        '지나치게 두텁게 표현하여 다소 어색한맛이 있으나 전반적인 존상의 '\n",
      "                                        '품격을 저해하거나 관상에 지장을 초래할 정도는 아니다. 특히 이곳 '\n",
      "                                        '삼불형식에서 본존 편단우견, 좌우협시 이중착의로 차별을 둔 것은 '\n",
      "                                        '17세기 삼불형식에서 흔히 볼 수 있는 표현방식이다.\\n'\n",
      "                                        '\\n'\n",
      "                                        '이 삼불좌상은 상호나 신체의 표현 등에서 수조각승 운혜의 특색 있는 '\n",
      "                                        '조각적 경향도 잘 드러나고 있다. 특히 현존하는 운혜의 작품 가운데 '\n",
      "                                        '가장 이른 시기의 작품으로 17세기 불상조각 연구와 개금중수 과정을 '\n",
      "                                        '이해하는데 하나의 중요한 자료가 된다.',\n",
      "                                'title': '해남 서동사 목조석가여래삼불좌상'},\n",
      "                    '_type': '_doc'},\n",
      "                   {'_id': '34146',\n",
      "                    '_index': 'wiki',\n",
      "                    '_score': 22.340475,\n",
      "                    '_source': {'text': '불상을 모시기 위해 나무나 돌, 쇠 등을 깎아 일반적인 건축물보다 '\n",
      "                                        '작은 규모로 만든 것을 불감(佛龕)이라고 한다. 불감은 그 안에 '\n",
      "                                        '모신 불상의 양식뿐만 아니라, 당시의 건축 양식을 함께 살필 수 '\n",
      "                                        '있는 중요한 자료가 된다. \\\\n\\\\n이 작품은 높이 18cm의 '\n",
      "                                        '작은 불감으로, 청동으로 불감과 불상을 만들고 그 위에 금칠을 '\n",
      "                                        '하였다. 불감 내부를 살펴보면 난간을 두른 사각형의 기단 위에 '\n",
      "                                        '본존불과 양 옆에 보살상이 있으며, 그 위에 기둥과 지붕으로 된 '\n",
      "                                        '뚜껑이 덮혀 있다. 법당 모양의 뚜껑에는 앞면과 양쪽에 커다란 '\n",
      "                                        '창문이 있어서 안에 모셔진 불상을 잘 볼 수 있도록 '\n",
      "                                        '하였다.\\\\n\\\\n본존불은 얼굴이 추상적이고, 양 어깨를 감싸고 '\n",
      "                                        '있는 옷은 주름을 간략한 선으로 표현했다. 몸 뒤편에 있는 '\n",
      "                                        '광배(光背)는 머리광배와 몸광배로 나누어져 있으며, 불꽃무늬로 '\n",
      "                                        '가장자리를 장식하고 있다. 본존불 양 옆의 보살상도 구슬로 장식된 '\n",
      "                                        '관(冠)을 쓰고 있다는 점을 제외하면 형식이나 표현 수법이 본존불과 '\n",
      "                                        '유사하다.\\\\n\\\\n불감은 지금도 금색이 찬란하고 지붕에 녹청색이 '\n",
      "                                        '남아 있는 등 전체적인 보존 상태가 양호하다. 본존불의 긴 허리, '\n",
      "                                        '불규칙하게 나타나는 옷주름, 그리고 보살이 쓰고 있는 구슬로 장식한 '\n",
      "                                        '관(冠) 등 여러 양식으로 보아 만든 시기는 중국 북방 계통의 '\n",
      "                                        '영향을 받은 11∼12세기 경으로 추정된다. 이 작품은 고려시대 '\n",
      "                                        '또는 그 이전의 목조건축 양식과 조각수법을 보여주는 귀중한 예라는 '\n",
      "                                        '점에서 가치가 크다고 할 수 있다.',\n",
      "                                'title': '금동삼존불감'},\n",
      "                    '_type': '_doc'}],\n",
      "          'max_score': 27.820606,\n",
      "          'total': {'relation': 'gte', 'value': 10000}},\n",
      " 'timed_out': False,\n",
      " 'took': 217}\n"
     ]
    }
   ],
   "source": [
    "query = \"11 12세기에 제작된 본존불은 보통 어떤 나라의 특징이 전파되었나요?\" #특수문자 검색시 에러 # ~가 아마 문제여서 ~를 지움 ~가 정규식 사용에 쓰이는것같아 일단은 제거 하고 나중에 살리는 법도 알기\n",
    "res = es.search(index=INDEX_NAME, q=query, size=5)\n",
    "pprint.pprint(res)"
   ]
  },
  {
   "cell_type": "code",
   "execution_count": 14,
   "metadata": {},
   "outputs": [
    {
     "name": "stdout",
     "output_type": "stream",
     "text": [
      "Doc ID: '37924'  Score: 27.82\n",
      "Doc ID: '40876'  Score: 23.99\n",
      "Doc ID: '37967'  Score: 23.38\n",
      "Doc ID: '36554'  Score: 22.54\n",
      "Doc ID: '34146'  Score: 22.34\n"
     ]
    }
   ],
   "source": [
    "for hit in res['hits']['hits']:\n",
    "    print(\"Doc ID: %3r  Score: %5.2f\" % (hit['_id'], hit['_score']))# 문서를 참고해서 score"
   ]
  },
  {
   "cell_type": "code",
   "execution_count": 15,
   "metadata": {},
   "outputs": [],
   "source": [
    "from datasets import load_dataset"
   ]
  },
  {
   "cell_type": "code",
   "execution_count": 16,
   "metadata": {},
   "outputs": [
    {
     "data": {
      "text/plain": [
       "DatasetDict({\n",
       "    validation: Dataset({\n",
       "        features: ['question', 'id'],\n",
       "        num_rows: 600\n",
       "    })\n",
       "})"
      ]
     },
     "execution_count": 16,
     "metadata": {},
     "output_type": "execute_result"
    }
   ],
   "source": [
    "import datasets\n",
    "import pandas as pd\n",
    "import re\n",
    "import pandas as pd\n",
    "from datasets import load_from_disk\n",
    "trainpath = \"/opt/ml/data/train_dataset\"\n",
    "testpath = '/opt/ml/data/test_dataset'\n",
    "datasets = load_from_disk(testpath)\n",
    "datasets"
   ]
  },
  {
   "cell_type": "code",
   "execution_count": 17,
   "metadata": {},
   "outputs": [
    {
     "data": {
      "text/plain": [
       "600"
      ]
     },
     "execution_count": 17,
     "metadata": {},
     "output_type": "execute_result"
    }
   ],
   "source": [
    "query = datasets['validation']['question']\n",
    "# ground_truth = datasets['validation']['context']\n",
    "id = datasets['validation']['id']\n",
    "len(query)"
   ]
  },
  {
   "cell_type": "code",
   "execution_count": 18,
   "metadata": {},
   "outputs": [
    {
     "data": {
      "text/plain": [
       "'mrc-1-000653'"
      ]
     },
     "execution_count": 18,
     "metadata": {},
     "output_type": "execute_result"
    }
   ],
   "source": [
    "id[0]"
   ]
  },
  {
   "cell_type": "code",
   "execution_count": 19,
   "metadata": {},
   "outputs": [
    {
     "name": "stderr",
     "output_type": "stream",
     "text": [
      "/opt/conda/lib/python3.8/site-packages/elasticsearch/connection/base.py:209: ElasticsearchWarning: Elasticsearch built-in security features are not enabled. Without authentication, your cluster could be accessible to anyone. See https://www.elastic.co/guide/en/elasticsearch/reference/7.15/security-minimal-setup.html to enable security.\n",
      "  warnings.warn(message, category=ElasticsearchWarning)\n"
     ]
    }
   ],
   "source": [
    "correct = 0\n",
    "total = []\n",
    "for i, q in enumerate(query):\n",
    "    q = q.replace('~','-')\n",
    "    res = es.search(index=INDEX_NAME, q=q, size=1)\n",
    "    # print('query : ', q)\n",
    "    # print('id : ', id[i])\n",
    "    # print(res)\n",
    "    tmp = {\n",
    "        'id':id[i],\n",
    "        'res':res,\n",
    "    }\n",
    "    total.append(tmp)\n",
    "    \n",
    "    # context = res['hits']['hits']\n",
    "    # print(q)\n",
    "    # print(context)\n",
    "    # print('='*100)\n",
    "\n",
    "\n",
    "# print('% : ', correct/len(query))"
   ]
  },
  {
   "cell_type": "code",
   "execution_count": 20,
   "metadata": {},
   "outputs": [
    {
     "data": {
      "text/plain": [
       "'더크 젠틀리의 성스러운 탐정사무소의 줄거리는 이야기의 중추적인 부위에 자리잡은 시간 여행이란 주제 때문에 줄거리가 이어져 있지 않다.\\\\n\\\\n40억년전 지구에서, 사락사라의 사람들이 자신들만의 낙원을 만들기 위해 지구에 착륙하였다. 그러나, 기술자의 게으름으로 인해서 착륙선은 폭발하였으며, 안에 타고 있던 사락사라 사람들은 모두다 죽어버렸으며 그 폭발에 의한 에너지가 아미노산을 만들어 지구에 생명이 생기게 되었다. 그 게으른 엔지니어는 유령이 되어 그가 저지른 잘못을 돌리기 위해 돌아다니면서, 인류의 발전에 영향을 미쳐왔다. 1800년 초에 유령은 케임브리지 세인트 체드 단과대학의 리즈 교수가 타임머신을 가졌다는 걸 알게 되고, 리즈교수를 손에 넣을려고 하였으나 실패하고 만다. 그리고 유령은 새뮤얼 테일러 콜리지에게 붙어, 그의 시 쿠빌라이 칸과 늙은 뱃사람의 노래에 착륙선을 고칠방법을 적게 만든다. 유령은 200여 년 동안 콜리지의 작품에 감명을 받은 영혼을 찾아다녔으며, 21세기무렵 마이클 웬튼 윅스라는 전 예술잡지 편집장을 찾게 된다. 유령은 마이클이 콜리지의 작품을 읽게 만들었으며, 그를 조종하기 위해 마이클로 하여금 마이클의 후임 편집장인 알버트 로스를 살해하게 된다.\\\\n\\\\n유령의 다음 행동은 다른 사람에게 영향을 끼칠 숙주를 찾는 일이었다. 리즈는 어린 소녀를 재미있게 해주기 위해 타임머신을 가동하였으며, 유령이 사용하기위해 데려온 전자 수도사는 웨이포인트 테크놀러지 II의 사장인 고든 웨이를 죽여버린다. 리즈의 학생이었으며, 웨이포인트 테크놀러지 II의 컴퓨터 프로그래머인 리처드 맥더프는 그의 여자친구인 수잔 웨이의 집의 자동응답기에 저장된 메시지를 지우기 위해서 몰래 집에 침입하게 되는데, 그때 맥더프는 알지 못하게 유령에게 이용되었다.\\\\n\\\\n이건 만물의 상호 연관성을 믿는 맥더프의 친구인 더크 젠틀리를 끌여들이게 되었다. 더크 젠틀리와 맥더프는 여럿 우연한 장소에서 정보를 얻고, 유령이 개입했다는 것과, 리즈 교수가 타임머신을 가졌다는 걸 알게 된다. 그들은 리즈교수를 찾아가게 되었고, 리즈 교수는 타임머신이 있다는 걸 그들에게 말해준다. 그때, 그들은 유령에 빙의된 마이클을 만나게 되고, 보호장구를 갖춘 마이클은 교수에게 부탁하여 40억년 전으로 거슬러 올라가게 된다.\\\\n\\\\n마이클이 우주선을 수리하러 밖에 나가고, 리처드는 현대의 수잔으로부터 마이클이 로스를 살해했다는 전화를 받게 된다. 더크는 유령이 마이클을 조종하기 위해 로스를 살해했다고 추리하게 된다. 더크는 유령을 막지 못한다면 인류가 없어질 것이고, 사락사라인들이 지구를 차지하게 될거라고 경고하게 된다. 리즈교수는 더크 젠틀리를 데리고 1800년대로 데리고 간다. 거기서 더크는 콜리지에게 폴락에서 콜리지를 취재하러 왔다고 하고, 그가 착륙선을 고칠방법을 적지 못하게 막아 유령의 계획을 저지하게 된다. 현대로 돌아온 더크 젠틀리는 그가 맡고 있던 고양이 실종 사건이 없다는 걸 알게 되고, 비서에게 \"인류를 멸종위기에서 구했음 - 무료\"라고 청구서를 보내라고 지시한후 밖으로 나가게 된다.'"
      ]
     },
     "execution_count": 20,
     "metadata": {},
     "output_type": "execute_result"
    }
   ],
   "source": [
    "total[0]['res']['hits']['hits'][0]['_source']['text']"
   ]
  },
  {
   "cell_type": "code",
   "execution_count": 23,
   "metadata": {},
   "outputs": [],
   "source": [
    "for i in range(len(total)):\n",
    "    total[i]['res']=total[i]['res']['hits']['hits'][0]['_source']['text']"
   ]
  },
  {
   "cell_type": "code",
   "execution_count": 24,
   "metadata": {},
   "outputs": [
    {
     "data": {
      "text/html": [
       "<div>\n",
       "<style scoped>\n",
       "    .dataframe tbody tr th:only-of-type {\n",
       "        vertical-align: middle;\n",
       "    }\n",
       "\n",
       "    .dataframe tbody tr th {\n",
       "        vertical-align: top;\n",
       "    }\n",
       "\n",
       "    .dataframe thead th {\n",
       "        text-align: right;\n",
       "    }\n",
       "</style>\n",
       "<table border=\"1\" class=\"dataframe\">\n",
       "  <thead>\n",
       "    <tr style=\"text-align: right;\">\n",
       "      <th></th>\n",
       "      <th>id</th>\n",
       "      <th>res</th>\n",
       "    </tr>\n",
       "  </thead>\n",
       "  <tbody>\n",
       "    <tr>\n",
       "      <th>0</th>\n",
       "      <td>mrc-1-000653</td>\n",
       "      <td>더크 젠틀리의 성스러운 탐정사무소의 줄거리는 이야기의 중추적인 부위에 자리잡은 시간...</td>\n",
       "    </tr>\n",
       "    <tr>\n",
       "      <th>1</th>\n",
       "      <td>mrc-1-001113</td>\n",
       "      <td>냉전 종식 이후 전 세계적으로 소규모의 끊임없는 국지 분쟁들이 생겨나고 강대국들의 ...</td>\n",
       "    </tr>\n",
       "    <tr>\n",
       "      <th>2</th>\n",
       "      <td>mrc-0-002191</td>\n",
       "      <td>1933년 3월, 투표 과정의 위법성에 대한 문제제기가 불거졌다. 당시 오스트리아 ...</td>\n",
       "    </tr>\n",
       "    <tr>\n",
       "      <th>3</th>\n",
       "      <td>mrc-0-003951</td>\n",
       "      <td>유럽인들의 아메리카와 오세아니아 식민지화로 인해 아메리카와 오세아니아의 문화적, 민...</td>\n",
       "    </tr>\n",
       "    <tr>\n",
       "      <th>4</th>\n",
       "      <td>mrc-1-001272</td>\n",
       "      <td>1926년 학생 시절 베트남청년혁명당에 가입했고 1930년에 학생 파업을 지지했다는...</td>\n",
       "    </tr>\n",
       "    <tr>\n",
       "      <th>...</th>\n",
       "      <td>...</td>\n",
       "      <td>...</td>\n",
       "    </tr>\n",
       "    <tr>\n",
       "      <th>595</th>\n",
       "      <td>mrc-0-002989</td>\n",
       "      <td>재단 X가 슈라우드(=소노자키 후미네)가 개발한 가이아 메모리의 테크놀로지를 분석,...</td>\n",
       "    </tr>\n",
       "    <tr>\n",
       "      <th>596</th>\n",
       "      <td>mrc-0-001804</td>\n",
       "      <td>과거의 죄악에 대한 소급입법 적용을 반대하였다. 4.19 혁명 당시 사망한 사망자의...</td>\n",
       "    </tr>\n",
       "    <tr>\n",
       "      <th>597</th>\n",
       "      <td>mrc-0-003411</td>\n",
       "      <td>2005년(제56회 / 지바 롯데 마린스 대 한신 타이거스 1차전·10월 22일, ...</td>\n",
       "    </tr>\n",
       "    <tr>\n",
       "      <th>598</th>\n",
       "      <td>mrc-0-003436</td>\n",
       "      <td>주노 해변\\n\\n주노 해변은 쿠르쇨르메르의 양쪽으로 뻗은 5마일 정도의 해변이었다....</td>\n",
       "    </tr>\n",
       "    <tr>\n",
       "      <th>599</th>\n",
       "      <td>mrc-0-002605</td>\n",
       "      <td>구립운석(球粒隕石, 콘드라이트)는 석질운석의 일종으로, 운석의 원석이 용융이나 분화...</td>\n",
       "    </tr>\n",
       "  </tbody>\n",
       "</table>\n",
       "<p>600 rows × 2 columns</p>\n",
       "</div>"
      ],
      "text/plain": [
       "               id                                                res\n",
       "0    mrc-1-000653  더크 젠틀리의 성스러운 탐정사무소의 줄거리는 이야기의 중추적인 부위에 자리잡은 시간...\n",
       "1    mrc-1-001113  냉전 종식 이후 전 세계적으로 소규모의 끊임없는 국지 분쟁들이 생겨나고 강대국들의 ...\n",
       "2    mrc-0-002191  1933년 3월, 투표 과정의 위법성에 대한 문제제기가 불거졌다. 당시 오스트리아 ...\n",
       "3    mrc-0-003951  유럽인들의 아메리카와 오세아니아 식민지화로 인해 아메리카와 오세아니아의 문화적, 민...\n",
       "4    mrc-1-001272  1926년 학생 시절 베트남청년혁명당에 가입했고 1930년에 학생 파업을 지지했다는...\n",
       "..            ...                                                ...\n",
       "595  mrc-0-002989  재단 X가 슈라우드(=소노자키 후미네)가 개발한 가이아 메모리의 테크놀로지를 분석,...\n",
       "596  mrc-0-001804  과거의 죄악에 대한 소급입법 적용을 반대하였다. 4.19 혁명 당시 사망한 사망자의...\n",
       "597  mrc-0-003411  2005년(제56회 / 지바 롯데 마린스 대 한신 타이거스 1차전·10월 22일, ...\n",
       "598  mrc-0-003436  주노 해변\\n\\n주노 해변은 쿠르쇨르메르의 양쪽으로 뻗은 5마일 정도의 해변이었다....\n",
       "599  mrc-0-002605  구립운석(球粒隕石, 콘드라이트)는 석질운석의 일종으로, 운석의 원석이 용융이나 분화...\n",
       "\n",
       "[600 rows x 2 columns]"
      ]
     },
     "execution_count": 24,
     "metadata": {},
     "output_type": "execute_result"
    }
   ],
   "source": [
    "import pandas as pd\n",
    "df = pd.DataFrame(total)\n",
    "df\n"
   ]
  },
  {
   "cell_type": "code",
   "execution_count": 27,
   "metadata": {},
   "outputs": [],
   "source": [
    "df.to_csv('../add_context_test_dataet.csv')"
   ]
  }
 ],
 "metadata": {
  "interpreter": {
   "hash": "d4d1e4263499bec80672ea0156c357c1ee493ec2b1c70f0acce89fc37c4a6abe"
  },
  "kernelspec": {
   "display_name": "Python 3.8.5 64-bit ('base': conda)",
   "name": "python3"
  },
  "language_info": {
   "codemirror_mode": {
    "name": "ipython",
    "version": 3
   },
   "file_extension": ".py",
   "mimetype": "text/x-python",
   "name": "python",
   "nbconvert_exporter": "python",
   "pygments_lexer": "ipython3",
   "version": "3.8.5"
  }
 },
 "nbformat": 4,
 "nbformat_minor": 4
}
