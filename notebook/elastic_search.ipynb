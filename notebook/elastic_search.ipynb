{
 "cells": [
  {
   "cell_type": "code",
   "execution_count": 1,
   "metadata": {},
   "outputs": [
    {
     "name": "stderr",
     "output_type": "stream",
     "text": [
      "/opt/conda/lib/python3.8/site-packages/elasticsearch/connection/base.py:209: ElasticsearchWarning: Elasticsearch built-in security features are not enabled. Without authentication, your cluster could be accessible to anyone. See https://www.elastic.co/guide/en/elasticsearch/reference/7.15/security-minimal-setup.html to enable security.\n",
      "  warnings.warn(message, category=ElasticsearchWarning)\n"
     ]
    },
    {
     "data": {
      "text/plain": [
       "{'name': 'e4e1b4447e20',\n",
       " 'cluster_name': 'elasticsearch',\n",
       " 'cluster_uuid': 'DNoCuE3RTv2p_fQWsmn1YA',\n",
       " 'version': {'number': '7.15.1',\n",
       "  'build_flavor': 'default',\n",
       "  'build_type': 'deb',\n",
       "  'build_hash': '83c34f456ae29d60e94d886e455e6a3409bba9ed',\n",
       "  'build_date': '2021-10-07T21:56:19.031608185Z',\n",
       "  'build_snapshot': False,\n",
       "  'lucene_version': '8.9.0',\n",
       "  'minimum_wire_compatibility_version': '6.8.0',\n",
       "  'minimum_index_compatibility_version': '6.0.0-beta1'},\n",
       " 'tagline': 'You Know, for Search'}"
      ]
     },
     "execution_count": 1,
     "metadata": {},
     "output_type": "execute_result"
    }
   ],
   "source": [
    "from elasticsearch import Elasticsearch\n",
    "es = Elasticsearch('localhost:9200')\n",
    "es.info()"
   ]
  },
  {
   "cell_type": "code",
   "execution_count": 2,
   "metadata": {},
   "outputs": [],
   "source": [
    "path = '/opt/ml/data_v3/wikipedia_documents.json'"
   ]
  },
  {
   "cell_type": "code",
   "execution_count": 3,
   "metadata": {},
   "outputs": [],
   "source": [
    "import json #json 수정하려고 열음\n",
    "with open(path, 'r') as f:\n",
    "    wiki = json.load(f)"
   ]
  },
  {
   "cell_type": "code",
   "execution_count": 4,
   "metadata": {},
   "outputs": [
    {
     "data": {
      "text/plain": [
       "{'text': '당의 경선중 박근혜 측에서 BBK 의혹을 제기하면서부터 친이(親李, 친이명박) 진영과 친박(親朴, 친박근혜) 진영의 갈등이 시작되었다. 박근혜 측은 결과에 승복해 갈등은 사라지는 듯하다가, 본격적으로 갈등이 심화되어 집단탈당사태가 일어난건 공천파동에서였다. 이후 친박연대가 창당되면서 미디어법 등 몇 가지 정책들에서 친이계와 친박계의 미묘한 의견 차이는 있어왔으나, 2010년 1월 이명박 대통령이 세종시 사수안을 번복하고 제안한 세종시 수정안 방침에 대해 친박연대를 비롯한 당의 주요 친박계 의원들이 반발하면서 그 갈등이 더욱 커지고 있었다. 박근혜는 원안 추진을 재차 강조하여 화합의 가능성이 낮아진 데 이어 심지어 분당 가능성까지 나왔다 이전에 홍준표는 박근혜의 세종시 원안 추진론 발언에 대해 \\'탈당\\' 이야기까지 나온 상황이었고, 정몽준이 당론을 변경해야 한다는 말에 박근혜가 \"국민의 신뢰를 잃은 것에 대해 책임지실 문제\"라며 정몽준 책임론을 들고 나왔으며, 정운찬 국무총리를 비롯한 정부 고위직 관계자들까지 박근혜를 압박하는 상황이 벌어지면서 갈등의 골이 깊어지고 있었다. 이러한 갈등 속에서 야당들이 추진했던 정운찬 총리 해임안을 여당 내 친박계 의원들이 찬성한다는 입장을 밝히자 친이계 의원들은 \"총리 해임안에 찬성하는 것은 분당하자는 것\" 이라며 계파간의 대립이 극화되었다. 6월 29일 세종시와 관련해서 친박계 의원들을 비롯하여 야당의원들이 반대하는 가운데 수정안이 부결되었다. 이 때문에 친이, 친박간의 갈등이 당분간 해소되기 어렵다는 관측들이 나왔다. 하지만 2010년 8월, 이명박 대통령과 박근혜 전 대표가 전격 회동하면서 화해 분위기가 조성되었고 양측은 우호적인 분위기를 유지하다가 2011년에 들어서면서 친이계가 급속히 몰락하면서 당 중심이 친박계로 이동하였다는 관측이 지배적이다.',\n",
       " 'title': '자유한국당'}"
      ]
     },
     "execution_count": 4,
     "metadata": {},
     "output_type": "execute_result"
    }
   ],
   "source": [
    "wiki['224']"
   ]
  },
  {
   "cell_type": "code",
   "execution_count": 5,
   "metadata": {},
   "outputs": [],
   "source": [
    "# for i in range(len(wiki)):\n",
    "#     del wiki[str(i)]['corpus_source']# 필요없는거 삭제\n",
    "#     del wiki[str(i)]['domain']\n",
    "#     del wiki[str(i)]['author']\n",
    "#     del wiki[str(i)]['html']\n",
    "#     del wiki[str(i)]['document_id']\n",
    "#     del wiki[str(i)]['url']"
   ]
  },
  {
   "cell_type": "code",
   "execution_count": 6,
   "metadata": {},
   "outputs": [
    {
     "data": {
      "text/plain": [
       "'통계학은 관찰 및 조사로 얻을 수 있는 데이터로부터, 응용 수학의 기법을 이용해 수치상의 성질, 규칙성 또는 불규칙성을 찾아낸다. 통계적 기법은, 실험 계획, 데이터의 요약이나 해석을 실시하는데 있어서의 근거를 제공하는 학문이며, 폭넓은 분야에서 응용되어 실생활에 적용되고 있다 통계학은 실증적인 뿌리를 가지고 있으며 실질적 활용에 초점을 맞추고 있기 때문에, 흔히 순수수학과는 다소 구분되는 응용수학의 일종으로 여겨진다. 통계학의 방법을 통해, 실제의 수치들을 왜곡하여 해석하는 것을 막고 연구를 바탕으로 합리적인 의사결정을 할 수 있다. 통계학은 과학, 산업, 또는 사회의 문제에 적용되며 모집단을 연구하는 과정이 우선시된다. 모집단은 \"한나라 안에 사는 모든 사람\" 또는 \"크리스탈을 구성하는 모든 원자\"와 같이 일정한 특성을 지닌 집단이면 어느 것이든 가능하다. 통계학자들은 전체인구(인구조사를 하는 기업)에 대한 데이터를 편집한다. 이것은 정부의 통계관련 법률요약집같은 조직화된 방법으로 수행될 수도 있다. 기술통계학은 모집단의 데이터를 요약하는데 사용된다. 도수 및 비율 (경주 등) 범주 형 데이터를 설명하는 측면에서 더 유용할 동안 수치 기술자는 연속적인 데이터 유형 (소득 등)에 대한 평균과 표준 편차를 포함한다. 데이터 분석 방법 엄청난 자료가 연구되는 현대 사회에서 경제지표연구, 마케팅, 여론조사, 농업, 생명과학, 의료의 임상연구 등 다양한 분야에서 응용되고 있는 통계는 단연 우리 사회에서 가장 필요하고 실용적인 학문이라고 할 수 있다.'"
      ]
     },
     "execution_count": 6,
     "metadata": {},
     "output_type": "execute_result"
    }
   ],
   "source": [
    "wiki['16']['text']"
   ]
  },
  {
   "cell_type": "code",
   "execution_count": 7,
   "metadata": {},
   "outputs": [],
   "source": [
    "# import re\n",
    "# for i in range(len(wiki)):\n",
    "#     temp = wiki[f'{i}']['text']\n",
    "#     temp = re.sub('[#*~\"\\\"]','',temp)\n",
    "#     temp = temp.split('\\n')\n",
    "#     temp = [s.strip() for s in temp]\n",
    "#     temp = list(filter(None, temp))\n",
    "#     temp = ' '.join(temp)\n",
    "#     wiki[f'{i}']['text'] = temp"
   ]
  },
  {
   "cell_type": "code",
   "execution_count": 8,
   "metadata": {},
   "outputs": [
    {
     "data": {
      "text/plain": [
       "{'text': '파이의 날(Pi Day)은 원주율을 기념하는 날이다. 파이의 날은 원주율의 근삿값이 3.14이어서 3월 14일에 치러진다. 보통 3.14159에 맞추기 위해 오후 1시 59분에 기념하는데, 오후 1시 59분은 엄밀히 말하면 13시 59분이기 때문에 오전 1시 59분 혹은 15시 9분(오후 3시 9분)에 치러야 한다고 주장하는 사람도 있다. 세계 각국의 수학과에서 기념행사를 연다. 3월 14일은 알베르트 아인슈타인의 생일이면서 스티븐 호킹의 기일이기도 하다. 이 날은 여러 방법으로 기념된다. 사람들이 모여서 원주율이 생활에서 어떤 역할을 했는지 이야기하고 원주율이 없는 세상을 상상해 본다. 모임에서는 보통 파이를 먹는다. 또한 많은 행사에서 원주율을 소수점 아래의 숫자를 얼마나 많이 외우는지 겨루는 대회가 열린다. 분수 3과 7분의 1을 가분수로 나타내면 7분의 22가 되는데, 이를 유리수(순환소수)로 나타내면 3.142857...로 π의 근삿값이 되므로 7월 22일을 파이 근삿값 날로 부르기도 한다.',\n",
       " 'title': '파이의 날'}"
      ]
     },
     "execution_count": 8,
     "metadata": {},
     "output_type": "execute_result"
    }
   ],
   "source": [
    "wiki['14']"
   ]
  },
  {
   "cell_type": "code",
   "execution_count": 9,
   "metadata": {},
   "outputs": [],
   "source": [
    "INDEX_NAME = 'wiki'\n",
    "index_config = {\n",
    "        \"settings\": {\n",
    "            \"analysis\": {\n",
    "                \"filter\":{\n",
    "                    \"my_stop_filter\": { \n",
    "                        \"type\" : \"stop\",\n",
    "                        \"stopwords_path\" : \"my_stopwords.txt\" # /etc/elastic안에 txt파일이 존재해야 댑니다\n",
    "                    }\n",
    "                },\n",
    "                \"analyzer\": {\n",
    "                    \"nori_analyzer\": {\n",
    "                        \"type\": \"custom\",\n",
    "                        \"tokenizer\": \"nori_tokenizer\", # 노리 형태소 깔아야대는데 에러나면 맨위에 참고해서 깔기\n",
    "                        \"decompound_mode\": \"none\",\n",
    "                        \"filter\" : [\"my_stop_filter\"]# 위에서 정의한 stopword\n",
    "                    }\n",
    "                }\n",
    "            }\n",
    "        },\n",
    "        \"mappings\": {\n",
    "            \"dynamic\": \"strict\", # 먼지 잘모르겟\n",
    "            \"properties\": {\n",
    "                \"text\": {\"type\": \"text\", \"analyzer\": \"nori_analyzer\"},\n",
    "                \"title\":{\"type\": \"text\"}\n",
    "                }\n",
    "            }\n",
    "        }"
   ]
  },
  {
   "cell_type": "code",
   "execution_count": 10,
   "metadata": {},
   "outputs": [
    {
     "name": "stderr",
     "output_type": "stream",
     "text": [
      "<ipython-input-10-c1b8263f83d6>:3: DeprecationWarning: The 'body' parameter is deprecated for the 'create' API and will be removed in a future version. Instead use API parameters directly. See https://github.com/elastic/elasticsearch-py/issues/1698 for more information\n",
      "  es.indices.create(index=INDEX_NAME, body=index_config)\n"
     ]
    },
    {
     "data": {
      "text/plain": [
       "{'acknowledged': True, 'shards_acknowledged': True, 'index': 'wiki'}"
      ]
     },
     "execution_count": 10,
     "metadata": {},
     "output_type": "execute_result"
    }
   ],
   "source": [
    "if es.indices.exists(index=INDEX_NAME):\n",
    "    es.indices.delete(index=INDEX_NAME)\n",
    "es.indices.create(index=INDEX_NAME, body=index_config)"
   ]
  },
  {
   "cell_type": "code",
   "execution_count": 11,
   "metadata": {},
   "outputs": [
    {
     "name": "stderr",
     "output_type": "stream",
     "text": [
      "  0%|          | 0/60613 [00:00<?, ?it/s]<ipython-input-11-5a9fb178b7ff>:6: DeprecationWarning: The 'body' parameter is deprecated for the 'index' API and will be removed in a future version. Instead use the 'document' parameter. See https://github.com/elastic/elasticsearch-py/issues/1698 for more information\n",
      "  es.index(index=INDEX_NAME, id=doc_id, body=doc)\n",
      "100%|██████████| 60613/60613 [04:37<00:00, 218.40it/s]\n"
     ]
    }
   ],
   "source": [
    "import time\n",
    "import tqdm\n",
    "\n",
    "for doc_id, doc in tqdm.tqdm(wiki.items(),total=len(wiki)):\n",
    "    \n",
    "    es.index(index=INDEX_NAME, id=doc_id, body=doc)\n",
    "    # time.sleep(0.1) # 문서집어넣기 time슬립너어야 에러 안걸림 (너무빨리 문서를 호출해서)"
   ]
  },
  {
   "cell_type": "code",
   "execution_count": 12,
   "metadata": {},
   "outputs": [],
   "source": [
    "import pprint\n",
    "# doc = es.get(index=INDEX_NAME, id=60000)#\n",
    "# pprint.pprint(doc)"
   ]
  },
  {
   "cell_type": "code",
   "execution_count": 13,
   "metadata": {},
   "outputs": [],
   "source": [
    "tv = es.termvectors(index=INDEX_NAME, id=2, body={\"fields\" : [\"content\",\"title\"]})"
   ]
  },
  {
   "cell_type": "code",
   "execution_count": 14,
   "metadata": {},
   "outputs": [
    {
     "name": "stdout",
     "output_type": "stream",
     "text": [
      "{'_id': '2',\n",
      " '_index': 'wiki',\n",
      " '_type': '_doc',\n",
      " '_version': 1,\n",
      " 'found': True,\n",
      " 'term_vectors': {'title': {'field_statistics': {'doc_count': 6274,\n",
      "                                                 'sum_doc_freq': 10184,\n",
      "                                                 'sum_ttf': 10189},\n",
      "                            'terms': {'백남준': {'term_freq': 1,\n",
      "                                              'tokens': [{'end_offset': 3,\n",
      "                                                          'position': 0,\n",
      "                                                          'start_offset': 0}]}}}},\n",
      " 'took': 0}\n"
     ]
    }
   ],
   "source": [
    "pprint.pprint(tv)"
   ]
  },
  {
   "cell_type": "code",
   "execution_count": 15,
   "metadata": {},
   "outputs": [],
   "source": [
    "from datasets import load_dataset"
   ]
  },
  {
   "cell_type": "code",
   "execution_count": 16,
   "metadata": {},
   "outputs": [
    {
     "data": {
      "text/plain": [
       "DatasetDict({\n",
       "    validation: Dataset({\n",
       "        features: ['question', 'id'],\n",
       "        num_rows: 600\n",
       "    })\n",
       "})"
      ]
     },
     "execution_count": 16,
     "metadata": {},
     "output_type": "execute_result"
    }
   ],
   "source": [
    "import datasets\n",
    "import pandas as pd\n",
    "import re\n",
    "import pandas as pd\n",
    "from datasets import load_from_disk\n",
    "trainpath = \"/opt/ml/data/train_dataset\"\n",
    "testpath = '/opt/ml/data/test_dataset'\n",
    "datasets = load_from_disk(testpath)\n",
    "datasets"
   ]
  },
  {
   "cell_type": "code",
   "execution_count": 17,
   "metadata": {},
   "outputs": [
    {
     "data": {
      "text/plain": [
       "600"
      ]
     },
     "execution_count": 17,
     "metadata": {},
     "output_type": "execute_result"
    }
   ],
   "source": [
    "query = datasets['validation']['question']\n",
    "# ground_truth = datasets['validation']['context']\n",
    "id = datasets['validation']['id']\n",
    "len(query)"
   ]
  },
  {
   "cell_type": "code",
   "execution_count": 18,
   "metadata": {},
   "outputs": [
    {
     "data": {
      "text/plain": [
       "'mrc-1-000653'"
      ]
     },
     "execution_count": 18,
     "metadata": {},
     "output_type": "execute_result"
    }
   ],
   "source": [
    "id[0]"
   ]
  },
  {
   "cell_type": "code",
   "execution_count": 19,
   "metadata": {},
   "outputs": [
    {
     "name": "stderr",
     "output_type": "stream",
     "text": [
      "/opt/conda/lib/python3.8/site-packages/elasticsearch/connection/base.py:209: ElasticsearchWarning: Elasticsearch built-in security features are not enabled. Without authentication, your cluster could be accessible to anyone. See https://www.elastic.co/guide/en/elasticsearch/reference/7.15/security-minimal-setup.html to enable security.\n",
      "  warnings.warn(message, category=ElasticsearchWarning)\n"
     ]
    }
   ],
   "source": [
    "correct = 0\n",
    "total = []\n",
    "for i, q in enumerate(query):\n",
    "    q = q.replace('~','-')\n",
    "    res = es.search(index=INDEX_NAME, q=q, size=20)\n",
    "    # print('query : ', q)\n",
    "    # print('id : ', id[i])\n",
    "    # print(res)\n",
    "    tmp = {\n",
    "        'id':id[i],\n",
    "        # 'text1':res['hits']['hits'][0]['_source']['text'],\n",
    "        # 'score1':res['hits']['hits'][0]['_score'],\n",
    "        # 'text2':res['hits']['hits'][1]['_source']['text'],\n",
    "        # 'score2':res['hits']['hits'][1]['_score'],\n",
    "        # 'text3':res['hits']['hits'][2]['_source']['text'],\n",
    "        # 'score3':res['hits']['hits'][2]['_score'],\n",
    "    }\n",
    "    tmp2 = {f'text{j+1}':res['hits']['hits'][j]['_source']['text'] for j in range(20)}\n",
    "    tmp3 = {f'score{j+1}':res['hits']['hits'][j]['_score'] for j in range(20)}\n",
    "    tmp.update(tmp2)\n",
    "    tmp.update(tmp3)\n",
    "    \n",
    "    total.append(tmp)\n",
    "    \n",
    "    # context = res['hits']['hits']\n",
    "    # print(q)\n",
    "    # print(context)\n",
    "    # print('='*100)\n",
    "\n",
    "\n",
    "# print('% : ', correct/len(query))"
   ]
  },
  {
   "cell_type": "code",
   "execution_count": 20,
   "metadata": {},
   "outputs": [
    {
     "data": {
      "text/html": [
       "<div>\n",
       "<style scoped>\n",
       "    .dataframe tbody tr th:only-of-type {\n",
       "        vertical-align: middle;\n",
       "    }\n",
       "\n",
       "    .dataframe tbody tr th {\n",
       "        vertical-align: top;\n",
       "    }\n",
       "\n",
       "    .dataframe thead th {\n",
       "        text-align: right;\n",
       "    }\n",
       "</style>\n",
       "<table border=\"1\" class=\"dataframe\">\n",
       "  <thead>\n",
       "    <tr style=\"text-align: right;\">\n",
       "      <th></th>\n",
       "      <th>id</th>\n",
       "      <th>text1</th>\n",
       "      <th>text2</th>\n",
       "      <th>text3</th>\n",
       "      <th>text4</th>\n",
       "      <th>text5</th>\n",
       "      <th>text6</th>\n",
       "      <th>text7</th>\n",
       "      <th>text8</th>\n",
       "      <th>text9</th>\n",
       "      <th>...</th>\n",
       "      <th>score11</th>\n",
       "      <th>score12</th>\n",
       "      <th>score13</th>\n",
       "      <th>score14</th>\n",
       "      <th>score15</th>\n",
       "      <th>score16</th>\n",
       "      <th>score17</th>\n",
       "      <th>score18</th>\n",
       "      <th>score19</th>\n",
       "      <th>score20</th>\n",
       "    </tr>\n",
       "  </thead>\n",
       "  <tbody>\n",
       "    <tr>\n",
       "      <th>0</th>\n",
       "      <td>mrc-1-000653</td>\n",
       "      <td>더크 젠틀리의 성스러운 탐정사무소의 줄거리는 이야기의 중추적인 부위에 자리잡은 시간...</td>\n",
       "      <td>글리제 581 g는 천칭자리 방향으로 지구로부터 약 20.5광년 떨어진 적색 왜성 ...</td>\n",
       "      <td>지구 근접 소행성(地球近接小行星)은 지구 궤도와 교차하는 궤도를 가진 소행성으로, ...</td>\n",
       "      <td>지구 근접 소행성(地球近接小行星)은 지구 궤도와 교차하는 궤도를 가진 소행성으로, ...</td>\n",
       "      <td>서브지구(sub-Earth)는 지구와 금성보다 질량이 확연하게 작은 행성이다 태양계...</td>\n",
       "      <td>페가수스자리 51 b가 발견되기 이전 폴란드 천문학자 알렉산데르 볼시찬이 이미 펄서...</td>\n",
       "      <td>HD 40307 b의 질량은 적어도 지구의 4.2배 수준인데, 기존 가스 행성에 비...</td>\n",
       "      <td>이 정의는 엄밀해야 할 정의가 모호성을 띄고 있다는 점에서 비판을 많이 받았다. 천...</td>\n",
       "      <td>이 별은 여러 면에서 태양과 비슷하나, 질량은 태양보다 6퍼센트 더 크며 무거운 원...</td>\n",
       "      <td>...</td>\n",
       "      <td>15.195357</td>\n",
       "      <td>15.061412</td>\n",
       "      <td>15.045091</td>\n",
       "      <td>15.005158</td>\n",
       "      <td>14.952311</td>\n",
       "      <td>14.926474</td>\n",
       "      <td>14.923213</td>\n",
       "      <td>14.920198</td>\n",
       "      <td>14.846245</td>\n",
       "      <td>14.821501</td>\n",
       "    </tr>\n",
       "    <tr>\n",
       "      <th>1</th>\n",
       "      <td>mrc-1-001113</td>\n",
       "      <td>냉전 종식 이후 전 세계적으로 소규모의 끊임없는 국지 분쟁들이 생겨나고 강대국들의 ...</td>\n",
       "      <td>SK에서 방출된 이후 그는 일본을 여행하며 잠시 신변을 정리하고 있었다. 그 때 좌...</td>\n",
       "      <td>2014년 1월 10일 KBO 리그 LG 트윈스와 계약하며 2013년 이후 방출된 ...</td>\n",
       "      <td>1955년 8월 1일에 한인 위주로 구성된 &lt;길림성축구팀&gt;(지린축구단)이 창단했다....</td>\n",
       "      <td>에드미우송은 1988년 20세의 나이로 포르투갈에 와서 CD 나시오날에 입단했다. ...</td>\n",
       "      <td>2012년 1월 18일 카림 가르시아의 대체 외국인 선수로 한화 이글스에 입단했다....</td>\n",
       "      <td>2002년 FIFA 월드컵이 끝나고 브라질의 감독으로 선임되었다. 재임 초기에 열린...</td>\n",
       "      <td>2018년 FIFA월드컵 개최를 위해 제출된 팀 휘프의 새로운 경기장은 독일 건축가...</td>\n",
       "      <td>내셔널리그 2010(대한생명의 후원을 받아 대한생명 내셔널리그 2010으로 치름) ...</td>\n",
       "      <td>...</td>\n",
       "      <td>13.457867</td>\n",
       "      <td>13.457867</td>\n",
       "      <td>13.320274</td>\n",
       "      <td>13.215060</td>\n",
       "      <td>12.759902</td>\n",
       "      <td>12.619909</td>\n",
       "      <td>12.522187</td>\n",
       "      <td>12.442860</td>\n",
       "      <td>12.232193</td>\n",
       "      <td>12.095229</td>\n",
       "    </tr>\n",
       "    <tr>\n",
       "      <th>2</th>\n",
       "      <td>mrc-0-002191</td>\n",
       "      <td>1933년 3월, 투표 과정의 위법성에 대한 문제제기가 불거졌다. 당시 오스트리아 ...</td>\n",
       "      <td>돌푸스는 니더외스터라이히주의 텍싱탈에서 싱글맘이자 신실한 가톨릭교인인 어머니 밑에서...</td>\n",
       "      <td>; 디오의 성 : 1부의 무대. 흡혈귀 디오가 근거지로 하고 있던 곳이다. 배경에는...</td>\n",
       "      <td>부르군트의 콘라트 3세(Conrad III/Konrad III, 922년/925년 ...</td>\n",
       "      <td>650년 섬주(陝州) 협석(硤石)에서 요의(姚懿, 요선의姚善意)의 아들로 태어났다....</td>\n",
       "      <td>1928년 경상북도 성주에서 출생하여 지난날 한때 경상북도 대구에서 잠시 유아기를 ...</td>\n",
       "      <td>금전신탁의 운용방법은 특정한 특정(特定) 금전신탁과 특정하지 않은 불특정(不特定)금...</td>\n",
       "      <td>바우트웰은 1869년 율리시스 S. 그랜트 대통령으로부터 재무 장관의 임명을 받아들...</td>\n",
       "      <td>13세기 영국의 법률가 브랙턴(Henry de Bracton)의 주저는 \"영국의 법...</td>\n",
       "      <td>...</td>\n",
       "      <td>14.037574</td>\n",
       "      <td>13.988475</td>\n",
       "      <td>13.988475</td>\n",
       "      <td>13.820453</td>\n",
       "      <td>13.783020</td>\n",
       "      <td>13.774279</td>\n",
       "      <td>13.748519</td>\n",
       "      <td>13.661309</td>\n",
       "      <td>13.569367</td>\n",
       "      <td>13.496354</td>\n",
       "    </tr>\n",
       "    <tr>\n",
       "      <th>3</th>\n",
       "      <td>mrc-0-003951</td>\n",
       "      <td>유럽인들의 아메리카와 오세아니아 식민지화로 인해 아메리카와 오세아니아의 문화적, 민...</td>\n",
       "      <td>멕시코의 언어는 다양하고 그 중 스페인어가 가장 널리 쓰인다. 멕시코 원주민 언어들...</td>\n",
       "      <td>농아인 공동체는 멕시코 수화와 유카탄 수화를 사용하고, 바하칼리포르니아주 북부에서는...</td>\n",
       "      <td>영어는 발음, 어휘, 철자법 등이 영국, 북미, 영어를 사용하는 아프리카 국가, 싱...</td>\n",
       "      <td>국제 SIL은 에스놀로그에 기록되는 모든 언어에 3자리 부호를 매기는데 그 부호 수...</td>\n",
       "      <td>국제 SIL은 에스놀로그에 기록되는 모든 언어에 3자리 부호를 매기는데 그 부호 수...</td>\n",
       "      <td>세계농아인연맹(World Federation of the Deaf, WFD)은 농아...</td>\n",
       "      <td>1970년대 이전에 니카라과에는 청각장애인의 커뮤니티가 없었다. 청각장애인들은 서로...</td>\n",
       "      <td>미국의 언어 미국은 연방 정부 차원에서 따로 공용어를 지정하지 않고 있다. 하지만 ...</td>\n",
       "      <td>...</td>\n",
       "      <td>25.176722</td>\n",
       "      <td>25.176722</td>\n",
       "      <td>24.757680</td>\n",
       "      <td>24.757680</td>\n",
       "      <td>24.506810</td>\n",
       "      <td>24.480978</td>\n",
       "      <td>24.331877</td>\n",
       "      <td>24.197138</td>\n",
       "      <td>24.197138</td>\n",
       "      <td>24.071556</td>\n",
       "    </tr>\n",
       "    <tr>\n",
       "      <th>4</th>\n",
       "      <td>mrc-1-001272</td>\n",
       "      <td>1926년 학생 시절 베트남청년혁명당에 가입했고 1930년에 학생 파업을 지지했다는...</td>\n",
       "      <td>제1차 인도차이나 전쟁 중에는 프랑스 공군의 깟비 공군기지로 이용되었다. 1954년...</td>\n",
       "      <td>그는 1940년대에 자신의 군사 경력을 시작하여 프랑스 식민지 육군에 입대하였다. ...</td>\n",
       "      <td>이 작전에 관해서는 연합군의 침공 외의 전투는 일어나지 않았다. 일본군은 프랑스 주...</td>\n",
       "      <td>러셀 법정은 1966년 영국의 철학자 버트런드 러셀이 베트남 전쟁에서 일어난 전쟁범...</td>\n",
       "      <td>공항이 폐쇄됨에 따라 현재 나산 공항에 대한 예약된 운항 서비스는 없다. 2015년...</td>\n",
       "      <td>제1차 인도차이나 전쟁 이후 영국과 중국은 이전의 지배자였던 프랑스의 설득에 따라 ...</td>\n",
       "      <td>제1차 인도차이나 전쟁 이후 영국과 중국은 이전의 지배자였던 프랑스의 설득에 따라 ...</td>\n",
       "      <td>과거 홍강 삼각주의 중심부에 자리 잡고 있었지만, 과거에는 타이빈성은 3개의 큰 강...</td>\n",
       "      <td>...</td>\n",
       "      <td>9.847786</td>\n",
       "      <td>9.797603</td>\n",
       "      <td>9.714008</td>\n",
       "      <td>9.706580</td>\n",
       "      <td>9.669913</td>\n",
       "      <td>9.618228</td>\n",
       "      <td>9.618228</td>\n",
       "      <td>9.458575</td>\n",
       "      <td>9.437896</td>\n",
       "      <td>9.413426</td>\n",
       "    </tr>\n",
       "    <tr>\n",
       "      <th>...</th>\n",
       "      <td>...</td>\n",
       "      <td>...</td>\n",
       "      <td>...</td>\n",
       "      <td>...</td>\n",
       "      <td>...</td>\n",
       "      <td>...</td>\n",
       "      <td>...</td>\n",
       "      <td>...</td>\n",
       "      <td>...</td>\n",
       "      <td>...</td>\n",
       "      <td>...</td>\n",
       "      <td>...</td>\n",
       "      <td>...</td>\n",
       "      <td>...</td>\n",
       "      <td>...</td>\n",
       "      <td>...</td>\n",
       "      <td>...</td>\n",
       "      <td>...</td>\n",
       "      <td>...</td>\n",
       "      <td>...</td>\n",
       "      <td>...</td>\n",
       "    </tr>\n",
       "    <tr>\n",
       "      <th>595</th>\n",
       "      <td>mrc-0-002989</td>\n",
       "      <td>재단 X가 슈라우드(=소노자키 후미네)가 개발한 가이아 메모리의 테크놀로지를 분석,...</td>\n",
       "      <td>후토 타워의 완공 30주년이 되는 해의 여름, A에서 Z까지의 26개의 차세대 가이...</td>\n",
       "      <td>NEVER(NEVER(ネバー)|네바)는 다이도 카츠미가 이끄는 세계적으로 악명 높은...</td>\n",
       "      <td>\"가면라이더 W FOREVER A to Z/운명의 가이아 메모리\"(仮面ライダーW F...</td>\n",
       "      <td>IAS 머신은 40비트 워드를 갖춘 이진 방식의 컴퓨터의 하나로서, 워드 하나에 두...</td>\n",
       "      <td>ML은 범용 프로그래밍 언어의 일종이다. 프로그래밍 언어 분야의 핵심 연구 성과들을...</td>\n",
       "      <td>ML은 범용 프로그래밍 언어의 일종이다. 프로그래밍 언어 분야의 핵심 연구 성과들을...</td>\n",
       "      <td>가이아 건담(Gaia Gundam, ガイアガンダム)은 TV 애니메이션 &lt;기동전사 건...</td>\n",
       "      <td>FB-DIMM(Fully Buffered DIMM)은 메모리 시스템의 신뢰성과 밀집...</td>\n",
       "      <td>...</td>\n",
       "      <td>15.733595</td>\n",
       "      <td>14.913267</td>\n",
       "      <td>13.971909</td>\n",
       "      <td>13.237483</td>\n",
       "      <td>13.226234</td>\n",
       "      <td>13.084192</td>\n",
       "      <td>13.017657</td>\n",
       "      <td>12.709731</td>\n",
       "      <td>12.615415</td>\n",
       "      <td>12.509698</td>\n",
       "    </tr>\n",
       "    <tr>\n",
       "      <th>596</th>\n",
       "      <td>mrc-0-001804</td>\n",
       "      <td>과거의 죄악에 대한 소급입법 적용을 반대하였다. 4.19 혁명 당시 사망한 사망자의...</td>\n",
       "      <td>과거의 죄악에 대한 소급입법 적용을 반대하였다. 4.19 혁명 당시 사망한 사망자의...</td>\n",
       "      <td>4.19 의거나 3.15 부정선거 당시 학생 시위 진압자에 대한 미온적인 처벌이 논...</td>\n",
       "      <td>4.19 의거나 3.15 부정선거 당시 학생 시위 진압자에 대한 미온적인 처벌이 논...</td>\n",
       "      <td>4.19 관련자에 대한 미온적인 처벌이 문제가 되자 그는 결국 1960년 말부터 민...</td>\n",
       "      <td>4.19 관련자에 대한 미온적인 처벌이 문제가 되자 그는 결국 1960년 말부터 민...</td>\n",
       "      <td>1951년 장면이 주한 미국대사와 프랑스 파리에 체류하고 있을 때, 부산에 피난중이...</td>\n",
       "      <td>1951년 장면이 주한 미국대사와 프랑스 파리에 체류하고 있을 때, 부산에 피난중이...</td>\n",
       "      <td>1960년 12월 그는 정권 인수 3개월 안에 자유당 정권에 협조했거나 다른 문제점...</td>\n",
       "      <td>...</td>\n",
       "      <td>20.550333</td>\n",
       "      <td>20.550333</td>\n",
       "      <td>20.075735</td>\n",
       "      <td>19.189768</td>\n",
       "      <td>18.453518</td>\n",
       "      <td>16.962103</td>\n",
       "      <td>16.962103</td>\n",
       "      <td>16.893719</td>\n",
       "      <td>16.626183</td>\n",
       "      <td>16.560402</td>\n",
       "    </tr>\n",
       "    <tr>\n",
       "      <th>597</th>\n",
       "      <td>mrc-0-003411</td>\n",
       "      <td>2005년(제56회 / 지바 롯데 마린스 대 한신 타이거스 1차전·10월 22일, ...</td>\n",
       "      <td>콜드게임(called game)이란 야구나 소프트볼 등의 운동경기에서 심판에 의하여...</td>\n",
       "      <td>&lt;디스아너드 2&gt;(Dishonored 2)는 아케인 스튜디오가 개발하고 베데스다 소...</td>\n",
       "      <td>&lt;공박&gt;은 레드덕이 제작하고 엔트리브에서 배급하는 팀 플레이 족구 게임이다. CBT...</td>\n",
       "      <td>콜드데크(ColdTech) :* 물이 얼어붙는 온도의 동부 전선을 재현하기 위해서 ...</td>\n",
       "      <td>클라이맥스 시리즈는 일본 선수권 시리즈의 출전권을 내건 플레이오프 토너먼트이다. 히...</td>\n",
       "      <td>스피드런은 다음의 완수 레벨, 즉 어떻게 게임을 완수했는지를 분류한다: *Any% ...</td>\n",
       "      <td>게임 세이브(game save) 또는 세이브 게임(savegame)은 비디오 게임에...</td>\n",
       "      <td>프로젝트 리얼리티(Project Reality)는 제병 협동과 전술성을 강조하는 1...</td>\n",
       "      <td>...</td>\n",
       "      <td>22.800728</td>\n",
       "      <td>22.678783</td>\n",
       "      <td>22.230476</td>\n",
       "      <td>21.994638</td>\n",
       "      <td>21.948858</td>\n",
       "      <td>21.927380</td>\n",
       "      <td>21.751337</td>\n",
       "      <td>21.617775</td>\n",
       "      <td>21.612430</td>\n",
       "      <td>21.450008</td>\n",
       "    </tr>\n",
       "    <tr>\n",
       "      <th>598</th>\n",
       "      <td>mrc-0-003436</td>\n",
       "      <td>주노 해변 주노 해변은 쿠르쇨르메르의 양쪽으로 뻗은 5마일 정도의 해변이었다. 제3...</td>\n",
       "      <td>제3사단은 치명적인 운명을 맞은 영국 해외원정군의 일부였다. 이들은 제2차 세계 대...</td>\n",
       "      <td>캐나다군은 독일군의 베리에르 능선 방어가 여전히 철저하다는 것을 알고 있었다.D'E...</td>\n",
       "      <td>캉은 노르망디 상륙 당시 소드 해변을 공격하는 영국군의 주요 목표였다.Van der...</td>\n",
       "      <td>제2차 세계 대전 당시 불완전한 편제를 바탕으로 로저 에반스는 제1기갑사단을 이끌게...</td>\n",
       "      <td>토털라이즈 작전|트랙터블 작전|팔레즈 포위전 1944년 7월 25일, 중장 오마 브...</td>\n",
       "      <td>제3캐나다보병사단의 편성은 제2차 세계 대전 기간 동안 군 당국에 의해 1940년 ...</td>\n",
       "      <td>제2캐나다사단(2nd Canada Division)은 1939년 9월 1일 제2차 ...</td>\n",
       "      <td>제3캐나다보병사단은 오버로드 작전에서 영국 제1군단의 첫 부대로써, 그리고 제2캐나...</td>\n",
       "      <td>...</td>\n",
       "      <td>24.962254</td>\n",
       "      <td>24.127209</td>\n",
       "      <td>23.743805</td>\n",
       "      <td>22.893976</td>\n",
       "      <td>22.551537</td>\n",
       "      <td>21.873756</td>\n",
       "      <td>21.524927</td>\n",
       "      <td>21.507890</td>\n",
       "      <td>21.181059</td>\n",
       "      <td>21.083448</td>\n",
       "    </tr>\n",
       "    <tr>\n",
       "      <th>599</th>\n",
       "      <td>mrc-0-002605</td>\n",
       "      <td>구립운석(球粒隕石, 콘드라이트)는 석질운석의 일종으로, 운석의 원석이 용융이나 분화...</td>\n",
       "      <td>메티스의 크기는 60×40×34 km로, 4개 내부 위성들 중 2번째로 작다. 사이...</td>\n",
       "      <td>2006년 7월 착공을 시작으로 같은 달 마포구립 서강도서관 설치에 관한 조례가 제...</td>\n",
       "      <td>행성의 대기권에 끌려들면 유성체는 마찰열에 의해 전체, 또는 일부가 증발한다. 지구...</td>\n",
       "      <td>가스프라의 광대한 레골리스의 존재에 대해서는 아직도 논쟁이 지속되는 중이며, 완벽히...</td>\n",
       "      <td>염화 플루오린화 탄소(鹽化-化炭素) 또는 염화불화탄소(鹽化弗化炭素), 클로로플루오로...</td>\n",
       "      <td>염화 플루오린화 탄소(鹽化-化炭素) 또는 염화불화탄소(鹽化弗化炭素), 클로로플루오로...</td>\n",
       "      <td>무연사회의 발생 원인은 구직을 위해 상경한 세대의 퇴직이후 고립, 개인주의 확산, ...</td>\n",
       "      <td>리튬 전지는 음극이나 전해질에 이용하는 화학 물질에 따라 몇 가지 종류로 나뉜다. ...</td>\n",
       "      <td>...</td>\n",
       "      <td>15.500751</td>\n",
       "      <td>15.491877</td>\n",
       "      <td>15.462992</td>\n",
       "      <td>14.611640</td>\n",
       "      <td>14.611640</td>\n",
       "      <td>14.058848</td>\n",
       "      <td>13.946610</td>\n",
       "      <td>13.874954</td>\n",
       "      <td>13.700300</td>\n",
       "      <td>13.475863</td>\n",
       "    </tr>\n",
       "  </tbody>\n",
       "</table>\n",
       "<p>600 rows × 41 columns</p>\n",
       "</div>"
      ],
      "text/plain": [
       "               id                                              text1  \\\n",
       "0    mrc-1-000653  더크 젠틀리의 성스러운 탐정사무소의 줄거리는 이야기의 중추적인 부위에 자리잡은 시간...   \n",
       "1    mrc-1-001113  냉전 종식 이후 전 세계적으로 소규모의 끊임없는 국지 분쟁들이 생겨나고 강대국들의 ...   \n",
       "2    mrc-0-002191  1933년 3월, 투표 과정의 위법성에 대한 문제제기가 불거졌다. 당시 오스트리아 ...   \n",
       "3    mrc-0-003951  유럽인들의 아메리카와 오세아니아 식민지화로 인해 아메리카와 오세아니아의 문화적, 민...   \n",
       "4    mrc-1-001272  1926년 학생 시절 베트남청년혁명당에 가입했고 1930년에 학생 파업을 지지했다는...   \n",
       "..            ...                                                ...   \n",
       "595  mrc-0-002989  재단 X가 슈라우드(=소노자키 후미네)가 개발한 가이아 메모리의 테크놀로지를 분석,...   \n",
       "596  mrc-0-001804  과거의 죄악에 대한 소급입법 적용을 반대하였다. 4.19 혁명 당시 사망한 사망자의...   \n",
       "597  mrc-0-003411  2005년(제56회 / 지바 롯데 마린스 대 한신 타이거스 1차전·10월 22일, ...   \n",
       "598  mrc-0-003436  주노 해변 주노 해변은 쿠르쇨르메르의 양쪽으로 뻗은 5마일 정도의 해변이었다. 제3...   \n",
       "599  mrc-0-002605  구립운석(球粒隕石, 콘드라이트)는 석질운석의 일종으로, 운석의 원석이 용융이나 분화...   \n",
       "\n",
       "                                                 text2  \\\n",
       "0    글리제 581 g는 천칭자리 방향으로 지구로부터 약 20.5광년 떨어진 적색 왜성 ...   \n",
       "1    SK에서 방출된 이후 그는 일본을 여행하며 잠시 신변을 정리하고 있었다. 그 때 좌...   \n",
       "2    돌푸스는 니더외스터라이히주의 텍싱탈에서 싱글맘이자 신실한 가톨릭교인인 어머니 밑에서...   \n",
       "3    멕시코의 언어는 다양하고 그 중 스페인어가 가장 널리 쓰인다. 멕시코 원주민 언어들...   \n",
       "4    제1차 인도차이나 전쟁 중에는 프랑스 공군의 깟비 공군기지로 이용되었다. 1954년...   \n",
       "..                                                 ...   \n",
       "595  후토 타워의 완공 30주년이 되는 해의 여름, A에서 Z까지의 26개의 차세대 가이...   \n",
       "596  과거의 죄악에 대한 소급입법 적용을 반대하였다. 4.19 혁명 당시 사망한 사망자의...   \n",
       "597  콜드게임(called game)이란 야구나 소프트볼 등의 운동경기에서 심판에 의하여...   \n",
       "598  제3사단은 치명적인 운명을 맞은 영국 해외원정군의 일부였다. 이들은 제2차 세계 대...   \n",
       "599  메티스의 크기는 60×40×34 km로, 4개 내부 위성들 중 2번째로 작다. 사이...   \n",
       "\n",
       "                                                 text3  \\\n",
       "0    지구 근접 소행성(地球近接小行星)은 지구 궤도와 교차하는 궤도를 가진 소행성으로, ...   \n",
       "1    2014년 1월 10일 KBO 리그 LG 트윈스와 계약하며 2013년 이후 방출된 ...   \n",
       "2    ; 디오의 성 : 1부의 무대. 흡혈귀 디오가 근거지로 하고 있던 곳이다. 배경에는...   \n",
       "3    농아인 공동체는 멕시코 수화와 유카탄 수화를 사용하고, 바하칼리포르니아주 북부에서는...   \n",
       "4    그는 1940년대에 자신의 군사 경력을 시작하여 프랑스 식민지 육군에 입대하였다. ...   \n",
       "..                                                 ...   \n",
       "595  NEVER(NEVER(ネバー)|네바)는 다이도 카츠미가 이끄는 세계적으로 악명 높은...   \n",
       "596  4.19 의거나 3.15 부정선거 당시 학생 시위 진압자에 대한 미온적인 처벌이 논...   \n",
       "597  <디스아너드 2>(Dishonored 2)는 아케인 스튜디오가 개발하고 베데스다 소...   \n",
       "598  캐나다군은 독일군의 베리에르 능선 방어가 여전히 철저하다는 것을 알고 있었다.D'E...   \n",
       "599  2006년 7월 착공을 시작으로 같은 달 마포구립 서강도서관 설치에 관한 조례가 제...   \n",
       "\n",
       "                                                 text4  \\\n",
       "0    지구 근접 소행성(地球近接小行星)은 지구 궤도와 교차하는 궤도를 가진 소행성으로, ...   \n",
       "1    1955년 8월 1일에 한인 위주로 구성된 <길림성축구팀>(지린축구단)이 창단했다....   \n",
       "2    부르군트의 콘라트 3세(Conrad III/Konrad III, 922년/925년 ...   \n",
       "3    영어는 발음, 어휘, 철자법 등이 영국, 북미, 영어를 사용하는 아프리카 국가, 싱...   \n",
       "4    이 작전에 관해서는 연합군의 침공 외의 전투는 일어나지 않았다. 일본군은 프랑스 주...   \n",
       "..                                                 ...   \n",
       "595  \"가면라이더 W FOREVER A to Z/운명의 가이아 메모리\"(仮面ライダーW F...   \n",
       "596  4.19 의거나 3.15 부정선거 당시 학생 시위 진압자에 대한 미온적인 처벌이 논...   \n",
       "597  <공박>은 레드덕이 제작하고 엔트리브에서 배급하는 팀 플레이 족구 게임이다. CBT...   \n",
       "598  캉은 노르망디 상륙 당시 소드 해변을 공격하는 영국군의 주요 목표였다.Van der...   \n",
       "599  행성의 대기권에 끌려들면 유성체는 마찰열에 의해 전체, 또는 일부가 증발한다. 지구...   \n",
       "\n",
       "                                                 text5  \\\n",
       "0    서브지구(sub-Earth)는 지구와 금성보다 질량이 확연하게 작은 행성이다 태양계...   \n",
       "1    에드미우송은 1988년 20세의 나이로 포르투갈에 와서 CD 나시오날에 입단했다. ...   \n",
       "2    650년 섬주(陝州) 협석(硤石)에서 요의(姚懿, 요선의姚善意)의 아들로 태어났다....   \n",
       "3    국제 SIL은 에스놀로그에 기록되는 모든 언어에 3자리 부호를 매기는데 그 부호 수...   \n",
       "4    러셀 법정은 1966년 영국의 철학자 버트런드 러셀이 베트남 전쟁에서 일어난 전쟁범...   \n",
       "..                                                 ...   \n",
       "595  IAS 머신은 40비트 워드를 갖춘 이진 방식의 컴퓨터의 하나로서, 워드 하나에 두...   \n",
       "596  4.19 관련자에 대한 미온적인 처벌이 문제가 되자 그는 결국 1960년 말부터 민...   \n",
       "597  콜드데크(ColdTech) :* 물이 얼어붙는 온도의 동부 전선을 재현하기 위해서 ...   \n",
       "598  제2차 세계 대전 당시 불완전한 편제를 바탕으로 로저 에반스는 제1기갑사단을 이끌게...   \n",
       "599  가스프라의 광대한 레골리스의 존재에 대해서는 아직도 논쟁이 지속되는 중이며, 완벽히...   \n",
       "\n",
       "                                                 text6  \\\n",
       "0    페가수스자리 51 b가 발견되기 이전 폴란드 천문학자 알렉산데르 볼시찬이 이미 펄서...   \n",
       "1    2012년 1월 18일 카림 가르시아의 대체 외국인 선수로 한화 이글스에 입단했다....   \n",
       "2    1928년 경상북도 성주에서 출생하여 지난날 한때 경상북도 대구에서 잠시 유아기를 ...   \n",
       "3    국제 SIL은 에스놀로그에 기록되는 모든 언어에 3자리 부호를 매기는데 그 부호 수...   \n",
       "4    공항이 폐쇄됨에 따라 현재 나산 공항에 대한 예약된 운항 서비스는 없다. 2015년...   \n",
       "..                                                 ...   \n",
       "595  ML은 범용 프로그래밍 언어의 일종이다. 프로그래밍 언어 분야의 핵심 연구 성과들을...   \n",
       "596  4.19 관련자에 대한 미온적인 처벌이 문제가 되자 그는 결국 1960년 말부터 민...   \n",
       "597  클라이맥스 시리즈는 일본 선수권 시리즈의 출전권을 내건 플레이오프 토너먼트이다. 히...   \n",
       "598  토털라이즈 작전|트랙터블 작전|팔레즈 포위전 1944년 7월 25일, 중장 오마 브...   \n",
       "599  염화 플루오린화 탄소(鹽化-化炭素) 또는 염화불화탄소(鹽化弗化炭素), 클로로플루오로...   \n",
       "\n",
       "                                                 text7  \\\n",
       "0    HD 40307 b의 질량은 적어도 지구의 4.2배 수준인데, 기존 가스 행성에 비...   \n",
       "1    2002년 FIFA 월드컵이 끝나고 브라질의 감독으로 선임되었다. 재임 초기에 열린...   \n",
       "2    금전신탁의 운용방법은 특정한 특정(特定) 금전신탁과 특정하지 않은 불특정(不特定)금...   \n",
       "3    세계농아인연맹(World Federation of the Deaf, WFD)은 농아...   \n",
       "4    제1차 인도차이나 전쟁 이후 영국과 중국은 이전의 지배자였던 프랑스의 설득에 따라 ...   \n",
       "..                                                 ...   \n",
       "595  ML은 범용 프로그래밍 언어의 일종이다. 프로그래밍 언어 분야의 핵심 연구 성과들을...   \n",
       "596  1951년 장면이 주한 미국대사와 프랑스 파리에 체류하고 있을 때, 부산에 피난중이...   \n",
       "597  스피드런은 다음의 완수 레벨, 즉 어떻게 게임을 완수했는지를 분류한다: *Any% ...   \n",
       "598  제3캐나다보병사단의 편성은 제2차 세계 대전 기간 동안 군 당국에 의해 1940년 ...   \n",
       "599  염화 플루오린화 탄소(鹽化-化炭素) 또는 염화불화탄소(鹽化弗化炭素), 클로로플루오로...   \n",
       "\n",
       "                                                 text8  \\\n",
       "0    이 정의는 엄밀해야 할 정의가 모호성을 띄고 있다는 점에서 비판을 많이 받았다. 천...   \n",
       "1    2018년 FIFA월드컵 개최를 위해 제출된 팀 휘프의 새로운 경기장은 독일 건축가...   \n",
       "2    바우트웰은 1869년 율리시스 S. 그랜트 대통령으로부터 재무 장관의 임명을 받아들...   \n",
       "3    1970년대 이전에 니카라과에는 청각장애인의 커뮤니티가 없었다. 청각장애인들은 서로...   \n",
       "4    제1차 인도차이나 전쟁 이후 영국과 중국은 이전의 지배자였던 프랑스의 설득에 따라 ...   \n",
       "..                                                 ...   \n",
       "595  가이아 건담(Gaia Gundam, ガイアガンダム)은 TV 애니메이션 <기동전사 건...   \n",
       "596  1951년 장면이 주한 미국대사와 프랑스 파리에 체류하고 있을 때, 부산에 피난중이...   \n",
       "597  게임 세이브(game save) 또는 세이브 게임(savegame)은 비디오 게임에...   \n",
       "598  제2캐나다사단(2nd Canada Division)은 1939년 9월 1일 제2차 ...   \n",
       "599  무연사회의 발생 원인은 구직을 위해 상경한 세대의 퇴직이후 고립, 개인주의 확산, ...   \n",
       "\n",
       "                                                 text9  ...    score11  \\\n",
       "0    이 별은 여러 면에서 태양과 비슷하나, 질량은 태양보다 6퍼센트 더 크며 무거운 원...  ...  15.195357   \n",
       "1    내셔널리그 2010(대한생명의 후원을 받아 대한생명 내셔널리그 2010으로 치름) ...  ...  13.457867   \n",
       "2    13세기 영국의 법률가 브랙턴(Henry de Bracton)의 주저는 \"영국의 법...  ...  14.037574   \n",
       "3    미국의 언어 미국은 연방 정부 차원에서 따로 공용어를 지정하지 않고 있다. 하지만 ...  ...  25.176722   \n",
       "4    과거 홍강 삼각주의 중심부에 자리 잡고 있었지만, 과거에는 타이빈성은 3개의 큰 강...  ...   9.847786   \n",
       "..                                                 ...  ...        ...   \n",
       "595  FB-DIMM(Fully Buffered DIMM)은 메모리 시스템의 신뢰성과 밀집...  ...  15.733595   \n",
       "596  1960년 12월 그는 정권 인수 3개월 안에 자유당 정권에 협조했거나 다른 문제점...  ...  20.550333   \n",
       "597  프로젝트 리얼리티(Project Reality)는 제병 협동과 전술성을 강조하는 1...  ...  22.800728   \n",
       "598  제3캐나다보병사단은 오버로드 작전에서 영국 제1군단의 첫 부대로써, 그리고 제2캐나...  ...  24.962254   \n",
       "599  리튬 전지는 음극이나 전해질에 이용하는 화학 물질에 따라 몇 가지 종류로 나뉜다. ...  ...  15.500751   \n",
       "\n",
       "       score12    score13    score14    score15    score16    score17  \\\n",
       "0    15.061412  15.045091  15.005158  14.952311  14.926474  14.923213   \n",
       "1    13.457867  13.320274  13.215060  12.759902  12.619909  12.522187   \n",
       "2    13.988475  13.988475  13.820453  13.783020  13.774279  13.748519   \n",
       "3    25.176722  24.757680  24.757680  24.506810  24.480978  24.331877   \n",
       "4     9.797603   9.714008   9.706580   9.669913   9.618228   9.618228   \n",
       "..         ...        ...        ...        ...        ...        ...   \n",
       "595  14.913267  13.971909  13.237483  13.226234  13.084192  13.017657   \n",
       "596  20.550333  20.075735  19.189768  18.453518  16.962103  16.962103   \n",
       "597  22.678783  22.230476  21.994638  21.948858  21.927380  21.751337   \n",
       "598  24.127209  23.743805  22.893976  22.551537  21.873756  21.524927   \n",
       "599  15.491877  15.462992  14.611640  14.611640  14.058848  13.946610   \n",
       "\n",
       "       score18    score19    score20  \n",
       "0    14.920198  14.846245  14.821501  \n",
       "1    12.442860  12.232193  12.095229  \n",
       "2    13.661309  13.569367  13.496354  \n",
       "3    24.197138  24.197138  24.071556  \n",
       "4     9.458575   9.437896   9.413426  \n",
       "..         ...        ...        ...  \n",
       "595  12.709731  12.615415  12.509698  \n",
       "596  16.893719  16.626183  16.560402  \n",
       "597  21.617775  21.612430  21.450008  \n",
       "598  21.507890  21.181059  21.083448  \n",
       "599  13.874954  13.700300  13.475863  \n",
       "\n",
       "[600 rows x 41 columns]"
      ]
     },
     "execution_count": 20,
     "metadata": {},
     "output_type": "execute_result"
    }
   ],
   "source": [
    "import pandas as pd\n",
    "df = pd.DataFrame(total)\n",
    "df\n"
   ]
  },
  {
   "cell_type": "code",
   "execution_count": 21,
   "metadata": {},
   "outputs": [],
   "source": [
    "df.to_csv('../add_context_test_dataset.csv')"
   ]
  },
  {
   "cell_type": "code",
   "execution_count": null,
   "metadata": {},
   "outputs": [],
   "source": []
  }
 ],
 "metadata": {
  "interpreter": {
   "hash": "d4d1e4263499bec80672ea0156c357c1ee493ec2b1c70f0acce89fc37c4a6abe"
  },
  "kernelspec": {
   "display_name": "Python 3 (ipykernel)",
   "language": "python",
   "name": "python3"
  },
  "language_info": {
   "codemirror_mode": {
    "name": "ipython",
    "version": 3
   },
   "file_extension": ".py",
   "mimetype": "text/x-python",
   "name": "python",
   "nbconvert_exporter": "python",
   "pygments_lexer": "ipython3",
   "version": "3.8.5"
  }
 },
 "nbformat": 4,
 "nbformat_minor": 4
}
