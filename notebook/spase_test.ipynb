{
 "cells": [
  {
   "cell_type": "code",
   "execution_count": 178,
   "metadata": {},
   "outputs": [
    {
     "name": "stdout",
     "output_type": "stream",
     "text": [
      "/opt/ml/mrc-level2-nlp-10\n"
     ]
    }
   ],
   "source": [
    "%cd /opt/ml/mrc-level2-nlp-10/"
   ]
  },
  {
   "cell_type": "code",
   "execution_count": 179,
   "metadata": {},
   "outputs": [],
   "source": [
    "from retrieval import SparseRetrieval"
   ]
  },
  {
   "cell_type": "code",
   "execution_count": 180,
   "metadata": {},
   "outputs": [],
   "source": [
    "from transformers import AutoTokenizer\n",
    "tokenizer = AutoTokenizer.from_pretrained('klue/bert-base')"
   ]
  },
  {
   "cell_type": "code",
   "execution_count": 181,
   "metadata": {},
   "outputs": [
    {
     "name": "stdout",
     "output_type": "stream",
     "text": [
      "Lengths of unique contexts : 56737\n"
     ]
    }
   ],
   "source": [
    "retriever = SparseRetrieval(\n",
    "    tokenize_fn=tokenizer.tokenize, data_path=\"../data\", context_path=\"wikipedia_documents.json\"\n",
    ")"
   ]
  },
  {
   "cell_type": "code",
   "execution_count": 182,
   "metadata": {},
   "outputs": [
    {
     "name": "stderr",
     "output_type": "stream",
     "text": [
      "Token indices sequence length is longer than the specified maximum sequence length for this model (1133 > 512). Running this sequence through the model will result in indexing errors\n"
     ]
    },
    {
     "name": "stdout",
     "output_type": "stream",
     "text": [
      "Build passage embedding\n",
      "(56737, 50000)\n",
      "Embedding pickle saved.\n"
     ]
    }
   ],
   "source": [
    "retriever.get_sparse_embedding()"
   ]
  },
  {
   "cell_type": "code",
   "execution_count": 183,
   "metadata": {},
   "outputs": [
    {
     "data": {
      "text/plain": [
       "DatasetDict({\n",
       "    train: Dataset({\n",
       "        features: ['title', 'context', 'question', 'id', 'answers', 'document_id', '__index_level_0__'],\n",
       "        num_rows: 3952\n",
       "    })\n",
       "    validation: Dataset({\n",
       "        features: ['title', 'context', 'question', 'id', 'answers', 'document_id', '__index_level_0__'],\n",
       "        num_rows: 240\n",
       "    })\n",
       "})"
      ]
     },
     "execution_count": 183,
     "metadata": {},
     "output_type": "execute_result"
    }
   ],
   "source": [
    "from datasets import load_from_disk\n",
    "datasets = load_from_disk('../data/train_dataset')\n",
    "datasets"
   ]
  },
  {
   "cell_type": "code",
   "execution_count": 186,
   "metadata": {},
   "outputs": [
    {
     "name": "stdout",
     "output_type": "stream",
     "text": [
      "Load Saved Faiss Indexer.\n",
      "[query faiss search] done in 18.370 s\n"
     ]
    },
    {
     "data": {
      "application/vnd.jupyter.widget-view+json": {
       "model_id": "83d3937ee34b4c3aa9e618202ba6d55f",
       "version_major": 2,
       "version_minor": 0
      },
      "text/plain": [
       "Sparse retrieval:   0%|          | 0/240 [00:00<?, ?it/s]"
      ]
     },
     "metadata": {},
     "output_type": "display_data"
    }
   ],
   "source": [
    "retriever.build_faiss(num_clusters=64)\n",
    "df = retriever.retrieve_faiss(\n",
    "    datasets[\"validation\"], topk=1\n",
    ")"
   ]
  },
  {
   "cell_type": "code",
   "execution_count": 187,
   "metadata": {},
   "outputs": [],
   "source": [
    "context = df['context']\n",
    "orignal = df['original_context']"
   ]
  },
  {
   "cell_type": "code",
   "execution_count": 188,
   "metadata": {},
   "outputs": [
    {
     "data": {
      "text/html": [
       "<div>\n",
       "<style scoped>\n",
       "    .dataframe tbody tr th:only-of-type {\n",
       "        vertical-align: middle;\n",
       "    }\n",
       "\n",
       "    .dataframe tbody tr th {\n",
       "        vertical-align: top;\n",
       "    }\n",
       "\n",
       "    .dataframe thead th {\n",
       "        text-align: right;\n",
       "    }\n",
       "</style>\n",
       "<table border=\"1\" class=\"dataframe\">\n",
       "  <thead>\n",
       "    <tr style=\"text-align: right;\">\n",
       "      <th></th>\n",
       "      <th>question</th>\n",
       "      <th>id</th>\n",
       "      <th>context_id</th>\n",
       "      <th>context</th>\n",
       "      <th>original_context</th>\n",
       "      <th>answers</th>\n",
       "    </tr>\n",
       "  </thead>\n",
       "  <tbody>\n",
       "    <tr>\n",
       "      <th>0</th>\n",
       "      <td>처음으로 부실 경영인에 대한 보상 선고를 받은 회사는?</td>\n",
       "      <td>mrc-0-003264</td>\n",
       "      <td>[21869]</td>\n",
       "      <td>유동화회사는 자산유동화 업무를 새롭게 시작하거나, 금융기관에서 자산을 양도 받을 경...</td>\n",
       "      <td>순천여자고등학교 졸업, 1973년 이화여자대학교를 졸업하고 1975년 제17회 사법...</td>\n",
       "      <td>{'answer_start': [284], 'text': ['한보철강']}</td>\n",
       "    </tr>\n",
       "    <tr>\n",
       "      <th>1</th>\n",
       "      <td>스카버러 남쪽과 코보콘그 마을의 철도 노선이 처음 연장된 연도는?</td>\n",
       "      <td>mrc-0-004762</td>\n",
       "      <td>[40031]</td>\n",
       "      <td>No.3 스카버러 암초(Scarborough Shoal)는 해양법 협약(UNCLOS...</td>\n",
       "      <td>요크 카운티 동쪽에 처음으로 여객 열차 운행이 시작한 시점은 1868년 토론토 &amp; ...</td>\n",
       "      <td>{'answer_start': [146], 'text': ['1871년']}</td>\n",
       "    </tr>\n",
       "    <tr>\n",
       "      <th>2</th>\n",
       "      <td>촌락에서 운영 위원 후보자 이름을 쓰기위해 사용된 것은?</td>\n",
       "      <td>mrc-1-001810</td>\n",
       "      <td>[51813]</td>\n",
       "      <td>촌락공동체(村落共同體)의 연구는 고대의 제도적 역사를 논하는 중요한 방식들 가운데 ...</td>\n",
       "      <td>촐라 정부\\n 촐라의 정부 체제는 전제군주제였으며,2001 촐라의 군주는 절대적인 ...</td>\n",
       "      <td>{'answer_start': [517], 'text': ['나뭇잎']}</td>\n",
       "    </tr>\n",
       "    <tr>\n",
       "      <th>3</th>\n",
       "      <td>로타이르가 백조를 구하기 위해 사용한 것은?</td>\n",
       "      <td>mrc-1-000219</td>\n",
       "      <td>[47611]</td>\n",
       "      <td>콩타이지( , 혼태길)는 몽골귀족 칭호 중 하나다.\\n\\n중화제국에서 황태자를 의미...</td>\n",
       "      <td>프랑스의 십자군 무훈시는 1099년 예루살렘 왕국의 통치자가 된 고드프루아 드 부용...</td>\n",
       "      <td>{'answer_start': [1109], 'text': ['금대야']}</td>\n",
       "    </tr>\n",
       "    <tr>\n",
       "      <th>4</th>\n",
       "      <td>의견을 자유롭게 나누는 것은 조직 내 어떤 관계에서 가능한가?</td>\n",
       "      <td>mrc-1-000285</td>\n",
       "      <td>[15321]</td>\n",
       "      <td>R. J. 셰퍼는 목격자의 증언을 검증하는 점검 목록을 제공한다. \\n\\n# 저술이...</td>\n",
       "      <td>탈관료제화는 현대사회에서 관료제 성격이 약화되는 현상이다. 현대사회에서 관료제는 약...</td>\n",
       "      <td>{'answer_start': [386], 'text': ['수평적 관계']}</td>\n",
       "    </tr>\n",
       "    <tr>\n",
       "      <th>...</th>\n",
       "      <td>...</td>\n",
       "      <td>...</td>\n",
       "      <td>...</td>\n",
       "      <td>...</td>\n",
       "      <td>...</td>\n",
       "      <td>...</td>\n",
       "    </tr>\n",
       "    <tr>\n",
       "      <th>235</th>\n",
       "      <td>전단이 연나라와의 전쟁에서 승리했을 당시 제나라의 왕은 누구인가?</td>\n",
       "      <td>mrc-0-000484</td>\n",
       "      <td>[25129]</td>\n",
       "      <td>영공 11년(기원전 571년), 내(萊)나라를 공격해 내나라의 뇌물을 받고 퇴각했다...</td>\n",
       "      <td>연나라 군대의 사령관이 악의에서 기겁으로 교체되자, 전단은 스스로 신령의 계시를 받...</td>\n",
       "      <td>{'answer_start': [1084], 'text': ['제 양왕']}</td>\n",
       "    </tr>\n",
       "    <tr>\n",
       "      <th>236</th>\n",
       "      <td>공놀이 경기장 중 일부는 어디에 위치하고 있나?</td>\n",
       "      <td>mrc-0-002095</td>\n",
       "      <td>[10733]</td>\n",
       "      <td>산마리노의 축구단은 홈그라운드전을 치르지 않으며 애초에 홈 구장이 없다. 대신 매 ...</td>\n",
       "      <td>현재 우리가 볼 수 있는 티칼의 모습은 펜실베이니아 대학교와 과테말라 정부의 협조 ...</td>\n",
       "      <td>{'answer_start': [343], 'text': [''일곱 개의 신전 광장...</td>\n",
       "    </tr>\n",
       "    <tr>\n",
       "      <th>237</th>\n",
       "      <td>창씨개명령의 시행일을 미루는 것을 수락한 인물은?</td>\n",
       "      <td>mrc-0-003083</td>\n",
       "      <td>[14559]</td>\n",
       "      <td>법규명령이라 함은 행정기관이 헌법에 근거하여, 국민의 자유와 권리에 관한 사항(법규...</td>\n",
       "      <td>1940년 5월 1일 오전 창씨개명에 비협조적이라는 이유로 조선총독부 경무국에서 소...</td>\n",
       "      <td>{'answer_start': [247], 'text': ['미나미 지로']}</td>\n",
       "    </tr>\n",
       "    <tr>\n",
       "      <th>238</th>\n",
       "      <td>망코 잉카가 쿠스코를 되찾기 위해 마련한 군사는 총 몇 명인가?</td>\n",
       "      <td>mrc-0-002978</td>\n",
       "      <td>[33420]</td>\n",
       "      <td>《일본서기》에는 진구 황후, 제15대 오진 천황, 제16대 닌토쿠 천황의 3대에 걸...</td>\n",
       "      <td>빌카밤바 지역은 파차쿠티 황제 때 부터 잉카 제국에 속해있던 지역이었다. 스페인 군...</td>\n",
       "      <td>{'answer_start': [563], 'text': ['200,000명']}</td>\n",
       "    </tr>\n",
       "    <tr>\n",
       "      <th>239</th>\n",
       "      <td>마르크스주의자들의 사상은?</td>\n",
       "      <td>mrc-1-000622</td>\n",
       "      <td>[29229]</td>\n",
       "      <td>호찌민 사상(베트남어: Tư tưởng Hồ Chí Minh, 영어: Ho Chi ...</td>\n",
       "      <td>사회주의 혁명은 오로지 선진노동자계급에 기초한 계급투쟁으로서 이루어질 수 있다고 주...</td>\n",
       "      <td>{'answer_start': [811], 'text': ['공산주의']}</td>\n",
       "    </tr>\n",
       "  </tbody>\n",
       "</table>\n",
       "<p>240 rows × 6 columns</p>\n",
       "</div>"
      ],
      "text/plain": [
       "                                 question            id context_id  \\\n",
       "0          처음으로 부실 경영인에 대한 보상 선고를 받은 회사는?  mrc-0-003264    [21869]   \n",
       "1    스카버러 남쪽과 코보콘그 마을의 철도 노선이 처음 연장된 연도는?  mrc-0-004762    [40031]   \n",
       "2         촌락에서 운영 위원 후보자 이름을 쓰기위해 사용된 것은?  mrc-1-001810    [51813]   \n",
       "3                로타이르가 백조를 구하기 위해 사용한 것은?  mrc-1-000219    [47611]   \n",
       "4      의견을 자유롭게 나누는 것은 조직 내 어떤 관계에서 가능한가?  mrc-1-000285    [15321]   \n",
       "..                                    ...           ...        ...   \n",
       "235  전단이 연나라와의 전쟁에서 승리했을 당시 제나라의 왕은 누구인가?  mrc-0-000484    [25129]   \n",
       "236            공놀이 경기장 중 일부는 어디에 위치하고 있나?  mrc-0-002095    [10733]   \n",
       "237           창씨개명령의 시행일을 미루는 것을 수락한 인물은?  mrc-0-003083    [14559]   \n",
       "238   망코 잉카가 쿠스코를 되찾기 위해 마련한 군사는 총 몇 명인가?  mrc-0-002978    [33420]   \n",
       "239                        마르크스주의자들의 사상은?  mrc-1-000622    [29229]   \n",
       "\n",
       "                                               context  \\\n",
       "0    유동화회사는 자산유동화 업무를 새롭게 시작하거나, 금융기관에서 자산을 양도 받을 경...   \n",
       "1    No.3 스카버러 암초(Scarborough Shoal)는 해양법 협약(UNCLOS...   \n",
       "2    촌락공동체(村落共同體)의 연구는 고대의 제도적 역사를 논하는 중요한 방식들 가운데 ...   \n",
       "3    콩타이지( , 혼태길)는 몽골귀족 칭호 중 하나다.\\n\\n중화제국에서 황태자를 의미...   \n",
       "4    R. J. 셰퍼는 목격자의 증언을 검증하는 점검 목록을 제공한다. \\n\\n# 저술이...   \n",
       "..                                                 ...   \n",
       "235  영공 11년(기원전 571년), 내(萊)나라를 공격해 내나라의 뇌물을 받고 퇴각했다...   \n",
       "236  산마리노의 축구단은 홈그라운드전을 치르지 않으며 애초에 홈 구장이 없다. 대신 매 ...   \n",
       "237  법규명령이라 함은 행정기관이 헌법에 근거하여, 국민의 자유와 권리에 관한 사항(법규...   \n",
       "238  《일본서기》에는 진구 황후, 제15대 오진 천황, 제16대 닌토쿠 천황의 3대에 걸...   \n",
       "239  호찌민 사상(베트남어: Tư tưởng Hồ Chí Minh, 영어: Ho Chi ...   \n",
       "\n",
       "                                      original_context  \\\n",
       "0    순천여자고등학교 졸업, 1973년 이화여자대학교를 졸업하고 1975년 제17회 사법...   \n",
       "1    요크 카운티 동쪽에 처음으로 여객 열차 운행이 시작한 시점은 1868년 토론토 & ...   \n",
       "2    촐라 정부\\n 촐라의 정부 체제는 전제군주제였으며,2001 촐라의 군주는 절대적인 ...   \n",
       "3    프랑스의 십자군 무훈시는 1099년 예루살렘 왕국의 통치자가 된 고드프루아 드 부용...   \n",
       "4    탈관료제화는 현대사회에서 관료제 성격이 약화되는 현상이다. 현대사회에서 관료제는 약...   \n",
       "..                                                 ...   \n",
       "235  연나라 군대의 사령관이 악의에서 기겁으로 교체되자, 전단은 스스로 신령의 계시를 받...   \n",
       "236  현재 우리가 볼 수 있는 티칼의 모습은 펜실베이니아 대학교와 과테말라 정부의 협조 ...   \n",
       "237  1940년 5월 1일 오전 창씨개명에 비협조적이라는 이유로 조선총독부 경무국에서 소...   \n",
       "238  빌카밤바 지역은 파차쿠티 황제 때 부터 잉카 제국에 속해있던 지역이었다. 스페인 군...   \n",
       "239  사회주의 혁명은 오로지 선진노동자계급에 기초한 계급투쟁으로서 이루어질 수 있다고 주...   \n",
       "\n",
       "                                               answers  \n",
       "0            {'answer_start': [284], 'text': ['한보철강']}  \n",
       "1           {'answer_start': [146], 'text': ['1871년']}  \n",
       "2             {'answer_start': [517], 'text': ['나뭇잎']}  \n",
       "3            {'answer_start': [1109], 'text': ['금대야']}  \n",
       "4          {'answer_start': [386], 'text': ['수평적 관계']}  \n",
       "..                                                 ...  \n",
       "235         {'answer_start': [1084], 'text': ['제 양왕']}  \n",
       "236  {'answer_start': [343], 'text': [''일곱 개의 신전 광장...  \n",
       "237        {'answer_start': [247], 'text': ['미나미 지로']}  \n",
       "238      {'answer_start': [563], 'text': ['200,000명']}  \n",
       "239          {'answer_start': [811], 'text': ['공산주의']}  \n",
       "\n",
       "[240 rows x 6 columns]"
      ]
     },
     "execution_count": 188,
     "metadata": {},
     "output_type": "execute_result"
    }
   ],
   "source": [
    "df"
   ]
  },
  {
   "cell_type": "code",
   "execution_count": 189,
   "metadata": {},
   "outputs": [
    {
     "name": "stdout",
     "output_type": "stream",
     "text": [
      "% :  0.075\n",
      "num of correct :  18\n"
     ]
    }
   ],
   "source": [
    "correct = 0\n",
    "for i in range(len(context)):\n",
    "    if context[i] == orignal[i]: correct += 1\n",
    "\n",
    "print('% : ', correct/len(context))\n",
    "print('num of correct : ', correct)"
   ]
  }
 ],
 "metadata": {
  "interpreter": {
   "hash": "d4d1e4263499bec80672ea0156c357c1ee493ec2b1c70f0acce89fc37c4a6abe"
  },
  "kernelspec": {
   "display_name": "Python 3.8.5 64-bit ('base': conda)",
   "name": "python3"
  },
  "language_info": {
   "codemirror_mode": {
    "name": "ipython",
    "version": 3
   },
   "file_extension": ".py",
   "mimetype": "text/x-python",
   "name": "python",
   "nbconvert_exporter": "python",
   "pygments_lexer": "ipython3",
   "version": "3.8.5"
  },
  "orig_nbformat": 4
 },
 "nbformat": 4,
 "nbformat_minor": 2
}
