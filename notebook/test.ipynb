{
 "cells": [
  {
   "cell_type": "code",
   "execution_count": 3,
   "metadata": {},
   "outputs": [
    {
     "data": {
      "text/plain": [
       "{'attention_mask': [[1, 1, 1], [1, 1, 1]], 'input_ids': [[0, 0, 0], [0, 0, 1]]}"
      ]
     },
     "execution_count": 3,
     "metadata": {},
     "output_type": "execute_result"
    }
   ],
   "source": [
    "a=dict(attention_mask=[[1,1,1],[1,1,1]], input_ids=[[0,0,0],[0,0,1]])\n",
    "a"
   ]
  },
  {
   "cell_type": "code",
   "execution_count": 1,
   "metadata": {},
   "outputs": [],
   "source": [
    "def foo(*input, **kwargs):\n",
    "    print('attention_mask', kwargs.attention_mask)\n",
    "    print('input_ids', kwargs.input_ids)"
   ]
  },
  {
   "cell_type": "code",
   "execution_count": 4,
   "metadata": {},
   "outputs": [
    {
     "ename": "AttributeError",
     "evalue": "'dict' object has no attribute 'attention_mask'",
     "output_type": "error",
     "traceback": [
      "\u001b[0;31m---------------------------------------------------------------------------\u001b[0m",
      "\u001b[0;31mAttributeError\u001b[0m                            Traceback (most recent call last)",
      "\u001b[0;32m<ipython-input-4-9c589be6e6c6>\u001b[0m in \u001b[0;36m<module>\u001b[0;34m\u001b[0m\n\u001b[0;32m----> 1\u001b[0;31m \u001b[0mfoo\u001b[0m\u001b[0;34m(\u001b[0m\u001b[0ma\u001b[0m\u001b[0;34m)\u001b[0m\u001b[0;34m\u001b[0m\u001b[0;34m\u001b[0m\u001b[0m\n\u001b[0m",
      "\u001b[0;32m<ipython-input-1-db31e9f6cefe>\u001b[0m in \u001b[0;36mfoo\u001b[0;34m(*input, **kwargs)\u001b[0m\n\u001b[1;32m      1\u001b[0m \u001b[0;32mdef\u001b[0m \u001b[0mfoo\u001b[0m\u001b[0;34m(\u001b[0m\u001b[0;34m*\u001b[0m\u001b[0minput\u001b[0m\u001b[0;34m,\u001b[0m \u001b[0;34m**\u001b[0m\u001b[0mkwargs\u001b[0m\u001b[0;34m)\u001b[0m\u001b[0;34m:\u001b[0m\u001b[0;34m\u001b[0m\u001b[0;34m\u001b[0m\u001b[0m\n\u001b[0;32m----> 2\u001b[0;31m     \u001b[0mprint\u001b[0m\u001b[0;34m(\u001b[0m\u001b[0;34m'attention_mask'\u001b[0m\u001b[0;34m,\u001b[0m \u001b[0mkwargs\u001b[0m\u001b[0;34m.\u001b[0m\u001b[0mattention_mask\u001b[0m\u001b[0;34m)\u001b[0m\u001b[0;34m\u001b[0m\u001b[0;34m\u001b[0m\u001b[0m\n\u001b[0m\u001b[1;32m      3\u001b[0m     \u001b[0mprint\u001b[0m\u001b[0;34m(\u001b[0m\u001b[0;34m'input_ids'\u001b[0m\u001b[0;34m,\u001b[0m \u001b[0mkwargs\u001b[0m\u001b[0;34m.\u001b[0m\u001b[0minput_ids\u001b[0m\u001b[0;34m)\u001b[0m\u001b[0;34m\u001b[0m\u001b[0;34m\u001b[0m\u001b[0m\n",
      "\u001b[0;31mAttributeError\u001b[0m: 'dict' object has no attribute 'attention_mask'"
     ]
    }
   ],
   "source": [
    "foo(a)"
   ]
  },
  {
   "cell_type": "code",
   "execution_count": 7,
   "metadata": {},
   "outputs": [
    {
     "data": {
      "text/plain": [
       "Dataset({\n",
       "    features: ['context', 'id', 'question'],\n",
       "    num_rows: 600\n",
       "})"
      ]
     },
     "execution_count": 7,
     "metadata": {},
     "output_type": "execute_result"
    }
   ],
   "source": [
    "from datasets import load_from_disk\n",
    "datasets = load_from_disk('../validation/')\n",
    "datasets"
   ]
  },
  {
   "cell_type": "code",
   "execution_count": 14,
   "metadata": {},
   "outputs": [
    {
     "data": {
      "text/plain": [
       "\"유령'은 어느 행성에서 지구로 왔는가?\""
      ]
     },
     "execution_count": 14,
     "metadata": {},
     "output_type": "execute_result"
    }
   ],
   "source": [
    "datasets[0]['question']"
   ]
  },
  {
   "cell_type": "code",
   "execution_count": 15,
   "metadata": {},
   "outputs": [
    {
     "data": {
      "text/plain": [
       "['한국은 삼국시대부터 이두(吏讀)와 구결(口訣)을 써 왔는데, 구결은 본래 한문에 구두(句讀)를 떼는 데 쓰기 위한 일종의 보조 편법에 지나지 않았고, 이두는 비록 한국어를 표시함에 틀림이 없었지만 한국어를 자유자재로 적을 수 없었으며, 그 표기법의 일원성(一元性)이 없어서 설사 이두로써 족하다 해도 한자교육이 선행되어야 했다. 이러한 문자생활의 불편은 한자를 쓰지 않고도 배우기 쉽고 쓰기 쉬운 새로운 글자의 출현이 절실히 요구되었다.',\n",
       " '',\n",
       " '이러한 사조가 세종 때에 특히 두드러져 드디어 1443년 음력 12월에 문자혁명의 결실을 보게 되었다. 훈민정음 창제의 취지는 세종이 손수 저술한 《훈민정음》 예의편(例義篇) 첫머리에 잘 나타나 있는데, 첫째로 한국어는 중국말과 다르므로 한자를 가지고는 거의 제대로 표기하기 어려우며, 둘째로 우리의 고유한 글자가 없어서 문자생활의 불편이 매우 심하고, 셋째로 이런 뜻에서 새로 글자를 만들었으니 일상생활에 편하게 쓰라는 것이다. ',\n",
       " '',\n",
       " '‘훈민정음’은 “백성을 가르치는 바른 소리”라는 뜻으로 , 세종의 어제 서문과 정인지 서(序)에서 분명히 밝히고 있는바, 당시까지 한문 의존에 따른 어려움을 근본부터 극복하기 위해 한국어의 고유 문자로서 창제되었다.',\n",
       " '',\n",
       " '한편 훈민정음 창제 5년 뒤에 《동국정운(東國正韻)》이 간행되는데, 당시 조선에서 통용되던 한자음을 중국어 원음으로 교정하기 위한 책으로서 이것의 발음 표기에 훈민정음이 사용되고 있다. 따라서 세종의 훈민정음 창제가 한자 및 한문의 폐지를 목적한 것은 아니라고 보이며, 훈민정음의 활용 범위가 상당히 넓었음을 짐작할 수 있다. 훈민정음에 반대하는 신하들이 있었는데, 대표적으로 최만리는 상소를 올려 반대하였다. 그러나 세종은 \"경이 운서를 아는가? 사성칠음에 자모가 몇이나 있는가? 만일 과인이 운서를 바로잡지 아니하면 누가 이를 바로잡을 것인가?\" 라고 말하였다.',\n",
       " '',\n",
       " '처음 만들었을 때는 낱자 28글자와 성조를 나타내는 기호(방점)가 따로 있었으나, 지금은 ㅿ, ㆁ, ㆆ, ㆍ 네 글자와 성조 기호(방점)가 사라져서 24글자가 되었다. (제주도를 비롯한 몇 곳에서는 아직도 ㆍ의 발음이 남아 있다.) 광안 시는 쓰촨 성 북부(川北)와 동부(川東)가 서로 만나는 곳으로, 역사상 여러 곳으로 분할되어 난충이나 충칭 등 주변의 중심 도시에 속해 왔다. 청나라 때, 현재의 우성 현은 천동도의 중경부·합주의 관할이 되었고, 현재의 광안 구(광안현), 화시, 린수이 현, 웨츠 현은 천북도의 순경부(난충)의 관할이 되었다. 중화인민공화국 시기로 접어들면서, 광안 구, 화잉 시, 우성 현, 웨츠 현은 난충 지구로 들어갔고, 린수이 현은 다셴 지구의 관할이 되었다.',\n",
       " '',\n",
       " '1993년에 주위의 지구로부터 화잉 시, 우성 현, 웨츠 현, 광안 현, 린수이 현을 독립시켜, 광안 현에 중심을 두는 광안 지구가 설립되었지만, 1998년 7월 31일에 광안 지구와 광안 현은 폐지되고 지급시인 광안 시가 되었다. 50만 년에 걸친 대우주 전쟁을 계속하고 있는 거인족의 양 세력, 남성의 젠트라디군과 여성의 멜트란디군. 서기 2009년 그 전화는 지구에 다다르게 되어 젠트라디군의 기습을 받은 지구통합군의 거대 우주전함 마크로스는 탈출시의 동력이상으로 태양계외 주변부로 워프 해버리게 된다. 추격을 받으면서 지구로 자력귀환을 시도한 지 5개월째 토성근처에서 이야기가 시작된다.',\n",
       " '',\n",
       " '지구를 떠날 당시 피난한 5만 8천 명의 민간인은 광대한 함 내에 시가지를 건설하고 생활을 계속하고 있다. 발키리 파일럿 이치조 히카루(一条輝)는 아이돌 가수 링 밍메이(リン・ミンメイ)와 상관 하야세 미사(早瀬未沙)와 가까워지게 되고, 그런 평범한 일상이 문화가 존재하지 않는 거인족에게는 상상하기 힘든 혼란을 일으키게 된다. 주인공인 비론 파릴(Biron Farrill)은 네페로스 행성의 지도자의 아들로서 지구의 대학에 유학을 왔다. 어느날 동급생 샌더 존티어(Sander Jonti)는 네페로스 행성이 속한 말머리 성운을 지배하는 타이란 제국에 의해 비론의 아버지가 체포를 당했다고 말하며 다른 별인 로디아(Rhodia)로 도망치기를 권한다. 그곳에 가서도 어려움을 겪다가 총독의 딸인 아르타(Artemisia) 그녀의 삼촌 질브레트(Gillbret)와 함께 우주선을 탈취해고 린겐(Lingane)별을 찾아간다. 거기서 아우타치(Autarch)(=샌더 존티어)의 정체를 알게되고 질브레트(Gillbret)가 말하는 숨겨진 혁명세력을 찾으러 같이 말머리 성운 안을 탐험하러 간다. 그곳의 한 행성에서 아우타치는 자신이 밀고자임을 말하며 비론을 죽이려고한다. 그러나 그가 배신자임을 알게된 측근에 의해 아우타치는 죽게되고 일행은 타이란 제국측에 체포된다. 질브레트는 결국 숨겨진 혁명 세력이란 자신의 공상임을 밝히고 처형 직전에 사면을 받아 일행은 목숨을 건지게된다. ',\n",
       " \"그러나 혁명세력은 존재하였고 중심은 바로 로디아(Rhodia)였다고 로디아의 힌리크 총독이 밝히며 마지막에 이상적인 정치를 위한 고대문서로 '미국 헌법'이 언급한다. 후발해 (後渤海, 926년? ~ ????년?)는 929년에 발해가 요나라에 의해 멸망된 뒤에 발해의 왕족인 대씨가 세운 나라이다. 건국 시점과 멸망 시점이 분명하지 않다.\",\n",
       " '',\n",
       " '건국 시점은 927년 ~ 929년경이라는 추측만이 나오고 있다.',\n",
       " '',\n",
       " '후발해 건국을 명확하게 증명하는 문헌이 없는 실정이어서, 1990년대 이후에 야율우지(耶律羽之) 묘지등의 석각 사료가 발견된 것에 의해, 후발해가 확실히 있었다고 보는 연구자는 적다.',\n",
       " '',\n",
       " '거란의 괴뢰 정권인 동란국(東丹國)이 상경용천부(上京龍泉府) 천복성에서 요양(遼陽)으로 이동하였는데, 이 때에 거란군이 괴멸당했다고 적혀있다.',\n",
       " '',\n",
       " '이것은 아마도,  후발해 측에서 먼저 공격한 것 같다는 설이 있다.']"
      ]
     },
     "execution_count": 15,
     "metadata": {},
     "output_type": "execute_result"
    }
   ],
   "source": [
    "datasets[0]['context'].split('\\n')"
   ]
  }
 ],
 "metadata": {
  "interpreter": {
   "hash": "d4d1e4263499bec80672ea0156c357c1ee493ec2b1c70f0acce89fc37c4a6abe"
  },
  "kernelspec": {
   "display_name": "Python 3.8.5 64-bit ('base': conda)",
   "name": "python3"
  },
  "language_info": {
   "codemirror_mode": {
    "name": "ipython",
    "version": 3
   },
   "file_extension": ".py",
   "mimetype": "text/x-python",
   "name": "python",
   "nbconvert_exporter": "python",
   "pygments_lexer": "ipython3",
   "version": "3.8.5"
  },
  "orig_nbformat": 4
 },
 "nbformat": 4,
 "nbformat_minor": 2
}
