{
 "cells": [
  {
   "cell_type": "code",
   "execution_count": 5,
   "metadata": {},
   "outputs": [],
   "source": [
    "from datasets import load_from_disk"
   ]
  },
  {
   "cell_type": "code",
   "execution_count": 35,
   "metadata": {},
   "outputs": [],
   "source": [
    "import json\n",
    "\n",
    "with open('../outputs/test_dataset/nbest_predictions.json') as f:\n",
    "    tmp = json.load(f)"
   ]
  },
  {
   "cell_type": "code",
   "execution_count": 36,
   "metadata": {},
   "outputs": [],
   "source": [
    "id = list(tmp.keys())"
   ]
  },
  {
   "cell_type": "code",
   "execution_count": 37,
   "metadata": {},
   "outputs": [],
   "source": [
    "temp = tmp.get(id[0])"
   ]
  },
  {
   "cell_type": "code",
   "execution_count": 40,
   "metadata": {},
   "outputs": [
    {
     "data": {
      "text/plain": [
       "[{'start_logit': 0.26525557041168213,\n",
       "  'end_logit': 0.34294092655181885,\n",
       "  'text': '',\n",
       "  'probability': 0.05129927396774292},\n",
       " {'start_logit': 0.24872341752052307,\n",
       "  'end_logit': 0.35638827085494995,\n",
       "  'text': '바깥에 있다. 아폴로 족(Apollo as',\n",
       "  'probability': 0.051141269505023956},\n",
       " {'start_logit': 0.24872341752052307,\n",
       "  'end_logit': 0.3513011336326599,\n",
       "  'text': '바깥에 있다. 아폴로 족(Apollo asteroid)은 장반경이',\n",
       "  'probability': 0.0508817695081234},\n",
       " {'start_logit': 0.24872341752052307,\n",
       "  'end_logit': 0.3427933156490326,\n",
       "  'text': '바깥에 있다.',\n",
       "  'probability': 0.05045070871710777},\n",
       " {'start_logit': 0.30127841234207153,\n",
       "  'end_logit': 0.2893059253692627,\n",
       "  'text': '접소행성의 수명이 천만 년에',\n",
       "  'probability': 0.050403691828250885},\n",
       " {'start_logit': 0.26525557041168213,\n",
       "  'end_logit': 0.32444095611572266,\n",
       "  'text': '',\n",
       "  'probability': 0.05035896226763725},\n",
       " {'start_logit': 0.27221614122390747,\n",
       "  'end_logit': 0.3147340416908264,\n",
       "  'text': '지구 궤도와 교차하는 궤도를 가진 소행성으로, 지구와 충돌할 위험이 높은 천체이다. 우주선으로 쉽',\n",
       "  'probability': 0.05022084712982178},\n",
       " {'start_logit': 0.27498704195022583,\n",
       "  'end_logit': 0.3112693428993225,\n",
       "  'text': '뒤따르는 태양계 이탈로 그 수명을 다한다. 지구 근접',\n",
       "  'probability': 0.05018601566553116},\n",
       " {'start_logit': 0.24640437960624695,\n",
       "  'end_logit': 0.33923834562301636,\n",
       "  'text': 'o as',\n",
       "  'probability': 0.05015522614121437},\n",
       " {'start_logit': 0.27221614122390747,\n",
       "  'end_logit': 0.3114538788795471,\n",
       "  'text': '지구 ',\n",
       "  'probability': 0.05005638301372528},\n",
       " {'start_logit': 0.30127841234207153,\n",
       "  'end_logit': 0.2757417559623718,\n",
       "  'text': '접소행성의 수명이 천만 년에서 일억 년밖에 되지 않을',\n",
       "  'probability': 0.04972462356090546},\n",
       " {'start_logit': 0.27807074785232544,\n",
       "  'end_logit': 0.2956629693508148,\n",
       "  'text': ' 사이에 있으며 지구에 가까이 ',\n",
       "  'probability': 0.04956147074699402},\n",
       " {'start_logit': 0.2615296542644501,\n",
       "  'end_logit': 0.3119763135910034,\n",
       "  'text': '',\n",
       "  'probability': 0.049550190567970276},\n",
       " {'start_logit': 0.27498704195022583,\n",
       "  'end_logit': 0.29771363735198975,\n",
       "  'text': '뒤따르는 태양계 이탈로 그 수명을 다한다. 지구 근접 소행성은 이러한 과정을',\n",
       "  'probability': 0.049510300159454346},\n",
       " {'start_logit': 0.30127841234207153,\n",
       "  'end_logit': 0.2710717022418976,\n",
       "  'text': '접소행성의 수명이 천만 년에서 일억 년밖에 되지 않을 것으로 믿는다. 그것들은 내행성과의 충돌이나 행성 접근에 뒤따르는',\n",
       "  'probability': 0.04949295148253441},\n",
       " {'start_logit': 0.22630423307418823,\n",
       "  'end_logit': 0.34565797448158264,\n",
       "  'text': '',\n",
       "  'probability': 0.04947374761104584},\n",
       " {'start_logit': 0.27807074785232544,\n",
       "  'end_logit': 0.2934972941875458,\n",
       "  'text': ' 사이에 있으며 지구에 가까이 다가올 수 있',\n",
       "  'probability': 0.049454253166913986},\n",
       " {'start_logit': 0.30127841234207153,\n",
       "  'end_logit': 0.2688494920730591,\n",
       "  'text': '접소행성의 수명이 천만 년에서 ',\n",
       "  'probability': 0.04938308522105217},\n",
       " {'start_logit': 0.26525557041168213,\n",
       "  'end_logit': 0.3041767179965973,\n",
       "  'text': '',\n",
       "  'probability': 0.04934874549508095},\n",
       " {'start_logit': 0.24872341752052307,\n",
       "  'end_logit': 0.3206635117530823,\n",
       "  'text': '바깥에 있다. 아폴로 족(Apollo asteroid)은 장',\n",
       "  'probability': 0.04934651032090187}]"
      ]
     },
     "execution_count": 40,
     "metadata": {},
     "output_type": "execute_result"
    }
   ],
   "source": [
    "temp"
   ]
  },
  {
   "cell_type": "code",
   "execution_count": 56,
   "metadata": {},
   "outputs": [],
   "source": [
    "text = [v['text'] for v in temp]\n",
    "prob = [v['probability'] for v in temp]"
   ]
  },
  {
   "cell_type": "code",
   "execution_count": 64,
   "metadata": {},
   "outputs": [
    {
     "name": "stdout",
     "output_type": "stream",
     "text": [
      "(-0.05129927396774292, '')\n"
     ]
    }
   ],
   "source": [
    "import heapq\n",
    "\n",
    "pq = [(-v['probability'], v['text']) for v in temp]\n",
    "heapq.heapify(pq)\n",
    "\n",
    "print(heapq.heappop(pq))\n"
   ]
  },
  {
   "cell_type": "markdown",
   "metadata": {},
   "source": [
    "## few shot test"
   ]
  },
  {
   "cell_type": "markdown",
   "metadata": {},
   "source": [
    "context마다 번호를 부여한 후\n",
    "context에 대해 query의 id를 저장"
   ]
  },
  {
   "cell_type": "code",
   "execution_count": 66,
   "metadata": {},
   "outputs": [
    {
     "data": {
      "text/plain": [
       "DatasetDict({\n",
       "    train: Dataset({\n",
       "        features: ['title', 'context', 'question', 'id', 'answers', 'document_id', '__index_level_0__'],\n",
       "        num_rows: 3952\n",
       "    })\n",
       "    validation: Dataset({\n",
       "        features: ['title', 'context', 'question', 'id', 'answers', 'document_id', '__index_level_0__'],\n",
       "        num_rows: 240\n",
       "    })\n",
       "})"
      ]
     },
     "execution_count": 66,
     "metadata": {},
     "output_type": "execute_result"
    }
   ],
   "source": [
    "from datasets import load_from_disk\n",
    "datasets = load_from_disk('../../data/train_dataset')\n",
    "datasets"
   ]
  },
  {
   "cell_type": "code",
   "execution_count": 75,
   "metadata": {},
   "outputs": [],
   "source": [
    "train_datasets = datasets['train']\n",
    "document_id_list = train_datasets['document_id']\n",
    "query_id_list = train_datasets['id']"
   ]
  },
  {
   "cell_type": "code",
   "execution_count": 69,
   "metadata": {},
   "outputs": [],
   "source": [
    "m = {}\n",
    "\n",
    "for row in train_datasets:\n",
    "    document_id = row['document_id']\n",
    "    if document_id not in m:\n",
    "        m[document_id] = [row['id']]\n",
    "    else:\n",
    "        li = m[document_id]\n",
    "        li.append(row['id'])\n",
    "        m[document_id] = li"
   ]
  },
  {
   "cell_type": "code",
   "execution_count": 102,
   "metadata": {},
   "outputs": [
    {
     "name": "stdout",
     "output_type": "stream",
     "text": [
      "18293\n",
      "['mrc-1-000362', 'mrc-0-003465']\n"
     ]
    }
   ],
   "source": [
    "print(document_id_list[0])\n",
    "print(m[document_id_list[2]])\n",
    "t = m[document_id_list[2]]"
   ]
  }
 ],
 "metadata": {
  "interpreter": {
   "hash": "d4d1e4263499bec80672ea0156c357c1ee493ec2b1c70f0acce89fc37c4a6abe"
  },
  "kernelspec": {
   "display_name": "Python 3.8.5 64-bit ('base': conda)",
   "name": "python3"
  },
  "language_info": {
   "codemirror_mode": {
    "name": "ipython",
    "version": 3
   },
   "file_extension": ".py",
   "mimetype": "text/x-python",
   "name": "python",
   "nbconvert_exporter": "python",
   "pygments_lexer": "ipython3",
   "version": "3.8.5"
  }
 },
 "nbformat": 4,
 "nbformat_minor": 4
}
