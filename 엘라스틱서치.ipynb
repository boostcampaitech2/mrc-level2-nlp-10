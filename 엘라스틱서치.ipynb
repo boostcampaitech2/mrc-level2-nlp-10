{
 "cells": [
  {
   "cell_type": "markdown",
   "id": "7e37c64b-0f0e-4906-b749-22be87eeee2c",
   "metadata": {},
   "source": [
    "#다운받기\n",
    "apt-get update && apt-get install -y gnupg2\n",
    "wget -qO - https://artifacts.elastic.co/GPG-KEY-elasticsearch | apt-key add -\n",
    "apt-get install apt-transport-https\n",
    "echo \"deb https://artifacts.elastic.co/packages/7.x/apt stable main\" | tee /etc/apt/sources.list.d/elastic-7.x.list\n",
    "apt-get update && apt-get install elasticsearch\n",
    "service elasticsearch start\n",
    "cd /usr/share/elasticsearch\n",
    "bin/elasticsearch-plugin install analysis-nori# 노리 형태소\n",
    "service elasticsearch restart # 다시 시작해야 잘됨"
   ]
  },
  {
   "cell_type": "code",
   "execution_count": 1,
   "id": "5ee05a31-c00c-4c1f-b0fa-38d0ad8d9c59",
   "metadata": {},
   "outputs": [],
   "source": [
    "from elasticsearch import Elasticsearch\n",
    "\n",
    "es = Elasticsearch('localhost:9200')# 포트 9200 default"
   ]
  },
  {
   "cell_type": "code",
   "execution_count": 12,
   "id": "24fcab01-0a14-4eb2-b011-7a6a2cb0fe9a",
   "metadata": {},
   "outputs": [
    {
     "data": {
      "text/plain": [
       "{'name': 'beeb5c0d1a62',\n",
       " 'cluster_name': 'elasticsearch',\n",
       " 'cluster_uuid': 'bDFKQnJETEewl7qHfuJG-Q',\n",
       " 'version': {'number': '7.15.1',\n",
       "  'build_flavor': 'default',\n",
       "  'build_type': 'deb',\n",
       "  'build_hash': '83c34f456ae29d60e94d886e455e6a3409bba9ed',\n",
       "  'build_date': '2021-10-07T21:56:19.031608185Z',\n",
       "  'build_snapshot': False,\n",
       "  'lucene_version': '8.9.0',\n",
       "  'minimum_wire_compatibility_version': '6.8.0',\n",
       "  'minimum_index_compatibility_version': '6.0.0-beta1'},\n",
       " 'tagline': 'You Know, for Search'}"
      ]
     },
     "execution_count": 12,
     "metadata": {},
     "output_type": "execute_result"
    }
   ],
   "source": [
    "es.info()"
   ]
  },
  {
   "cell_type": "markdown",
   "id": "8b89d763-691a-451d-a9a8-1e43ce15e37b",
   "metadata": {
    "tags": []
   },
   "source": [
    "### 모든 데이터 삭제 방법( 실패하면 혹시모르는 차원에서 삭제할것\n",
    "### 조회\n",
    "curl -XGET localhost:9200/_cat/indices\n",
    "### 삭제\n",
    "curl -XDELETE 'http://localhost:9200/*'"
   ]
  },
  {
   "cell_type": "code",
   "execution_count": 13,
   "id": "66417125-caa3-4080-84bf-3552300a9fa7",
   "metadata": {},
   "outputs": [],
   "source": [
    "path = '/opt/ml/data/wikipedia_documents.json' #위키 읽기"
   ]
  },
  {
   "cell_type": "code",
   "execution_count": 86,
   "id": "348de83d-d6cd-45a7-920c-3e1209bbbaa6",
   "metadata": {},
   "outputs": [],
   "source": [
    "import json #json 수정하려고 열음\n",
    "with open(path, 'r') as f:\n",
    "    wiki = json.load(f) \n"
   ]
  },
  {
   "cell_type": "markdown",
   "id": "739a7084-9c7a-46d4-b792-e296c250e9fd",
   "metadata": {},
   "source": [
    "# json 수정하기"
   ]
  },
  {
   "cell_type": "code",
   "execution_count": 15,
   "id": "26dac17e-4957-484c-a448-775182418516",
   "metadata": {
    "tags": []
   },
   "outputs": [
    {
     "data": {
      "text/plain": [
       "{'text': '히라가나(平仮名, ひらがな, Hiragana)는 일본어에서 사용하는 두 가지 가나 중 하나이다. 가타카나는 주로 외래어 표기 등에 쓰이고, 히라가나는 다음과 같은 용도로 쓰인다.\\n\\n* 동사의 활용 어미, 조사, 조동사\\n* 일본 고유어로서 해당 한자가 없는 단어, 또는 해당하는 한자가 잘 쓰이지 않는 어려운 글자일 경우.\\n* 어린이가 사용하는 일본어의 뉘앙스를 보여 주고 싶을 때\\n\\n히라가나는 여성이 많이 썼다고 한다. 그래서 온나데(女手; おんなで)라고 불린 적도 있다. 이런 이유로 히라가나는 여자들만 쓰는 글이라 하여, 오랫동안 일본의 공용 문서에선 가타카나와 한자(칸지)만이 사용되었다. 현재 일본 철도의 역명판에는 히라가나와 칸지가 적혀 있다. 히라가나는 헤이안 시대부터 쓰인 것으로 알려져 있다. 일본의 유아들도 가나를 배울 때는 히라가나를 먼저 배우고 가타카나를 나중에 배우기 때문에 유아용 그림책 등에는 가타카나로 쓰인 단어 위에 히라가나를 후리가나로 덧붙이기도 한다. 음절문자이다.\\n\\n한영 자판 상태에서 히라가나를 입력할 경우 ㄸ+한자 키를 누르면 된다. 가타카나의 경우 장음 등 일부 문자를 제외하면, 꼭 ㅃ+한자 조합을 해야 한다.',\n",
       " 'corpus_source': '위키피디아',\n",
       " 'url': 'TODO',\n",
       " 'domain': None,\n",
       " 'title': '히라가나',\n",
       " 'author': None,\n",
       " 'html': None,\n",
       " 'document_id': 13}"
      ]
     },
     "execution_count": 15,
     "metadata": {},
     "output_type": "execute_result"
    }
   ],
   "source": [
    "wiki['13']"
   ]
  },
  {
   "cell_type": "code",
   "execution_count": 16,
   "id": "f6b0ad1d-5b05-42ce-ab75-b3b9ab2ff2f7",
   "metadata": {},
   "outputs": [],
   "source": [
    "for i in range(len(wiki)):\n",
    "    del wiki[str(i)]['corpus_source']# 필요없는거 삭제\n",
    "    del wiki[str(i)]['domain']\n",
    "    del wiki[str(i)]['author']\n",
    "    del wiki[str(i)]['html']\n",
    "    del wiki[str(i)]['document_id']\n",
    "    del wiki[str(i)]['url'] "
   ]
  },
  {
   "cell_type": "code",
   "execution_count": 17,
   "id": "bad1bbbb-4f0f-46c0-91b1-89f1df8e39c4",
   "metadata": {
    "tags": []
   },
   "outputs": [
    {
     "data": {
      "text/plain": [
       "{'text': '히라가나(平仮名, ひらがな, Hiragana)는 일본어에서 사용하는 두 가지 가나 중 하나이다. 가타카나는 주로 외래어 표기 등에 쓰이고, 히라가나는 다음과 같은 용도로 쓰인다.\\n\\n* 동사의 활용 어미, 조사, 조동사\\n* 일본 고유어로서 해당 한자가 없는 단어, 또는 해당하는 한자가 잘 쓰이지 않는 어려운 글자일 경우.\\n* 어린이가 사용하는 일본어의 뉘앙스를 보여 주고 싶을 때\\n\\n히라가나는 여성이 많이 썼다고 한다. 그래서 온나데(女手; おんなで)라고 불린 적도 있다. 이런 이유로 히라가나는 여자들만 쓰는 글이라 하여, 오랫동안 일본의 공용 문서에선 가타카나와 한자(칸지)만이 사용되었다. 현재 일본 철도의 역명판에는 히라가나와 칸지가 적혀 있다. 히라가나는 헤이안 시대부터 쓰인 것으로 알려져 있다. 일본의 유아들도 가나를 배울 때는 히라가나를 먼저 배우고 가타카나를 나중에 배우기 때문에 유아용 그림책 등에는 가타카나로 쓰인 단어 위에 히라가나를 후리가나로 덧붙이기도 한다. 음절문자이다.\\n\\n한영 자판 상태에서 히라가나를 입력할 경우 ㄸ+한자 키를 누르면 된다. 가타카나의 경우 장음 등 일부 문자를 제외하면, 꼭 ㅃ+한자 조합을 해야 한다.',\n",
       " 'title': '히라가나'}"
      ]
     },
     "execution_count": 17,
     "metadata": {},
     "output_type": "execute_result"
    }
   ],
   "source": [
    "wiki['13']"
   ]
  },
  {
   "cell_type": "code",
   "execution_count": 18,
   "id": "831f106e-6e02-4046-aecf-40bce8615667",
   "metadata": {},
   "outputs": [],
   "source": [
    "import re\n",
    "rez = []\n",
    "for wiki_id, wik in wiki.items():\n",
    "    text = wik['text']\n",
    "    text = re.sub(\"\", '', text) #\\n* 등 여러가지 삭제해야대는데 멀 해야대는지 잘몰겟네요 \n",
    "    wiki[wiki_id]['text'] = text\n",
    "          "
   ]
  },
  {
   "cell_type": "code",
   "execution_count": 20,
   "id": "da885a3a-ac65-4d89-9a88-4c874ea4a8a1",
   "metadata": {
    "tags": []
   },
   "outputs": [
    {
     "data": {
      "text/plain": [
       "{'text': '히라가나平仮名ひらがなHiragana는일본어에서사용하는두가지가나중하나이다가타카나는주로외래어표기등에쓰이고히라가나는다음과같은용도로쓰인다동사의활용어미조사조동사일본고유어로서해당한자가없는단어또는해당하는한자가잘쓰이지않는어려운글자일경우어린이가사용하는일본어의뉘앙스를보여주고싶을때히라가나는여성이많이썼다고한다그래서온나데女手おんなで라고불린적도있다이런이유로히라가나는여자들만쓰는글이라하여오랫동안일본의공용문서에선가타카나와한자칸지만이사용되었다현재일본철도의역명판에는히라가나와칸지가적혀있다히라가나는헤이안시대부터쓰인것으로알려져있다일본의유아들도가나를배울때는히라가나를먼저배우고가타카나를나중에배우기때문에유아용그림책등에는가타카나로쓰인단어위에히라가나를후리가나로덧붙이기도한다음절문자이다한영자판상태에서히라가나를입력할경우ㄸ한자키를누르면된다가타카나의경우장음등일부문자를제외하면꼭ㅃ한자조합을해야한다',\n",
       " 'title': '히라가나'}"
      ]
     },
     "execution_count": 20,
     "metadata": {},
     "output_type": "execute_result"
    }
   ],
   "source": [
    "wiki['13'] "
   ]
  },
  {
   "cell_type": "code",
   "execution_count": 21,
   "id": "91a943bf-01f4-4e55-b93a-29e8e9488bfb",
   "metadata": {},
   "outputs": [],
   "source": [
    "INDEX_NAME = 'wiki'\n",
    "#정확한거는 모르겟네요\n",
    "index_config = {\n",
    "        \"settings\": {\n",
    "            \"analysis\": {\n",
    "                \"filter\":{\n",
    "                    \"my_stop_filter\": { \n",
    "                        \"type\" : \"stop\",\n",
    "                        \"stopwords_path\" : \"my_stopwords.txt\" # /etc/elastic안에 txt파일이 존재해야 댑니다\n",
    "                    }\n",
    "                },\n",
    "                \"analyzer\": {\n",
    "                    \"nori_analyzer\": {\n",
    "                        \"type\": \"custom\",\n",
    "                        \"tokenizer\": \"nori_tokenizer\", # 노리 형태소 깔아야대는데 에러나면 맨위에 참고해서 깔기\n",
    "                        \"decompound_mode\": \"mixed\",\n",
    "                        \"filter\" : [\"my_stop_filter\"]# 위에서 정의한 stopword\n",
    "                    }\n",
    "                }\n",
    "            }\n",
    "        },\n",
    "        \"mappings\": {\n",
    "            \"dynamic\": \"strict\", # 먼지 잘모르겟\n",
    "            \"properties\": {\n",
    "                \"text\": {\"type\": \"text\", \"analyzer\": \"nori_analyzer\"},\n",
    "                \"title\":{\"type\": \"text\"}\n",
    "                }\n",
    "            }\n",
    "        }"
   ]
  },
  {
   "cell_type": "code",
   "execution_count": 24,
   "id": "445ebc09-d1f6-46c1-9d8d-9ce74682e6ed",
   "metadata": {},
   "outputs": [
    {
     "name": "stderr",
     "output_type": "stream",
     "text": [
      "<ipython-input-24-c1b8263f83d6>:3: DeprecationWarning: The 'body' parameter is deprecated for the 'create' API and will be removed in a future version. Instead use API parameters directly. See https://github.com/elastic/elasticsearch-py/issues/1698 for more information\n",
      "  es.indices.create(index=INDEX_NAME, body=index_config)\n"
     ]
    },
    {
     "data": {
      "text/plain": [
       "{'acknowledged': True, 'shards_acknowledged': True, 'index': 'wiki'}"
      ]
     },
     "execution_count": 24,
     "metadata": {},
     "output_type": "execute_result"
    }
   ],
   "source": [
    "if es.indices.exists(index=INDEX_NAME):\n",
    "    es.indices.delete(index=INDEX_NAME)\n",
    "es.indices.create(index=INDEX_NAME, body=index_config)"
   ]
  },
  {
   "cell_type": "code",
   "execution_count": 25,
   "id": "1779a360-e289-4600-bd7d-ac7c6274a5bc",
   "metadata": {},
   "outputs": [
    {
     "name": "stderr",
     "output_type": "stream",
     "text": [
      "  0%|          | 0/60613 [00:00<?, ?it/s]<ipython-input-25-a14402c2e067>:6: DeprecationWarning: The 'body' parameter is deprecated for the 'index' API and will be removed in a future version. Instead use the 'document' parameter. See https://github.com/elastic/elasticsearch-py/issues/1698 for more information\n",
      "  es.index(index=INDEX_NAME, id=doc_id, body=doc)\n",
      "100%|██████████| 60613/60613 [1:47:16<00:00,  9.42it/s]\n"
     ]
    }
   ],
   "source": [
    "import time\n",
    "import tqdm\n",
    "\n",
    "for doc_id, doc in tqdm.tqdm(wiki.items(),total=len(wiki)):\n",
    "    \n",
    "    es.index(index=INDEX_NAME, id=doc_id, body=doc)\n",
    "    time.sleep(0.1) # 문서집어넣기 time슬립너어야 에러 안걸림 (너무빨리 문서를 호출해서)\n"
   ]
  },
  {
   "cell_type": "code",
   "execution_count": 26,
   "id": "bb813376-d81d-436b-8b66-db7c321227d0",
   "metadata": {},
   "outputs": [
    {
     "name": "stdout",
     "output_type": "stream",
     "text": [
      "{'_id': '60000',\n",
      " '_index': 'wiki',\n",
      " '_primary_term': 1,\n",
      " '_seq_no': 60000,\n",
      " '_source': {'text': '설원은유가의정치사상과윤리도덕의관념을깊이반영했다이것은유향이유가사상가이자학자로서자신의책무를수행하려했던결과다또한왕조가쇠퇴하는추세뿐아니라지도층의부정부패와사치를목격하고서제국을바로잡아보려는노력을반영한것이기도하다그래서순임금우임금으로부터진한秦漢에이르기까지여러인물의언행이나사건또는일화를모아정치의흥망을엿볼수있는역사의거울을제공했다이를통해군주와신하들을권면하고조정을정돈하며당시의폐단을바로잡으려했던것이다이에유향은각고사를통해서제왕장상將相사대부들에게어떻게해야바른군주바른신하바른백성이될것인가그리고어떻게해야제국을일으키고백성을다스리며외교를처리할것인가를제시했다이렇게유향이모은이야기들에는백성이치국의근본이되어야한다든가세금을경감해야한다든가욕구를억제하고사치를경계해야한다든가통치자는현신과간신을구별해야한다든가현사를높이고예우해야한다는주장등통치자라면누구나따라야할통치의모든덕목이담겨있다',\n",
      "             'title': '설원 (책)'},\n",
      " '_type': '_doc',\n",
      " '_version': 1,\n",
      " 'found': True}\n"
     ]
    }
   ],
   "source": [
    "import pprint\n",
    "doc = es.get(index=INDEX_NAME, id=60000)#\n",
    "pprint.pprint(doc)"
   ]
  },
  {
   "cell_type": "code",
   "execution_count": 27,
   "id": "9602af14-b319-4ad1-b3aa-23977d864c96",
   "metadata": {},
   "outputs": [],
   "source": [
    "tv = es.termvectors(index=INDEX_NAME, id=2,body={\"fields\" : [\"content\",\"title\"]})"
   ]
  },
  {
   "cell_type": "code",
   "execution_count": 28,
   "id": "e5235f03-b931-446b-addc-a03b7d73259b",
   "metadata": {},
   "outputs": [
    {
     "name": "stdout",
     "output_type": "stream",
     "text": [
      "{'_id': '2',\n",
      " '_index': 'wiki',\n",
      " '_type': '_doc',\n",
      " '_version': 1,\n",
      " 'found': True,\n",
      " 'term_vectors': {'title': {'field_statistics': {'doc_count': 60613,\n",
      "                                                 'sum_doc_freq': 123533,\n",
      "                                                 'sum_ttf': 123746},\n",
      "                            'terms': {'백남준': {'term_freq': 1,\n",
      "                                              'tokens': [{'end_offset': 3,\n",
      "                                                          'position': 0,\n",
      "                                                          'start_offset': 0}]}}}},\n",
      " 'took': 1}\n"
     ]
    }
   ],
   "source": [
    "pprint.pprint(tv)"
   ]
  },
  {
   "cell_type": "code",
   "execution_count": 64,
   "id": "aec6733c-8a0b-4bef-b2b4-ba3ea806d04c",
   "metadata": {
    "tags": []
   },
   "outputs": [
    {
     "name": "stdout",
     "output_type": "stream",
     "text": [
      "{'_shards': {'failed': 0, 'skipped': 0, 'successful': 1, 'total': 1},\n",
      " 'hits': {'hits': [{'_id': '37924',\n",
      "                    '_index': 'wiki',\n",
      "                    '_score': 27.673355,\n",
      "                    '_source': {'text': '이불화는17세기말에서18세기초팔공산일대에서활발한활동을펼친의균의제자인쾌민과체준등이함께1724년에제작한영산회상도로서중앙의석가모니불을중심으로보살과제자호법신등이빽빽하게둘러싸는전형적인군도형식을보여주고있다본존의키형광배와뾰족한육계표현양감있는인물표현중후한사천왕의신체표현등은스승인의균이제작한기림사비로자나삼불회도와유사한특징을보여주고있어스승의양식을잘계승하고있다그러면서도색채에서적색과녹색의강한대조를이루는색채감이나권속이본존을빽빽하게둘러싼구성등은의균과는다른특징을보여주고있으며이와같은화풍적특징은1728년이후불화화풍을주도하고있다는데서더욱큰학술적의미가있다고판단된다또한이불화는화기뿐만아니라발원문을비롯하여후령통등격식을제대로갖춘복장주머니腹藏囊도가지고있어불화제작의상황을짐작하는데더없이중요한정보를제공하고있다',\n",
      "                                'title': '영천 봉림사 영산회상도 및 복장유물'},\n",
      "                    '_type': '_doc'},\n",
      "                   {'_id': '40876',\n",
      "                    '_index': 'wiki',\n",
      "                    '_score': 23.075314,\n",
      "                    '_source': {'text': '창원성흥사목조아미타여래삼존좌상은성흥사대웅전에봉안되어있는본존불상과좌우협시보살상이다삼존불은연화대좌위에앉아있는데아미타여래좌상을중심으로좌우에연화가지를든관음보살상과대세지보살상이다창원성흥사목조아미타여래삼존좌상의얼굴표현과옷자락옷주름등은17세기중엽에경상도지역을중심으로활동하였던조각승희장이제작한불상과매우유사하다현재복장발원문은남아있지않지만양식적인특징에서분석할수있는제작시기와상통한점에서1658년경희장계작품일가능성이매우높다희장은양산통도사와부산범어사를비롯한경상도와전라도지역에많은작품을남긴17세기중엽경의가장대표적인조각승이다따라서제작연대의파악이가능하고조각기법이우수한작품이므로경상남도유형문화재로지정한다',\n",
      "                                'title': '창원 성흥사 목조아미타여래삼존좌상'},\n",
      "                    '_type': '_doc'},\n",
      "                   {'_id': '36554',\n",
      "                    '_index': 'wiki',\n",
      "                    '_score': 22.081726,\n",
      "                    '_source': {'text': '서동사는대한불교조계종제22교구본사대흥사의말사로운거산기슭에자리하고있다서동사의자세한연혁은알려져있지않으나1980년대초현대웅전의지붕보수시발견된서동사중수상량문1870과서동사중수서1870현판기록을통해개략적인연혁을파악할수있다이두기록에따르면서동사의창건은확신할수없으나통일신라진성여왕때887896때고운孤雲최치원崔致遠선생이창건하였다고하며이후조선시대임진정유왜란때병화兵禍로모두소실된것을1779년에복구하였다가다시약90년후인1780년의윤宜胤스님이주축이되어정기正己진일賑一등3인의스님이발원하여중수하였다고한다불상과관련된기록은지금부터약20여년전도난과정에서화산華山스님에의해수습된조성발원문과중수발원문이남아있다이발원문에의하면석가여래삼불상은스님과평범한신도들이주축이되어옥보玉寶스님의증명證明아래운혜雲惠를비롯한8명의조각승들이참여하여순치順治8년효종1경인겨울에조성을마쳤다고한다불상의중수는이보다154년뒤인1804년순조4에이루어졌고풍계순정楓溪舜靜을비롯한19명의승려화원들이참여하여개금하였다이불상을조각한운혜는17세기전반기중후한맛의선굵은조각을구사했던수연守衍의조각전통을계승하여독자적인영역을구축하였고17세기중․후반을대표하는조각승으로성장하였다서동사대웅전석가여래삼불좌상은중앙사바세계의교주석가여래를중심으로좌측에동방만월세계약사여래우측에서방극락세계아미타여래를배치한공간적삼세불형식이다이러한석가여래삼불형식은비로자나삼불형식과더불어조선후기특히17세기대에크게유행하였다그이유는사상적인요인도작용했겠지만임진왜란․정유재란․병자호란등일련의국가적전란을겪으면서소실된여러불전을재건할여력이부족했던당시로서는한전각내에다양한사상과신앙형태를내포한삼불을모시는것이유효했던것으로생각된다삼존모두접목조방식으로제작되었는데우선본존석가여래는변형의편단우견을걸치고팔각대좌위에다시앙련의연화좌를놓고그위에결가부좌하였다반구형의머리는따로제작한나발로촘촘하게부착하였고육계는명확하게드러내지않았다머리의중앙과정상에는계주를표현하였는데반달형태의큼직한중앙계주가인상적이다얼굴은뾰족하게처리하였고턱코뿌리에서갑자기솟은돌출코야무지게앙다문얇은입술등에서개성적이면서엄정한인상을준다역3자형의귀는다소추상적이며상․하각의골을길게파내어특징적이다이러한귀의표현은조각승운혜가즐겨사용했던특징이기도하다착의형식은오른쪽어깨를살짝덮은변형의편단우견이며두터운옷깃주름을지나치게치켜세워강조하였는데이것이신체와동떨어져별개의옷을걸친듯다소부자연스럽고움츠린듯보이게하는요소이다그러나상체는불필요한주름들을최대한배제하여단순화시킨반면하체는입체적이고탄력적인주름으로율동감넘치게조각하여의도적인대조를통한시각적장애를감소시켜준다여기에다시군의의끝단을율동감있는꽃잎모양으로멋을내어상체의단조로움을보완하였다특히왼쪽무릎부근에형성된이중의큼직한주머니모양의주름과왼쪽측면의폭좁은Ω형태로마무리한주름이특색이있다수인은항마촉지인을결하였고손바닥에는정井자형태의손금을나타내었다무릎의부메랑같이표현된주름을중심으로물결치듯입체적으로표현한주름과정井자형손금은대부분의운혜조각에서나타나고있어하나의표식처럼되고있다좌협시약사불상과우협시아미타불상은엄지와중지를맞댄수인을좌우대칭으로표현하였고착의는두장의대의를걸친이중착의법으로표현하여본존불과의차이를두었다아미타불상은엄지와중지를둥글게맞댄하품중생인을약사불상은아미타불상과좌우손의위치만달리하여왼손바닥위에약사불의상징인조그마한약호를올려약기인藥器印을취하였다두불상의손가락은본존불상에비해길고섬려하며손바닥에는본존불과마찬가지로정井자형태의손금을나타내었다불의佛衣는본존불과마찬가지로옷깃을지나치게두텁게표현하여다소어색한맛이있으나전반적인존상의품격을저해하거나관상에지장을초래할정도는아니다특히이곳삼불형식에서본존편단우견좌우협시이중착의로차별을둔것은17세기삼불형식에서흔히볼수있는표현방식이다이삼불좌상은상호나신체의표현등에서수조각승운혜의특색있는조각적경향도잘드러나고있다특히현존하는운혜의작품가운데가장이른시기의작품으로17세기불상조각연구와개금중수과정을이해하는데하나의중요한자료가된다',\n",
      "                                'title': '해남 서동사 목조석가여래삼불좌상'},\n",
      "                    '_type': '_doc'},\n",
      "                   {'_id': '30556',\n",
      "                    '_index': 'wiki',\n",
      "                    '_score': 21.453323,\n",
      "                    '_source': {'text': '순평사의본존불로모시고있는이불상은원래담양군의어떤사찰에있던것이다조각수법으로보아조선초기에만든것으로보인다불상의받침대나부처의광명을상징하는머리뒤의장식인광배는남아있지않다작고꼭다문입에서매우근엄한인상이풍기는불상으로전체적으로자세가안정되어있고단정한모습을보여주는데얼굴과상체가유난히길게표현된점이특징이다불상아래부분에서유물을넣어둔함이발견되었는데불상을처음만들때넣은유물은모두없어졌고1946년에넣은불경과은제장신구등이들어있다',\n",
      "                                'title': '순창 순평사 금동여래좌상'},\n",
      "                    '_type': '_doc'},\n",
      "                   {'_id': '37096',\n",
      "                    '_index': 'wiki',\n",
      "                    '_score': 21.333218,\n",
      "                    '_source': {'text': '중앙의비로자나불탱을중심으로왼쪽에는노사나불탱오른쪽에는석가모니불탱을각한폭씩그려봉안한것으로법신法身인비로자나불도는화면중앙상단의본존불을중심으로좌우협시인문수보현보살과8대보살4위의타방불과6위의제불사자와코끼리탈을쓴성중護戒大神福德大神들이에워싸듯배치되어대칭을이루고있다키모양광배에결가부좌한채앉아지권인을짓고있는본존불은이목구비가단정하며넓은무릎을하여안정감이있다머리에는중앙과정상계주가큼직하고길다란귀를갖추었으며다자색법의의깃을따라연두빛과분홍빛깔의보상화문이장식되어다소나마생기를불어넣어준다하겠다보신報身인노사나불도는설법인說法印에보관을쓴보살형의본존불을중심으로8대보살과사천왕상2위4위의타방불3신장과4금강이주위에빙둘러배치되어있다단정한이목구비에안정된자세를취하고는있으나둥근머리광배에보관을쓰고귀걸이와목걸이팔찌는물론온몸에영락을화려하게장식하여보살형불상으로서의꾸밈이돋보인다화신化身인석가모니불도도유난히몸광배가큼직한키형광배에항마촉지인降魔觸地印을짓고있는본존불을중심으로하단에는좌우협시보살文殊普賢을포함한6대보살과함께2구의사천왕상을그리고그위로는흔히등장하는타방불대신가섭迦葉과아난阿難존자를위시한10대제자및4금강과3신장용왕용녀를에워싸듯배치하였다이삼신불탱은18세기조계산지역을중심으로활동한의겸스님외많은화원13명들이동원되어그린수작으로필선이섬세하며녹색을많이사용한것이특징이다길이가4m를넘는거대한3폭의화면에삼신불을완전히갖춘매우드문예로통도사대광명전삼신불도보물제1042호1759년와더불어18세기삼신불도의전형을보여준다하겠다',\n",
      "                                'title': '구례 화엄사 대웅전 삼신불탱'},\n",
      "                    '_type': '_doc'}],\n",
      "          'max_score': 27.673355,\n",
      "          'total': {'relation': 'gte', 'value': 10000}},\n",
      " 'timed_out': False,\n",
      " 'took': 8}\n"
     ]
    }
   ],
   "source": [
    "query = \"11~12세기에 제작된 본존불은 보통 어떤 나라의 특징이 전파되었나요?\" #특수문자 검색시 에러 # ~가 아마 문제여서 ~를 지움 ~가 정규식 사용에 쓰이는것같아 일단은 제거 하고 나중에 살리는 법도 알기\n",
    "res = es.search(index=INDEX_NAME, q=query, size=5)\n",
    "pprint.pprint(res)"
   ]
  },
  {
   "cell_type": "code",
   "execution_count": 67,
   "id": "c52ac4cb-2362-412a-9c92-5a995b00dd1a",
   "metadata": {},
   "outputs": [
    {
     "data": {
      "text/plain": [
       "{'_index': 'wiki',\n",
       " '_type': '_doc',\n",
       " '_id': '36554',\n",
       " '_score': 22.081726,\n",
       " '_source': {'text': '서동사는대한불교조계종제22교구본사대흥사의말사로운거산기슭에자리하고있다서동사의자세한연혁은알려져있지않으나1980년대초현대웅전의지붕보수시발견된서동사중수상량문1870과서동사중수서1870현판기록을통해개략적인연혁을파악할수있다이두기록에따르면서동사의창건은확신할수없으나통일신라진성여왕때887896때고운孤雲최치원崔致遠선생이창건하였다고하며이후조선시대임진정유왜란때병화兵禍로모두소실된것을1779년에복구하였다가다시약90년후인1780년의윤宜胤스님이주축이되어정기正己진일賑一등3인의스님이발원하여중수하였다고한다불상과관련된기록은지금부터약20여년전도난과정에서화산華山스님에의해수습된조성발원문과중수발원문이남아있다이발원문에의하면석가여래삼불상은스님과평범한신도들이주축이되어옥보玉寶스님의증명證明아래운혜雲惠를비롯한8명의조각승들이참여하여순치順治8년효종1경인겨울에조성을마쳤다고한다불상의중수는이보다154년뒤인1804년순조4에이루어졌고풍계순정楓溪舜靜을비롯한19명의승려화원들이참여하여개금하였다이불상을조각한운혜는17세기전반기중후한맛의선굵은조각을구사했던수연守衍의조각전통을계승하여독자적인영역을구축하였고17세기중․후반을대표하는조각승으로성장하였다서동사대웅전석가여래삼불좌상은중앙사바세계의교주석가여래를중심으로좌측에동방만월세계약사여래우측에서방극락세계아미타여래를배치한공간적삼세불형식이다이러한석가여래삼불형식은비로자나삼불형식과더불어조선후기특히17세기대에크게유행하였다그이유는사상적인요인도작용했겠지만임진왜란․정유재란․병자호란등일련의국가적전란을겪으면서소실된여러불전을재건할여력이부족했던당시로서는한전각내에다양한사상과신앙형태를내포한삼불을모시는것이유효했던것으로생각된다삼존모두접목조방식으로제작되었는데우선본존석가여래는변형의편단우견을걸치고팔각대좌위에다시앙련의연화좌를놓고그위에결가부좌하였다반구형의머리는따로제작한나발로촘촘하게부착하였고육계는명확하게드러내지않았다머리의중앙과정상에는계주를표현하였는데반달형태의큼직한중앙계주가인상적이다얼굴은뾰족하게처리하였고턱코뿌리에서갑자기솟은돌출코야무지게앙다문얇은입술등에서개성적이면서엄정한인상을준다역3자형의귀는다소추상적이며상․하각의골을길게파내어특징적이다이러한귀의표현은조각승운혜가즐겨사용했던특징이기도하다착의형식은오른쪽어깨를살짝덮은변형의편단우견이며두터운옷깃주름을지나치게치켜세워강조하였는데이것이신체와동떨어져별개의옷을걸친듯다소부자연스럽고움츠린듯보이게하는요소이다그러나상체는불필요한주름들을최대한배제하여단순화시킨반면하체는입체적이고탄력적인주름으로율동감넘치게조각하여의도적인대조를통한시각적장애를감소시켜준다여기에다시군의의끝단을율동감있는꽃잎모양으로멋을내어상체의단조로움을보완하였다특히왼쪽무릎부근에형성된이중의큼직한주머니모양의주름과왼쪽측면의폭좁은Ω형태로마무리한주름이특색이있다수인은항마촉지인을결하였고손바닥에는정井자형태의손금을나타내었다무릎의부메랑같이표현된주름을중심으로물결치듯입체적으로표현한주름과정井자형손금은대부분의운혜조각에서나타나고있어하나의표식처럼되고있다좌협시약사불상과우협시아미타불상은엄지와중지를맞댄수인을좌우대칭으로표현하였고착의는두장의대의를걸친이중착의법으로표현하여본존불과의차이를두었다아미타불상은엄지와중지를둥글게맞댄하품중생인을약사불상은아미타불상과좌우손의위치만달리하여왼손바닥위에약사불의상징인조그마한약호를올려약기인藥器印을취하였다두불상의손가락은본존불상에비해길고섬려하며손바닥에는본존불과마찬가지로정井자형태의손금을나타내었다불의佛衣는본존불과마찬가지로옷깃을지나치게두텁게표현하여다소어색한맛이있으나전반적인존상의품격을저해하거나관상에지장을초래할정도는아니다특히이곳삼불형식에서본존편단우견좌우협시이중착의로차별을둔것은17세기삼불형식에서흔히볼수있는표현방식이다이삼불좌상은상호나신체의표현등에서수조각승운혜의특색있는조각적경향도잘드러나고있다특히현존하는운혜의작품가운데가장이른시기의작품으로17세기불상조각연구와개금중수과정을이해하는데하나의중요한자료가된다',\n",
       "  'title': '해남 서동사 목조석가여래삼불좌상'}}"
      ]
     },
     "execution_count": 67,
     "metadata": {},
     "output_type": "execute_result"
    }
   ],
   "source": [
    "res['hits']['hits'][2] # 문서가 엄청 복잡하게 되어있습니다 dict dict list dict dict"
   ]
  },
  {
   "cell_type": "code",
   "execution_count": 30,
   "id": "e7a1112e-9fe5-4642-b5fa-4c3caf10c488",
   "metadata": {},
   "outputs": [
    {
     "name": "stdout",
     "output_type": "stream",
     "text": [
      "Doc ID: '37924'  Score: 27.67\n",
      "Doc ID: '40876'  Score: 23.08\n",
      "Doc ID: '36554'  Score: 22.08\n",
      "Doc ID: '30556'  Score: 21.45\n",
      "Doc ID: '37096'  Score: 21.33\n"
     ]
    }
   ],
   "source": [
    "for hit in res['hits']['hits']:\n",
    "    print(\"Doc ID: %3r  Score: %5.2f\" % (hit['_id'], hit['_score']))# 문서를 참고해서 score"
   ]
  },
  {
   "cell_type": "markdown",
   "id": "22d86156-6c24-4f49-a1e2-72063d19b309",
   "metadata": {},
   "source": [
    "# train valid 데이터 호출"
   ]
  },
  {
   "cell_type": "code",
   "execution_count": 31,
   "id": "85482306-c126-4254-b0ec-5a0870308589",
   "metadata": {},
   "outputs": [],
   "source": [
    "from datasets import load_dataset"
   ]
  },
  {
   "cell_type": "code",
   "execution_count": null,
   "id": "c87a764e-4a9b-4d71-bce7-5088ba78ca21",
   "metadata": {},
   "outputs": [],
   "source": [
    "from datasets import load_from_disk\n",
    "trainpath = \"/opt/ml/data/train_dataset\"\n",
    "testpath = \"/opt/ml/data/test_dataset\"\n",
    "train_data = load_from_disk(trainpath)\n",
    "test_data = load_from_disk(testpath)\n",
    "import datasets\n",
    "import pandas as pd\n",
    "import re\n",
    "import pandas as pd"
   ]
  },
  {
   "cell_type": "code",
   "execution_count": null,
   "id": "0df6300b-7291-46ae-a109-cbd50f6017ba",
   "metadata": {},
   "outputs": [],
   "source": [
    "train = train_data['train']"
   ]
  },
  {
   "cell_type": "code",
   "execution_count": null,
   "id": "95f087f7-1597-4cb5-981e-17c228cbcd33",
   "metadata": {},
   "outputs": [],
   "source": [
    "question = train['question']"
   ]
  },
  {
   "cell_type": "code",
   "execution_count": null,
   "id": "bf36918a-3d6c-43af-ad26-a86ea5547d90",
   "metadata": {},
   "outputs": [
    {
     "data": {
      "text/plain": [
       "'대통령을 포함한 미국의 행정부 견제권을 갖는 국가 기관은?'"
      ]
     },
     "execution_count": 35,
     "metadata": {},
     "output_type": "execute_result"
    }
   ],
   "source": [
    "question[0]"
   ]
  },
  {
   "cell_type": "code",
   "execution_count": null,
   "id": "9592fb5f-385a-442a-af52-38ea1de02093",
   "metadata": {},
   "outputs": [
    {
     "data": {
      "text/plain": [
       "{'title': '미국 상원',\n",
       " 'context': '미국 상의원 또는 미국 상원(United States Senate)은 양원제인 미국 의회의 상원이다.\\\\n\\\\n미국 부통령이 상원의장이 된다. 각 주당 2명의 상원의원이 선출되어 100명의 상원의원으로 구성되어 있다. 임기는 6년이며, 2년마다 50개주 중 1/3씩 상원의원을 새로 선출하여 연방에 보낸다.\\\\n\\\\n미국 상원은 미국 하원과는 다르게 미국 대통령을 수반으로 하는 미국 연방 행정부에 각종 동의를 하는 기관이다. 하원이 세금과 경제에 대한 권한, 대통령을 포함한 대다수의 공무원을 파면할 권한을 갖고 있는 국민을 대표하는 기관인 반면 상원은 미국의 주를 대표한다. 즉 캘리포니아주, 일리노이주 같이 주 정부와 주 의회를 대표하는 기관이다. 그로 인하여 군대의 파병, 관료의 임명에 대한 동의, 외국 조약에 대한 승인 등 신속을 요하는 권한은 모두 상원에게만 있다. 그리고 하원에 대한 견제 역할(하원의 법안을 거부할 권한 등)을 담당한다. 2년의 임기로 인하여 급진적일 수밖에 없는 하원은 지나치게 급진적인 법안을 만들기 쉽다. 대표적인 예로 건강보험 개혁 당시 하원이 미국 연방 행정부에게 퍼블릭 옵션(공공건강보험기관)의 조항이 있는 반면 상원의 경우 하원안이 지나치게 세금이 많이 든다는 이유로 퍼블릭 옵션 조항을 제외하고 비영리건강보험기관이나 보험회사가 담당하도록 한 것이다. 이 경우처럼 상원은 하원이나 내각책임제가 빠지기 쉬운 국가들의 국회처럼 걸핏하면 발생하는 의회의 비정상적인 사태를 방지하는 기관이다. 상원은 급박한 처리사항의 경우가 아니면 법안을 먼저 내는 경우가 드물고 하원이 만든 법안을 수정하여 다시 하원에 되돌려보낸다. 이러한 방식으로 단원제가 빠지기 쉬운 함정을 미리 방지하는 것이다.날짜=2017-02-05',\n",
       " 'question': '대통령을 포함한 미국의 행정부 견제권을 갖는 국가 기관은?',\n",
       " 'id': 'mrc-1-000067',\n",
       " 'answers': {'answer_start': [235], 'text': ['하원']},\n",
       " 'document_id': 18293,\n",
       " '__index_level_0__': 42}"
      ]
     },
     "execution_count": 36,
     "metadata": {},
     "output_type": "execute_result"
    }
   ],
   "source": [
    "train[0]"
   ]
  },
  {
   "cell_type": "markdown",
   "id": "b73eb4c4-579e-4a64-a83e-fc3e43c6a316",
   "metadata": {},
   "source": [
    "## 성능 비교 툴"
   ]
  },
  {
   "cell_type": "code",
   "execution_count": 77,
   "id": "7460db5d-165f-445d-8318-e2d7c93d0f00",
   "metadata": {
    "tags": []
   },
   "outputs": [
    {
     "data": {
      "text/plain": [
       "'11~12세기에 제작된 본존불은 보통 어떤 나라의 특징이 전파되었나요?'"
      ]
     },
     "execution_count": 77,
     "metadata": {},
     "output_type": "execute_result"
    }
   ],
   "source": [
    "query"
   ]
  },
  {
   "cell_type": "code",
   "execution_count": 84,
   "id": "f49851dc-7685-41f9-acdd-85be1b581607",
   "metadata": {
    "tags": []
   },
   "outputs": [
    {
     "name": "stderr",
     "output_type": "stream",
     "text": [
      "100%|██████████| 3952/3952 [02:43<00:00, 24.10it/s]"
     ]
    },
    {
     "name": "stdout",
     "output_type": "stream",
     "text": [
      "3628\n"
     ]
    },
    {
     "name": "stderr",
     "output_type": "stream",
     "text": [
      "\n"
     ]
    }
   ],
   "source": [
    "k = 0\n",
    "for i in tqdm.tqdm(range(len(train))):\n",
    "    title = train['title'][i] \n",
    "    question = train['question'][i]\n",
    "    query = question\n",
    "    answers = train[i]['answers']['text'][0]\n",
    "    answers = re.sub(r\"[!/\\\\~\\-\\.\\+“”%°〈〉<>＜＞・「」;*≪≫·《》‘’『』\\\"\\'_\"\n",
    ", '', answers)\n",
    "    query = re.sub('~|\\n|'\n",
    ", '', answers)# 쿼리에 ~가있어서 안댐\n",
    "            \n",
    "    res = es.search(index=INDEX_NAME, q=query, size=15)# 15개 찾기!\n",
    "    for hit in res['hits']['hits']:\n",
    "        res_text = hit['_source']['text']\n",
    "        if answers in res_text:\n",
    "            k += 1\n",
    "            break\n",
    "                        \n",
    "print(k)\n",
    "        \n",
    "    "
   ]
  },
  {
   "cell_type": "code",
   "execution_count": null,
   "id": "f76a5b8d-a5c3-42d4-8eb5-cda1851afbeb",
   "metadata": {},
   "outputs": [],
   "source": [
    "'''왜안댈까? 반복문에 range를 쓰니까 out of range 에러가 뜨네요\n",
    "k = 0\n",
    "for i in tqdm.range(len(train))):\n",
    "    title = train['title'][i] \n",
    "    question = train['question'][i]\n",
    "    query = question\n",
    "    answers = train[i]['answers']['text'][0]\n",
    "    answers = re.sub(r\"[!/~\\-\\.\\+“”%°〈〉<>＜＞・「」;*≪≫·《》‘’『』\\\"\\'_ :(),\\[\\]=-]|\\n\"\n",
    ", '', answers)\n",
    "    query = re.sub(r\"[!/~\\-\\.\\+“”%°〈〉<>＜＞・「」;*≪≫·《》‘’『』\\\"\\'_ :(),\\[\\]=-]|\\n\"\n",
    ", '', query)\n",
    "    res = es.search(index=INDEX_NAME, q=query, size=5)# 15개 찾기!\n",
    "    for j in range(0,5):\n",
    "        \n",
    "        if answers in res_text:\n",
    "            k += 1\n",
    "            print(res_text)\n",
    "            break\n",
    "            \n",
    "            \n",
    "print(k)\n",
    "'''"
   ]
  },
  {
   "cell_type": "code",
   "execution_count": 85,
   "id": "8c9d8049-92cd-41a0-8621-df939c8559d5",
   "metadata": {},
   "outputs": [
    {
     "name": "stdout",
     "output_type": "stream",
     "text": [
      "0.9180161943319838\n"
     ]
    }
   ],
   "source": [
    "print(k/len(train)) # 확률"
   ]
  },
  {
   "cell_type": "code",
   "execution_count": null,
   "id": "c661e512-d8d8-4426-a096-7ce2f20ac55c",
   "metadata": {},
   "outputs": [],
   "source": [
    "test_data"
   ]
  }
 ],
 "metadata": {
  "kernelspec": {
   "display_name": "Python 3 (ipykernel)",
   "language": "python",
   "name": "python3"
  },
  "language_info": {
   "codemirror_mode": {
    "name": "ipython",
    "version": 3
   },
   "file_extension": ".py",
   "mimetype": "text/x-python",
   "name": "python",
   "nbconvert_exporter": "python",
   "pygments_lexer": "ipython3",
   "version": "3.8.5"
  }
 },
 "nbformat": 4,
 "nbformat_minor": 5
}
