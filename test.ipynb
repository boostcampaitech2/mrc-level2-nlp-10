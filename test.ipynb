{
 "cells": [
  {
   "cell_type": "code",
   "execution_count": null,
   "id": "82373015-e3a2-467c-8bd8-570bd9b6a552",
   "metadata": {},
   "outputs": [],
   "source": []
  },
  {
   "cell_type": "code",
   "execution_count": 101,
   "id": "5ee05a31-c00c-4c1f-b0fa-38d0ad8d9c59",
   "metadata": {},
   "outputs": [],
   "source": [
    "from elasticsearch import Elasticsearch\n",
    "\n",
    "es = Elasticsearch('localhost:9200')"
   ]
  },
  {
   "cell_type": "code",
   "execution_count": 102,
   "id": "24fcab01-0a14-4eb2-b011-7a6a2cb0fe9a",
   "metadata": {},
   "outputs": [
    {
     "data": {
      "text/plain": [
       "{'name': 'beeb5c0d1a62',\n",
       " 'cluster_name': 'elasticsearch',\n",
       " 'cluster_uuid': 'bDFKQnJETEewl7qHfuJG-Q',\n",
       " 'version': {'number': '7.15.1',\n",
       "  'build_flavor': 'default',\n",
       "  'build_type': 'deb',\n",
       "  'build_hash': '83c34f456ae29d60e94d886e455e6a3409bba9ed',\n",
       "  'build_date': '2021-10-07T21:56:19.031608185Z',\n",
       "  'build_snapshot': False,\n",
       "  'lucene_version': '8.9.0',\n",
       "  'minimum_wire_compatibility_version': '6.8.0',\n",
       "  'minimum_index_compatibility_version': '6.0.0-beta1'},\n",
       " 'tagline': 'You Know, for Search'}"
      ]
     },
     "execution_count": 102,
     "metadata": {},
     "output_type": "execute_result"
    }
   ],
   "source": [
    "es.info()\n",
    "#"
   ]
  },
  {
   "cell_type": "markdown",
   "id": "8b89d763-691a-451d-a9a8-1e43ce15e37b",
   "metadata": {
    "tags": []
   },
   "source": [
    "## 모든 데이터 삭제 방법\n",
    "조회\n",
    "curl -XGET localhost:9200/_cat/indices\n",
    "삭제\n",
    "curl -XDELETE 'http://localhost:9200/*'"
   ]
  },
  {
   "cell_type": "code",
   "execution_count": 103,
   "id": "66417125-caa3-4080-84bf-3552300a9fa7",
   "metadata": {},
   "outputs": [],
   "source": [
    "path = '../data/wikipedia_documents.json'"
   ]
  },
  {
   "cell_type": "code",
   "execution_count": 104,
   "id": "348de83d-d6cd-45a7-920c-3e1209bbbaa6",
   "metadata": {},
   "outputs": [],
   "source": [
    "import json\n",
    "with open(path, 'r') as f:\n",
    "    wiki = json.load(f)\n"
   ]
  },
  {
   "cell_type": "markdown",
   "id": "739a7084-9c7a-46d4-b792-e296c250e9fd",
   "metadata": {},
   "source": [
    "# json 수정하기"
   ]
  },
  {
   "cell_type": "code",
   "execution_count": 105,
   "id": "26dac17e-4957-484c-a448-775182418516",
   "metadata": {
    "tags": []
   },
   "outputs": [
    {
     "data": {
      "text/plain": [
       "{'text': '히라가나(平仮名, ひらがな, Hiragana)는 일본어에서 사용하는 두 가지 가나 중 하나이다. 가타카나는 주로 외래어 표기 등에 쓰이고, 히라가나는 다음과 같은 용도로 쓰인다.\\n\\n* 동사의 활용 어미, 조사, 조동사\\n* 일본 고유어로서 해당 한자가 없는 단어, 또는 해당하는 한자가 잘 쓰이지 않는 어려운 글자일 경우.\\n* 어린이가 사용하는 일본어의 뉘앙스를 보여 주고 싶을 때\\n\\n히라가나는 여성이 많이 썼다고 한다. 그래서 온나데(女手; おんなで)라고 불린 적도 있다. 이런 이유로 히라가나는 여자들만 쓰는 글이라 하여, 오랫동안 일본의 공용 문서에선 가타카나와 한자(칸지)만이 사용되었다. 현재 일본 철도의 역명판에는 히라가나와 칸지가 적혀 있다. 히라가나는 헤이안 시대부터 쓰인 것으로 알려져 있다. 일본의 유아들도 가나를 배울 때는 히라가나를 먼저 배우고 가타카나를 나중에 배우기 때문에 유아용 그림책 등에는 가타카나로 쓰인 단어 위에 히라가나를 후리가나로 덧붙이기도 한다. 음절문자이다.\\n\\n한영 자판 상태에서 히라가나를 입력할 경우 ㄸ+한자 키를 누르면 된다. 가타카나의 경우 장음 등 일부 문자를 제외하면, 꼭 ㅃ+한자 조합을 해야 한다.',\n",
       " 'corpus_source': '위키피디아',\n",
       " 'url': 'TODO',\n",
       " 'domain': None,\n",
       " 'title': '히라가나',\n",
       " 'author': None,\n",
       " 'html': None,\n",
       " 'document_id': 13}"
      ]
     },
     "execution_count": 105,
     "metadata": {},
     "output_type": "execute_result"
    }
   ],
   "source": [
    "wiki['13']"
   ]
  },
  {
   "cell_type": "code",
   "execution_count": 106,
   "id": "f6b0ad1d-5b05-42ce-ab75-b3b9ab2ff2f7",
   "metadata": {},
   "outputs": [],
   "source": [
    "for i in range(len(wiki)):\n",
    "    del wiki[str(i)]['corpus_source']\n",
    "    del wiki[str(i)]['domain']\n",
    "    del wiki[str(i)]['author']\n",
    "    del wiki[str(i)]['html']\n",
    "    del wiki[str(i)]['document_id']\n",
    "    del wiki[str(i)]['url']"
   ]
  },
  {
   "cell_type": "code",
   "execution_count": 107,
   "id": "bad1bbbb-4f0f-46c0-91b1-89f1df8e39c4",
   "metadata": {
    "tags": []
   },
   "outputs": [
    {
     "data": {
      "text/plain": [
       "{'text': '히라가나(平仮名, ひらがな, Hiragana)는 일본어에서 사용하는 두 가지 가나 중 하나이다. 가타카나는 주로 외래어 표기 등에 쓰이고, 히라가나는 다음과 같은 용도로 쓰인다.\\n\\n* 동사의 활용 어미, 조사, 조동사\\n* 일본 고유어로서 해당 한자가 없는 단어, 또는 해당하는 한자가 잘 쓰이지 않는 어려운 글자일 경우.\\n* 어린이가 사용하는 일본어의 뉘앙스를 보여 주고 싶을 때\\n\\n히라가나는 여성이 많이 썼다고 한다. 그래서 온나데(女手; おんなで)라고 불린 적도 있다. 이런 이유로 히라가나는 여자들만 쓰는 글이라 하여, 오랫동안 일본의 공용 문서에선 가타카나와 한자(칸지)만이 사용되었다. 현재 일본 철도의 역명판에는 히라가나와 칸지가 적혀 있다. 히라가나는 헤이안 시대부터 쓰인 것으로 알려져 있다. 일본의 유아들도 가나를 배울 때는 히라가나를 먼저 배우고 가타카나를 나중에 배우기 때문에 유아용 그림책 등에는 가타카나로 쓰인 단어 위에 히라가나를 후리가나로 덧붙이기도 한다. 음절문자이다.\\n\\n한영 자판 상태에서 히라가나를 입력할 경우 ㄸ+한자 키를 누르면 된다. 가타카나의 경우 장음 등 일부 문자를 제외하면, 꼭 ㅃ+한자 조합을 해야 한다.',\n",
       " 'title': '히라가나'}"
      ]
     },
     "execution_count": 107,
     "metadata": {},
     "output_type": "execute_result"
    }
   ],
   "source": [
    "wiki['13']"
   ]
  },
  {
   "cell_type": "code",
   "execution_count": 108,
   "id": "831f106e-6e02-4046-aecf-40bce8615667",
   "metadata": {},
   "outputs": [],
   "source": [
    "import re\n",
    "  \n",
    "rez = []\n",
    "for wiki_id, wik in wiki.items():\n",
    "    text = wik['text']\n",
    "    text = re.sub(r\"[!/~\\-\\.\\+“”%°〈〉<>＜＞・「」;*≪≫·《》‘’『』\\\"\\'_ :(),\\[\\]=-ㅣぁ-ゔァ-ヴー々〆〤一-龥]|\\n\"\n",
    ", '', text)\n",
    "    \n",
    "    \n",
    "    wiki[wiki_id]['text'] = text\n",
    "          "
   ]
  },
  {
   "cell_type": "code",
   "execution_count": 109,
   "id": "1e93a0c4-ea10-4029-bebc-07c96fc68b67",
   "metadata": {},
   "outputs": [
    {
     "name": "stdout",
     "output_type": "stream",
     "text": [
      "[!/~\\-\\.\\+“”%°〈〉<>＜＞・「」≪≫·《》‘’『』\"'_ :(),\\[\\]=a-zA-Z0-9가-힣ㄱ-ㅎㅏ-ㅣぁ-ゔァ-ヴー々〆〤一-龥]\n"
     ]
    }
   ],
   "source": [
    "print(\"[!/~\\-\\.\\+“”%°〈〉<>＜＞・「」≪≫·《》‘’『』\\\"\\'_ :(),\\[\\]=a-zA-Z0-9가-힣ㄱ-ㅎㅏ-ㅣぁ-ゔァ-ヴー々〆〤一-龥]\")"
   ]
  },
  {
   "cell_type": "code",
   "execution_count": 110,
   "id": "da885a3a-ac65-4d89-9a88-4c874ea4a8a1",
   "metadata": {
    "tags": []
   },
   "outputs": [
    {
     "data": {
      "text/plain": [
       "{'text': '설문지작성은실험계획의일부이기도하지만대개별개의실습을통해체득하여야한다설문지는앙케이트라고도하며통계자료에필요한자료를수집하기위해필요한질문들을기록하는하나의서식이다이를이용해설문지작성자응답자들의객관적인생각각자의가치와신념태도등과같은여러정보를수집할수있다설문지는가능한표준화되도록작성해야한다필요한정보를더욱포괄적으로획득하기위해설문지는다섯가지요소응답자에대한협조요청식별자료지시사항설문문항응답자의분류를위한자료로구성된다설문지는여러번수정검토과정을거쳐야의도한자료의수집이가능하다설문지를이용한통계자료수집은비교적비용이적게들고큰표본에도쉽게적용이가능하다는장점이있다그러나다른자료수집방법에비해무응답률이높은편이며응답에대한보충설명의기회가주어지지않는다는단점이있다',\n",
       " 'title': '통계학'}"
      ]
     },
     "execution_count": 110,
     "metadata": {},
     "output_type": "execute_result"
    }
   ],
   "source": [
    "wiki['20']"
   ]
  },
  {
   "cell_type": "code",
   "execution_count": 111,
   "id": "91a943bf-01f4-4e55-b93a-29e8e9488bfb",
   "metadata": {},
   "outputs": [],
   "source": [
    "INDEX_NAME = 'wiki'\n",
    "index_config = {\n",
    "        \"settings\": {\n",
    "            \"analysis\": {\n",
    "                \"filter\":{\n",
    "                    \"my_stop_filter\": {\n",
    "                        \"type\" : \"stop\",\n",
    "                        \"stopwords_path\" : \"my_stopwords.txt\"\n",
    "                    }\n",
    "                },\n",
    "                \"analyzer\": {\n",
    "                    \"nori_analyzer\": {\n",
    "                        \"type\": \"custom\",\n",
    "                        \"tokenizer\": \"nori_tokenizer\",\n",
    "                        \"decompound_mode\": \"mixed\",\n",
    "                        \"filter\" : [\"my_stop_filter\"]\n",
    "                    }\n",
    "                }\n",
    "            }\n",
    "        },\n",
    "        \"mappings\": {\n",
    "            \"dynamic\": \"strict\", \n",
    "            \"properties\": {\n",
    "                \"text\": {\"type\": \"text\", \"analyzer\": \"nori_analyzer\"},\n",
    "                \"title\":{\"type\": \"text\"}\n",
    "                }\n",
    "            }\n",
    "        }"
   ]
  },
  {
   "cell_type": "code",
   "execution_count": 112,
   "id": "445ebc09-d1f6-46c1-9d8d-9ce74682e6ed",
   "metadata": {},
   "outputs": [
    {
     "name": "stderr",
     "output_type": "stream",
     "text": [
      "<ipython-input-112-8e43a035bc5f>:3: DeprecationWarning: The 'body' parameter is deprecated for the 'create' API and will be removed in a future version. Instead use API parameters directly. See https://github.com/elastic/elasticsearch-py/issues/1698 for more information\n",
      "  es.indices.create(index=index_name, body=index_config)\n"
     ]
    },
    {
     "data": {
      "text/plain": [
       "{'acknowledged': True, 'shards_acknowledged': True, 'index': 'wiki'}"
      ]
     },
     "execution_count": 112,
     "metadata": {},
     "output_type": "execute_result"
    }
   ],
   "source": [
    "if es.indices.exists(index=INDEX_NAME):\n",
    "    es.indices.delete(index=INDEX_NAME)\n",
    "es.indices.create(index=index_name, body=index_config)"
   ]
  },
  {
   "cell_type": "code",
   "execution_count": null,
   "id": "1779a360-e289-4600-bd7d-ac7c6274a5bc",
   "metadata": {},
   "outputs": [
    {
     "name": "stderr",
     "output_type": "stream",
     "text": [
      "  0%|          | 0/60613 [00:00<?, ?it/s]<ipython-input-113-a14402c2e067>:6: DeprecationWarning: The 'body' parameter is deprecated for the 'index' API and will be removed in a future version. Instead use the 'document' parameter. See https://github.com/elastic/elasticsearch-py/issues/1698 for more information\n",
      "  es.index(index=INDEX_NAME, id=doc_id, body=doc)\n",
      "  2%|▏         | 1466/60613 [02:36<1:45:58,  9.30it/s]"
     ]
    }
   ],
   "source": [
    "import time\n",
    "import tqdm\n",
    "\n",
    "for doc_id, doc in tqdm.tqdm(wiki.items(),total=len(wiki)):\n",
    "    \n",
    "    es.index(index=INDEX_NAME, id=doc_id, body=doc)\n",
    "    time.sleep(0.1)\n"
   ]
  },
  {
   "cell_type": "code",
   "execution_count": null,
   "id": "bb813376-d81d-436b-8b66-db7c321227d0",
   "metadata": {},
   "outputs": [],
   "source": [
    "import pprint\n",
    "doc = es.get(index=INDEX_NAME, id=60000)\n",
    "pprint.pprint(doc)"
   ]
  },
  {
   "cell_type": "code",
   "execution_count": null,
   "id": "9602af14-b319-4ad1-b3aa-23977d864c96",
   "metadata": {},
   "outputs": [],
   "source": [
    "tv = es.termvectors(index=INDEX_NAME, id=2,body={\"fields\" : [\"content\",\"title\"]})"
   ]
  },
  {
   "cell_type": "code",
   "execution_count": null,
   "id": "e5235f03-b931-446b-addc-a03b7d73259b",
   "metadata": {},
   "outputs": [],
   "source": [
    "pprint.pprint(tv)"
   ]
  },
  {
   "cell_type": "code",
   "execution_count": null,
   "id": "aec6733c-8a0b-4bef-b2b4-ba3ea806d04c",
   "metadata": {
    "tags": []
   },
   "outputs": [],
   "source": [
    "query = \"12세기에 제작된 본존불은 보통 어떤 나라의 특징이 전파되었나요?\" #특수문자 검색시 에러\n",
    "res = es.search(index=INDEX_NAME, q=query, size=5)\n",
    "pprint.pprint(res)"
   ]
  },
  {
   "cell_type": "code",
   "execution_count": null,
   "id": "e7a1112e-9fe5-4642-b5fa-4c3caf10c488",
   "metadata": {},
   "outputs": [],
   "source": [
    "for hit in res['hits']['hits']:\n",
    "    print(\"Doc ID: %3r  Score: %5.2f\" % (hit['_id'], hit['_score']))"
   ]
  },
  {
   "cell_type": "markdown",
   "id": "22d86156-6c24-4f49-a1e2-72063d19b309",
   "metadata": {},
   "source": [
    "# train valid 데이터 호출"
   ]
  },
  {
   "cell_type": "code",
   "execution_count": null,
   "id": "85482306-c126-4254-b0ec-5a0870308589",
   "metadata": {},
   "outputs": [],
   "source": [
    "from datasets import load_dataset"
   ]
  },
  {
   "cell_type": "code",
   "execution_count": null,
   "id": "f08d5ced-2834-4964-b233-40bc69b82003",
   "metadata": {},
   "outputs": [],
   "source": [
    "path_train = '../data/train_dataset'"
   ]
  },
  {
   "cell_type": "code",
   "execution_count": null,
   "id": "c87a764e-4a9b-4d71-bce7-5088ba78ca21",
   "metadata": {},
   "outputs": [],
   "source": [
    "\n",
    "from datasets import load_from_disk\n",
    "trainpath = \"../data/train_dataset\"\n",
    "testpath = \"../data/test_dataset\"\n",
    "train_data = load_from_disk(trainpath)\n",
    "test_data = load_from_disk(testpath)\n",
    "import datasets\n",
    "import pandas as pd\n",
    "import re\n",
    "import pandas as pd"
   ]
  },
  {
   "cell_type": "code",
   "execution_count": null,
   "id": "0df6300b-7291-46ae-a109-cbd50f6017ba",
   "metadata": {},
   "outputs": [],
   "source": [
    "train = train_data['train']"
   ]
  },
  {
   "cell_type": "code",
   "execution_count": null,
   "id": "95f087f7-1597-4cb5-981e-17c228cbcd33",
   "metadata": {},
   "outputs": [],
   "source": [
    "question = train['question']"
   ]
  },
  {
   "cell_type": "code",
   "execution_count": null,
   "id": "bf36918a-3d6c-43af-ad26-a86ea5547d90",
   "metadata": {},
   "outputs": [],
   "source": [
    "question[0]"
   ]
  },
  {
   "cell_type": "code",
   "execution_count": null,
   "id": "9592fb5f-385a-442a-af52-38ea1de02093",
   "metadata": {},
   "outputs": [],
   "source": [
    "train[0]"
   ]
  },
  {
   "cell_type": "markdown",
   "id": "b73eb4c4-579e-4a64-a83e-fc3e43c6a316",
   "metadata": {},
   "source": [
    "## 성능 비교 툴"
   ]
  },
  {
   "cell_type": "code",
   "execution_count": null,
   "id": "014ba6ec-1773-4929-884c-bf9303b6de38",
   "metadata": {},
   "outputs": [],
   "source": [
    "type(res)"
   ]
  },
  {
   "cell_type": "code",
   "execution_count": null,
   "id": "7460db5d-165f-445d-8318-e2d7c93d0f00",
   "metadata": {
    "tags": []
   },
   "outputs": [],
   "source": [
    "res['hits']['hits'][0]['_source']['title']"
   ]
  },
  {
   "cell_type": "code",
   "execution_count": null,
   "id": "f49851dc-7685-41f9-acdd-85be1b581607",
   "metadata": {
    "tags": []
   },
   "outputs": [],
   "source": [
    "k = 0\n",
    "for i in range(len(train)):\n",
    "    title = train['title'][i] \n",
    "    question = train['question'][i]\n",
    "    query = question\n",
    "    answers = train[i]['answers']['text'][0]\n",
    "    answers = re.sub(r\"[!/~\\-\\.\\+“”%°〈〉<>＜＞・「」;*≪≫·《》‘’『』\\\"\\'_ :(),\\[\\]=-ㅣぁ-ゔァ-ヴー々〆〤一-龥]|\\n\"\n",
    ", '', answers)\n",
    "    query = re.sub(r\"[!/~\\-\\.\\+“”%°〈〉<>＜＞・「」;*≪≫·《》‘’『』\\\"\\'_ :(),\\[\\]=-ㅣぁ-ゔァ-ヴー々〆〤一-龥]|\\n\"\n",
    ", '', query)\n",
    "    res = es.search(index=INDEX_NAME, q=query, size=15)# 5개 찾기!\n",
    "    for j in range(10):\n",
    "        res_text = res['hits']['hits'][0]['_source']['text']\n",
    "        if answers in res_text:\n",
    "            k += 1            \n",
    "            break\n",
    "            \n",
    "print(k)\n",
    "        \n",
    "    "
   ]
  },
  {
   "cell_type": "code",
   "execution_count": null,
   "id": "8c9d8049-92cd-41a0-8621-df939c8559d5",
   "metadata": {},
   "outputs": [],
   "source": [
    "print(k/len(train))"
   ]
  },
  {
   "cell_type": "code",
   "execution_count": null,
   "id": "4a6a15d1-e776-4d45-9b2e-e94bc75dd13b",
   "metadata": {},
   "outputs": [],
   "source": []
  },
  {
   "cell_type": "code",
   "execution_count": null,
   "id": "c9e62648-89f2-4d04-9ef0-08916b3a3ab5",
   "metadata": {},
   "outputs": [],
   "source": [
    "len(train)"
   ]
  },
  {
   "cell_type": "code",
   "execution_count": 188,
   "id": "c661e512-d8d8-4426-a096-7ce2f20ac55c",
   "metadata": {},
   "outputs": [
    {
     "data": {
      "text/plain": [
       "DatasetDict({\n",
       "    validation: Dataset({\n",
       "        features: ['id', 'question'],\n",
       "        num_rows: 600\n",
       "    })\n",
       "})"
      ]
     },
     "execution_count": 188,
     "metadata": {},
     "output_type": "execute_result"
    }
   ],
   "source": [
    "test_data"
   ]
  },
  {
   "cell_type": "code",
   "execution_count": null,
   "id": "6429ec12-af66-4151-bd48-78899a6f59be",
   "metadata": {},
   "outputs": [],
   "source": []
  }
 ],
 "metadata": {
  "kernelspec": {
   "display_name": "Python 3 (ipykernel)",
   "language": "python",
   "name": "python3"
  },
  "language_info": {
   "codemirror_mode": {
    "name": "ipython",
    "version": 3
   },
   "file_extension": ".py",
   "mimetype": "text/x-python",
   "name": "python",
   "nbconvert_exporter": "python",
   "pygments_lexer": "ipython3",
   "version": "3.8.5"
  }
 },
 "nbformat": 4,
 "nbformat_minor": 5
}
