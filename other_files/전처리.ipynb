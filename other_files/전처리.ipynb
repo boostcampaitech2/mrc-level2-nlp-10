{
 "cells": [
  {
   "cell_type": "markdown",
   "id": "460d6654-648a-4cbe-9166-f227acc89864",
   "metadata": {},
   "source": [
    "### data import"
   ]
  },
  {
   "cell_type": "code",
   "execution_count": 19,
   "id": "7dae9108-4f37-4cc0-b4b3-2b6afb62b4fd",
   "metadata": {},
   "outputs": [],
   "source": [
    "from datasets import load_from_disk\n",
    "trainpath = \"../data/train_dataset\"\n",
    "testpath = \"../data/test_dataset\"\n",
    "train_data = load_from_disk(trainpath)\n",
    "test_data = load_from_disk(testpath)\n",
    "import datasets\n",
    "import pandas as pd\n",
    "import re\n",
    "import pandas as pd"
   ]
  },
  {
   "cell_type": "code",
   "execution_count": 20,
   "id": "0a01b47f-0f17-4a7a-8799-a62efdecc1a5",
   "metadata": {},
   "outputs": [],
   "source": [
    "train = train_data['train']\n",
    "valid = train_data['validation']\n",
    "test = test_data['validation']"
   ]
  },
  {
   "cell_type": "code",
   "execution_count": 21,
   "id": "2e9b5605-bbe0-476d-85f1-2ef3863a4324",
   "metadata": {
    "collapsed": true,
    "jupyter": {
     "outputs_hidden": true
    },
    "tags": []
   },
   "outputs": [
    {
     "data": {
      "text/plain": [
       "{'title': '황해 해전 (1894년)',\n",
       " 'context': '이후, 여순항에 피항한 북양함대는 일본 육군에 의해 육지로부터 포위될 뻔 했다. 북양함대는 여순항을 겨우 빠져나와 산동의 웨이하이웨이로 갔지만 일본 해군의 추격으로 결국 항복했다. 일본이 황해의 제해권을 차지함으로써 대륙으로 일본 육군이 진격하는 일이 수월해졌다.\\\\n\\\\n세계 해군사의 전술적 측면에서 볼 때도 단종진에 의한 속사포격전술의 유효성이 널리 알려지는 계기가 됐고, 해전의 기본전술 중 하나로 정착됐다. 일본해군에서는 고속, 속사 전술을 주로한 부대(황해해전의 경우 별동대인 제1유격대)와 저속의 중무장 함대(연합함대본대)가 분업하여 운용되는 형태의 교리가 1945년 패전시까지 유지됐다. 서양에서도 제1차 세계 대전에서 영국과 독일 양국이 전함부대와 고속순양함 부대를 나눠 운용하는 등 황해 해전의 일본해군의 전술은 근현대 해전에 많은 영향을 끼쳤다.\\\\n\\\\n단, 일본 해군 내에서 지적됐던 점은 속도가 느린 함이 청나라 해군의 한가운데에 남겨지거나, 다른 함정의 사격 선상에 다른 배가 끼어들어 포격을 방해한다던지 하는 것이었다. 기함이 대파되어 추격을 단념했던 것에 대해서도, 한층 더 추격해 공격을 속행해야 했다는 지적도 있었다. 한편 일본해군은 전투종료 후, 침몰한 함정에서 탈출해서 바다에 빠진 청국수병들을 한 명도 구조하지 않고 죽게 내버려 뒀다. 이 일은 매우 비인도주의적이며 전근대적인 처사로 당시 국제적으로도 크게 비난 받았고 일본제국주의의 앞날이 매우 인명경시적이며 광기에 어린 핏빛 미래가 될 것을 상징적으로 보여준 행태였다.\\\\n\\\\n청나라는 황해 해전의 패배를 북양함대를 창설한 이홍장과 제독 정여창의 책임으로 돌렸으며, 정여창은 음독자살하고, 적전 도망했던 제원함 함장 방백겸 등이 참수됐다. 이 전투를 계기로 청일 전쟁에서 승기는 일본으로 급격히 넘어가게 되었으며, 청나라 황실은 권위를 잃게 되었고 그 틈을 타고 민족주의와 새로운 혁명의 불길이 중국 내부에서 거세게 타오르게 되었다.',\n",
       " 'question': '정여창은 어떻게 죽었나?',\n",
       " 'id': 'mrc-1-000128',\n",
       " 'answers': {'answer_start': [817], 'text': ['음독자살']},\n",
       " 'document_id': 26376,\n",
       " '__index_level_0__': 80}"
      ]
     },
     "execution_count": 21,
     "metadata": {},
     "output_type": "execute_result"
    }
   ],
   "source": [
    "train[10]"
   ]
  },
  {
   "cell_type": "code",
   "execution_count": 22,
   "id": "f1afd4eb-9c38-4c7d-b88c-f35cee2c7231",
   "metadata": {},
   "outputs": [
    {
     "data": {
      "text/plain": [
       "Dataset({\n",
       "    features: ['id', 'question'],\n",
       "    num_rows: 600\n",
       "})"
      ]
     },
     "execution_count": 22,
     "metadata": {},
     "output_type": "execute_result"
    }
   ],
   "source": [
    "test "
   ]
  },
  {
   "cell_type": "markdown",
   "id": "a1eab8d7-6d7b-402d-a4fd-96dfb5c970fe",
   "metadata": {
    "tags": []
   },
   "source": [
    "### preporcess"
   ]
  },
  {
   "cell_type": "code",
   "execution_count": 23,
   "id": "bc845399-613d-4bde-9c2f-fa10899e1e1b",
   "metadata": {},
   "outputs": [],
   "source": [
    "# 전처리 특수문자 제거"
   ]
  },
  {
   "cell_type": "code",
   "execution_count": 24,
   "id": "f5aea0f6-b59c-451c-b111-0739e0e02cfb",
   "metadata": {},
   "outputs": [],
   "source": [
    "special = \"[\\(|\\)|n|\\\\\\]\"\n"
   ]
  },
  {
   "cell_type": "markdown",
   "id": "b5b3a42e-ea82-4747-9250-50be3abb2144",
   "metadata": {},
   "source": [
    "dataset생성법"
   ]
  },
  {
   "cell_type": "code",
   "execution_count": 34,
   "id": "4ffdee5d-4cc1-4fff-937c-058413d6b0a0",
   "metadata": {},
   "outputs": [],
   "source": [
    "def data_split_preprocess_tocsv(dataset,special):\n",
    "    ans_id = dataset['id']\n",
    "    title = dataset['title']\n",
    "    question = dataset['question']#\n",
    "    answers = dataset['answers']#\n",
    "    context = dataset['context']#\n",
    "    preprocessed_context = []\n",
    "    preprocessed_answers = []\n",
    "    for i in range(len(ans_id)):\n",
    "        ans_text = answers[i]['text'][0]\n",
    "        ans_idx = answers[i]['answer_start'][0]\n",
    "        con_text = context[i]\n",
    "        pre_ans = re.sub(special,' ', ans_text)\n",
    "        pre_con = re.sub(special,' ', con_text)\n",
    "        preprocessed_context.append(pre_con)\n",
    "        preprocessed_answers.append(pre_ans)    \n",
    "    df = pd.DataFrame({'id':ans_id,'question':question,'context':preprocessed_context,'answers':preprocessed_answers,'idx':ans_idx})\n",
    "    print('preprocess end')\n",
    "    return df"
   ]
  },
  {
   "cell_type": "code",
   "execution_count": 35,
   "id": "f2f18fd6-eaf4-4a0c-b924-baf65fa198fa",
   "metadata": {},
   "outputs": [
    {
     "name": "stdout",
     "output_type": "stream",
     "text": [
      "preprocess end\n",
      "preprocess end\n"
     ]
    }
   ],
   "source": [
    "df = data_split_preprocess_tocsv(train,special)\n",
    "va_df = data_split_preprocess_tocsv(valid,special)"
   ]
  },
  {
   "cell_type": "code",
   "execution_count": null,
   "id": "a7b4dce6-5ab5-400d-acf0-64aaa9049e78",
   "metadata": {},
   "outputs": [],
   "source": [
    "df.to_csv('tr.csv',index = False)\n",
    "va_df.to_csv('va.csv',index = False)"
   ]
  },
  {
   "cell_type": "code",
   "execution_count": 210,
   "id": "44f04d0f-7732-456f-8af9-6d5df73beb34",
   "metadata": {
    "collapsed": true,
    "jupyter": {
     "outputs_hidden": true
    },
    "tags": []
   },
   "outputs": [
    {
     "name": "stderr",
     "output_type": "stream",
     "text": [
      "Using custom data configuration default-d503879c06162ce5\n"
     ]
    },
    {
     "name": "stdout",
     "output_type": "stream",
     "text": [
      "Downloading and preparing dataset csv/default (download: Unknown size, generated: Unknown size, post-processed: Unknown size, total: Unknown size) to /opt/ml/.cache/huggingface/datasets/csv/default-d503879c06162ce5/0.0.0/2dc6629a9ff6b5697d82c25b73731dd440507a69cbce8b425db50b751e8fcfd0...\n"
     ]
    },
    {
     "data": {
      "application/vnd.jupyter.widget-view+json": {
       "model_id": "",
       "version_major": 2,
       "version_minor": 0
      },
      "text/plain": [
       "0 tables [00:00, ? tables/s]"
      ]
     },
     "metadata": {},
     "output_type": "display_data"
    },
    {
     "data": {
      "application/vnd.jupyter.widget-view+json": {
       "model_id": "",
       "version_major": 2,
       "version_minor": 0
      },
      "text/plain": [
       "0 tables [00:00, ? tables/s]"
      ]
     },
     "metadata": {},
     "output_type": "display_data"
    },
    {
     "name": "stdout",
     "output_type": "stream",
     "text": [
      "Dataset csv downloaded and prepared to /opt/ml/.cache/huggingface/datasets/csv/default-d503879c06162ce5/0.0.0/2dc6629a9ff6b5697d82c25b73731dd440507a69cbce8b425db50b751e8fcfd0. Subsequent calls will reuse this data.\n"
     ]
    }
   ],
   "source": [
    "newdataset =load_dataset('csv',data_files={'train': ['tr.csv'],\n",
    "                                              'valid': ['va.csv']})"
   ]
  },
  {
   "cell_type": "code",
   "execution_count": 218,
   "id": "78ea8599-437f-4fa3-a1f4-9b1e92ecb7dc",
   "metadata": {},
   "outputs": [],
   "source": [
    "newdataset.save_to_disk(\"data\")"
   ]
  },
  {
   "cell_type": "code",
   "execution_count": 219,
   "id": "661bb716-57a6-4ff6-aef1-afed0165205a",
   "metadata": {},
   "outputs": [
    {
     "name": "stdout",
     "output_type": "stream",
     "text": [
      "data/\n",
      "data/train/\n",
      "data/train/csv-train.arrow\n",
      "data/train/state.json\n",
      "data/train/dataset_info.json\n",
      "data/valid/\n",
      "data/valid/state.json\n",
      "data/valid/dataset_info.json\n",
      "data/valid/csv-valid.arrow\n",
      "data/dataset_dict.json\n"
     ]
    }
   ],
   "source": [
    "!tar -cvf data.tar data"
   ]
  },
  {
   "cell_type": "code",
   "execution_count": null,
   "id": "ce199ab4-46f6-4b3f-a4a0-a795a81d74f6",
   "metadata": {},
   "outputs": [],
   "source": []
  }
 ],
 "metadata": {
  "kernelspec": {
   "display_name": "Python 3 (ipykernel)",
   "language": "python",
   "name": "python3"
  },
  "language_info": {
   "codemirror_mode": {
    "name": "ipython",
    "version": 3
   },
   "file_extension": ".py",
   "mimetype": "text/x-python",
   "name": "python",
   "nbconvert_exporter": "python",
   "pygments_lexer": "ipython3",
   "version": "3.8.5"
  }
 },
 "nbformat": 4,
 "nbformat_minor": 5
}
