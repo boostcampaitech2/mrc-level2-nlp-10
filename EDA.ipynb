{
 "cells": [
  {
   "cell_type": "code",
   "execution_count": 1,
   "metadata": {},
   "outputs": [
    {
     "data": {
      "text/plain": [
       "datasets.dataset_dict.DatasetDict"
      ]
     },
     "execution_count": 1,
     "metadata": {},
     "output_type": "execute_result"
    }
   ],
   "source": [
    "from datasets import load_from_disk\n",
    "\n",
    "datasets = load_from_disk('../data/train_dataset')\n",
    "type(datasets)"
   ]
  },
  {
   "cell_type": "markdown",
   "metadata": {},
   "source": [
    "## datasets의 형태"
   ]
  },
  {
   "cell_type": "code",
   "execution_count": 2,
   "metadata": {},
   "outputs": [
    {
     "data": {
      "text/plain": [
       "DatasetDict({\n",
       "    train: Dataset({\n",
       "        features: ['title', 'context', 'question', 'id', 'answers', 'document_id', '__index_level_0__'],\n",
       "        num_rows: 3952\n",
       "    })\n",
       "    validation: Dataset({\n",
       "        features: ['title', 'context', 'question', 'id', 'answers', 'document_id', '__index_level_0__'],\n",
       "        num_rows: 240\n",
       "    })\n",
       "})"
      ]
     },
     "execution_count": 2,
     "metadata": {},
     "output_type": "execute_result"
    }
   ],
   "source": [
    "datasets"
   ]
  },
  {
   "cell_type": "markdown",
   "metadata": {},
   "source": [
    "## train 데이터의 형태"
   ]
  },
  {
   "cell_type": "code",
   "execution_count": 3,
   "metadata": {},
   "outputs": [
    {
     "data": {
      "text/plain": [
       "Dataset({\n",
       "    features: ['title', 'context', 'question', 'id', 'answers', 'document_id', '__index_level_0__'],\n",
       "    num_rows: 3952\n",
       "})"
      ]
     },
     "execution_count": 3,
     "metadata": {},
     "output_type": "execute_result"
    }
   ],
   "source": [
    "datasets = datasets['train']\n",
    "datasets"
   ]
  },
  {
   "cell_type": "code",
   "execution_count": 4,
   "metadata": {},
   "outputs": [],
   "source": [
    "title = datasets['title']\n",
    "context = datasets['context']\n",
    "question = datasets['question']\n",
    "id = datasets['id']\n",
    "answers = datasets['answers']\n",
    "document_id = datasets['document_id']"
   ]
  },
  {
   "cell_type": "markdown",
   "metadata": {},
   "source": [
    "## answers의 길이 비교"
   ]
  },
  {
   "cell_type": "code",
   "execution_count": 6,
   "metadata": {},
   "outputs": [
    {
     "data": {
      "text/plain": [
       "(1, 83)"
      ]
     },
     "execution_count": 6,
     "metadata": {},
     "output_type": "execute_result"
    }
   ],
   "source": [
    "min_len = 1e9\n",
    "max_len = 0\n",
    "data = []\n",
    "for list_ in answers:\n",
    "    max_len = max(max_len, len(list_['text'][0]))\n",
    "    min_len = min(min_len, len(list_['text'][0]))\n",
    "    data.append(len(list_['text'][0]))\n",
    "\n",
    "min_len, max_len"
   ]
  },
  {
   "cell_type": "code",
   "execution_count": 7,
   "metadata": {},
   "outputs": [
    {
     "data": {
      "image/png": "[encoded data removed]",
      "text/plain": [
       "<Figure size 720x720 with 1 Axes>"
      ]
     },
     "metadata": {
      "needs_background": "light"
     },
     "output_type": "display_data"
    }
   ],
   "source": [
    "import matplotlib.pyplot as plt\n",
    "\n",
    "fig = plt.figure(figsize=(10,10))\n",
    "plt.hist(data, bins=84)\n",
    "plt.show()"
   ]
  },
  {
   "cell_type": "markdown",
   "metadata": {},
   "source": [
    "## Context의 길이 비교"
   ]
  },
  {
   "cell_type": "code",
   "execution_count": 8,
   "metadata": {},
   "outputs": [
    {
     "data": {
      "text/plain": [
       "'미국 상의원 또는 미국 상원(United States Senate)은 양원제인 미국 의회의 상원이다.\\\\n\\\\n미국 부통령이 상원의장이 된다. 각 주당 2명의 상원의원이 선출되어 100명의 상원의원으로 구성되어 있다. 임기는 6년이며, 2년마다 50개주 중 1/3씩 상원의원을 새로 선출하여 연방에 보낸다.\\\\n\\\\n미국 상원은 미국 하원과는 다르게 미국 대통령을 수반으로 하는 미국 연방 행정부에 각종 동의를 하는 기관이다. 하원이 세금과 경제에 대한 권한, 대통령을 포함한 대다수의 공무원을 파면할 권한을 갖고 있는 국민을 대표하는 기관인 반면 상원은 미국의 주를 대표한다. 즉 캘리포니아주, 일리노이주 같이 주 정부와 주 의회를 대표하는 기관이다. 그로 인하여 군대의 파병, 관료의 임명에 대한 동의, 외국 조약에 대한 승인 등 신속을 요하는 권한은 모두 상원에게만 있다. 그리고 하원에 대한 견제 역할(하원의 법안을 거부할 권한 등)을 담당한다. 2년의 임기로 인하여 급진적일 수밖에 없는 하원은 지나치게 급진적인 법안을 만들기 쉽다. 대표적인 예로 건강보험 개혁 당시 하원이 미국 연방 행정부에게 퍼블릭 옵션(공공건강보험기관)의 조항이 있는 반면 상원의 경우 하원안이 지나치게 세금이 많이 든다는 이유로 퍼블릭 옵션 조항을 제외하고 비영리건강보험기관이나 보험회사가 담당하도록 한 것이다. 이 경우처럼 상원은 하원이나 내각책임제가 빠지기 쉬운 국가들의 국회처럼 걸핏하면 발생하는 의회의 비정상적인 사태를 방지하는 기관이다. 상원은 급박한 처리사항의 경우가 아니면 법안을 먼저 내는 경우가 드물고 하원이 만든 법안을 수정하여 다시 하원에 되돌려보낸다. 이러한 방식으로 단원제가 빠지기 쉬운 함정을 미리 방지하는 것이다.날짜=2017-02-05'"
      ]
     },
     "execution_count": 8,
     "metadata": {},
     "output_type": "execute_result"
    }
   ],
   "source": [
    "context[0]"
   ]
  },
  {
   "cell_type": "code",
   "execution_count": 9,
   "metadata": {},
   "outputs": [
    {
     "data": {
      "text/plain": [
       "(512, 2059)"
      ]
     },
     "execution_count": 9,
     "metadata": {},
     "output_type": "execute_result"
    }
   ],
   "source": [
    "min_len = 1e9\n",
    "max_len = 0\n",
    "data = []\n",
    "for con in context:\n",
    "    max_len = max(max_len, len(con))\n",
    "    min_len = min(min_len, len(con))\n",
    "    data.append(len(con))\n",
    "\n",
    "min_len, max_len"
   ]
  },
  {
   "cell_type": "code",
   "execution_count": 10,
   "metadata": {},
   "outputs": [
    {
     "data": {
      "image/png": "[encoded data removed]",
      "text/plain": [
       "<Figure size 720x720 with 1 Axes>"
      ]
     },
     "metadata": {
      "needs_background": "light"
     },
     "output_type": "display_data"
    }
   ],
   "source": [
    "fig = plt.figure(figsize=(10,10))\n",
    "plt.hist(data, bins=84)\n",
    "plt.show()"
   ]
  },
  {
   "cell_type": "code",
   "execution_count": 11,
   "metadata": {},
   "outputs": [
    {
     "name": "stdout",
     "output_type": "stream",
     "text": [
      "그는 전라남도 고흥군에 태어나 조선대학교 생물학과를 졸업하고 순천고등학교와 광주고등학교에서 생물 교사로 부임하여 생물을 가르쳤다. 부인 서복영(전 한려대학교 총장) 역시 고등학교에서 가정을 가르치던 평범한 교사였다. 이들 부부는 광주광역시에서 목욕탕을 운영해 돈을 모았고, 1977년 부동산에 투자해 모은 5천만원으로 자신들의 이름 가운데 글자를 따서 ‘홍복학원’을 설립했다. 이씨부부는 79년옥천여자상업고등학교를 시작으로, 1991년에 서남대학교, 1993년에 광주예술대학교, 1995년에 한려산업대학교(현재의 한려대학교) 등 3개 고등학교와 5대 대학교 등 총 8개의 학교를 설립했으나 모두 부실대학, 부실학원으로 판정을 받았다. 또한 남광병원과 녹십자병원을 인수한 뒤 이 중 녹십자병원을 서남대학교 부속병원으로 만들었다. 다만 설립한 대학교는 모두 부실대학으로 선정되는 등 많은 물의를 일으켰지만 설립한 고등학교 중에서 대광여자고등학교만은 엄청난 명문고교로 광주광역시 최고의 명문여고로 명성이 높았다. 대광여자고등학교는 광주는 물론이고 호남권에서도 대체로 서울대학교, 연세대학교, 고려대학교 등 명문대 합격생을 많이 배출하는 편이다. 이홍하가 대광여자고등학교만큼은 정성을 들인 이유가 자신이 설립한 학교들 중 하나만이라도 제대로 유지되어야 학교법인 홍복학원이 인가취소되는 일을 막을 수 있기 때문이며 대광여자고등학교는 그러한 목적으로 운영되는 학교이기 때문에 학교법인 홍복학원에서 가장 정성을 들이고 있다. \\n\\n1998년 12월, 교비 409억원을 횡령하고 이를 대학설립 및 인수비용, 자녀 유학비용으로 사용한 혐의로 구속 기소 된바 있으며 1심에서 징역 3년 2월, 2심에서 징역 1년 6월, 집행유예 2년을 선고받은 뒤 불과 2개월만에 사면·복권되었다. 당시 법무부장관이 고흥출신 국회의원인 이홍하의 고향 동창생인 박상천 이었다. 2007년 2월에도 서남대 교비 3억 8천만원을 횡령하여 개인 대출채무를 변제한 혐의로 기소되어 징역 1년 6월, 집행유예 2년 선고받은 바 있다. \\n\\n2012년, 그는 전국에 학교법인 7개를 설립하고 6개 대학을 운영하면서 1000억여원의 교비를 횡령한 혐의로 검찰에 의해 또 다시 구속 기소됐다. \\n이홍하는 횡령한 돈 가운데 12억원을 이홍하가 소유 하고 있는 대학의 재단 이사인 아들 이현성(의사,당시 국립암센터 근무)의 아파트 구입과 차량 유지비 등 사적인 곳에 쓴 것으로 조사됐다. 아들의 아파트 구입 때는 세탁 과정을 모두 15단계 거쳤고, 소환 불응과 진술 거부로 수사도 방해했다고 검찰은 전했다.\\n\\n교비 1000억원을 횡령한 혐의로 구속되었으나 이홍하는 법원의 병보석 허가로 2013년 2월 6일 풀려났다. 광주지법 순천지원 형사합의부(재판장 최영남)는 이날 ‘건강이 좋지 않고 증거인멸 우려가 없다’며 이홍하가 신청한 병보석을 허가했다. 이홍하는 오전 전남대병원에서 심장혈관 확장 시술을 받은 뒤 퇴원했다. 광주지검 순천지청은 ‘보석 허가는 국민의 법 감정에 어긋나는 결정’이라고 반발하며 항고할 방침을 세웠다. 이천세 순천지청 차장검사는 “이씨가 구속된 뒤에도 수사를 방해하고 증거의 조작과 인멸을 시도했다. 이홍하와 똑같은 시술을 받은 최시중 전 방송통신위원장도 법원은 수형생활을 할 수 있다며 그의 보석 신청을 기각했다”고 말했다.\\n\\n이홍하는 20여년간 교사로 활동하면서 폭넓은 법조 인맥을 형성하여 왔으며, 그의 사위 2명은 모두 법조인으로 활동하고 있다. 특히 본 사건의 재판장이 이홍하의 사위인 정재오 서울고법 판사와 서울대 법대 선후배 관계이자 연수원 동기(25회)라는 점에서 보석신청이 허가된 배경에 언론의 주목을 받기도 했다. \\n\\n그러나 2013년 여론에 의해 다시 재판을 하게 되었고 여기에서 이홍하는 징역 9년이라는 중형을 선고받았다. 이에 이홍하는 즉각적으로 항소를 실시했으나 오히려 항소하는 과정에서 추가혐의가 드러나는 바람에 감형은커녕 오히려 6개월이 증형되었다. \\n\\n이 와중에 2015년 8월 중순에 50대의 동료재소자와 시비가 붙어 폭행을 당해 병원 응급센터에 후송되어 중환자실에 입원했다. 갈비뼈가 부러지고 이로 인해 간이 부서젔으며 턱뼈가 으깨지는 등 중상을 입었다.\n"
     ]
    }
   ],
   "source": [
    "for con in context:\n",
    "    if len(con) == 2059:\n",
    "        print(con)"
   ]
  },
  {
   "cell_type": "markdown",
   "metadata": {},
   "source": [
    "## Question의 길이 비교"
   ]
  },
  {
   "cell_type": "code",
   "execution_count": 12,
   "metadata": {},
   "outputs": [
    {
     "data": {
      "text/plain": [
       "'대통령을 포함한 미국의 행정부 견제권을 갖는 국가 기관은?'"
      ]
     },
     "execution_count": 12,
     "metadata": {},
     "output_type": "execute_result"
    }
   ],
   "source": [
    "question[0]"
   ]
  },
  {
   "cell_type": "code",
   "execution_count": 13,
   "metadata": {},
   "outputs": [
    {
     "data": {
      "text/plain": [
       "(8, 78)"
      ]
     },
     "execution_count": 13,
     "metadata": {},
     "output_type": "execute_result"
    }
   ],
   "source": [
    "min_len = 1e9\n",
    "max_len = 0\n",
    "data = []\n",
    "for q in question:\n",
    "    max_len = max(max_len, len(q))\n",
    "    min_len = min(min_len, len(q))\n",
    "    data.append(len(q))\n",
    "\n",
    "min_len, max_len"
   ]
  },
  {
   "cell_type": "code",
   "execution_count": 14,
   "metadata": {},
   "outputs": [
    {
     "data": {
      "image/png": "[encoded data removed]",
      "text/plain": [
       "<Figure size 720x720 with 1 Axes>"
      ]
     },
     "metadata": {
      "needs_background": "light"
     },
     "output_type": "display_data"
    }
   ],
   "source": [
    "fig = plt.figure(figsize=(10,10))\n",
    "plt.hist(data, bins=84)\n",
    "plt.show()"
   ]
  },
  {
   "cell_type": "code",
   "execution_count": 15,
   "metadata": {},
   "outputs": [
    {
     "name": "stdout",
     "output_type": "stream",
     "text": [
      "사전처분에도 불구하고 양육 부모가 비양육 부모에게 아이를 보여주지 않을 때 위반 행위자에게 1천만원 이하의 과태료를 부과할 수 있는 제도는?\n"
     ]
    }
   ],
   "source": [
    "# 가장 긴 질문\n",
    "\n",
    "for q in question:\n",
    "    if len(q) > 70:\n",
    "        print(q)"
   ]
  },
  {
   "cell_type": "code",
   "execution_count": 16,
   "metadata": {},
   "outputs": [
    {
     "name": "stdout",
     "output_type": "stream",
     "text": [
      "우메노의 사인은?\n",
      "연희의 직업은?\n",
      "훈다손의 뜻은?\n",
      "삼존불의 재질은?\n"
     ]
    }
   ],
   "source": [
    "# 가장 짧은 질문\n",
    "\n",
    "for q in question:\n",
    "    if len(q) < 10:\n",
    "        print(q)"
   ]
  },
  {
   "cell_type": "markdown",
   "metadata": {},
   "source": [
    "## 답변의 형태"
   ]
  },
  {
   "cell_type": "code",
   "execution_count": null,
   "metadata": {},
   "outputs": [],
   "source": [
    "data_ = []\n",
    "for answer in answers:\n",
    "    if answer in data: continue\n",
    "    data_.append(answer)\n",
    "\n",
    "data_"
   ]
  },
  {
   "cell_type": "markdown",
   "metadata": {},
   "source": [
    "## 지문의 형태"
   ]
  },
  {
   "cell_type": "code",
   "execution_count": null,
   "metadata": {},
   "outputs": [],
   "source": [
    "import re\n",
    "\n",
    "com = re.compile(r'[가-힣a-zA-Z0-9]')\n",
    "\n",
    "data_ = []\n",
    "cnt=0\n",
    "for con in context:\n",
    "    con = com.sub('',con)\n",
    "    print(con)\n",
    "\n",
    "data_"
   ]
  },
  {
   "cell_type": "markdown",
   "metadata": {},
   "source": [
    "한자, 일본어 -> 대부분을 차지  \n",
    "한국어 중에서 ㅋㅋㅋㅋㅋ와 같은 자음만 존재하는 경우  \n",
    "\n",
    "Πάτραι : 헬라어?  \n",
    "المملوك : 아랍어  \n",
    "ðóð : 고대영어? or 베트남어?  \n",
    "क़ुली : 인도어  \n",
    "Φάλαγγα : 숫자기호  \n",
    "ὁπλίτης : 고대 그리스어  \n",
    "④ : 특수문자  \n",
    "ＭＳ ５, ８ : 문자기호들도 존재하는 듯  \n",
    "козаки́ : 우크라이나?  \n",
    "\n"
   ]
  }
 ],
 "metadata": {
  "interpreter": {
   "hash": "d4d1e4263499bec80672ea0156c357c1ee493ec2b1c70f0acce89fc37c4a6abe"
  },
  "kernelspec": {
   "display_name": "Python 3.8.5 64-bit ('base': conda)",
   "name": "python3"
  },
  "language_info": {
   "codemirror_mode": {
    "name": "ipython",
    "version": 3
   },
   "file_extension": ".py",
   "mimetype": "text/x-python",
   "name": "python",
   "nbconvert_exporter": "python",
   "pygments_lexer": "ipython3",
   "version": "3.8.5"
  },
  "orig_nbformat": 4
 },
 "nbformat": 4,
 "nbformat_minor": 2
}
